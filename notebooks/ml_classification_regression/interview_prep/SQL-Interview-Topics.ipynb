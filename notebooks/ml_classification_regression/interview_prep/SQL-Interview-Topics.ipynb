{
 "cells": [
  {
   "cell_type": "markdown",
   "metadata": {},
   "source": [
    "# Statistics Interview Topics"
   ]
  },
  {
   "cell_type": "code",
   "execution_count": null,
   "metadata": {},
   "outputs": [],
   "source": [
    "JOINS\n",
    "    "
   ]
  },
  {
   "cell_type": "code",
   "execution_count": null,
   "metadata": {},
   "outputs": [],
   "source": []
  },
  {
   "cell_type": "raw",
   "metadata": {},
   "source": [
    "WINDOW FUNCTIONS\n",
    "Information you cant get from a group by    \n",
    "    OVER()\n",
    "        ROW_NUMBER() OVER() AS Row_N\n",
    "        \n",
    "        ROW_NUMBER() OVER (ORDER BY Year DESC) AS Row_N\n",
    "        ROW_NUMBER() OVER (ORDER BY Year DESC, Event ASC) AS Row_N\n",
    "        \n",
    "        LAG(Champion, 1) OVER (ORDER BY Year ASC) AS Last_Champion\n",
    "        LAG(Champion, 1) OVER (PARTITION BY Event ORDER BY Event ASC, Year ASC) AS Last_Champion\n",
    "        \n",
    "      FETCHING\n",
    "          Relative\n",
    "              LAG(column, lag)\n",
    "              LEAD(column, lag)\n",
    "                  PARTITION BY\n",
    "          Absolute\n",
    "              FIRST_VALUE(column)\n",
    "                  PARTITION BY\n",
    "              LAST_VALUE(column)\n",
    "                  UNBOUNDING PRECEDING\n",
    "                  UNBOUNDED FOLLOWING\n",
    "        \n",
    "      RANKING\n",
    "          ROW_NUMBER()\n",
    "              PARTITION BY\n",
    "          RANK()\n",
    "              PARTITION BY\n",
    "          DENSE_RANK()\n",
    "              PARTITION BY\n",
    "      \n",
    "      PAGING\n",
    "          NTILE(n)\n",
    "      \n",
    "      Aggregate Functions\n",
    "          MAX()\n",
    "              Running max\n",
    "          SUM()\n",
    "              Running total\n",
    "              \n",
    "      Frames\n",
    "          ROWS BETWEEN\n",
    "              UNBOUNDed (n) PRECEDING\n",
    "              CURRENT ROW\n",
    "              UNBOUNDED (n) FOLLOWING\n",
    "              \n",
    "        Moving averages & totals\n",
    "            RANGE BETWEEN\n",
    "            \n",
    "Pivoting\n",
    "    CREATE EXTENSION\n",
    "    CROSSTAB\n",
    "\n",
    "Group level aggregations\n",
    "    ROLLUP    \n",
    "    CUBE\n",
    "\n",
    "Useful functions\n",
    "    COALESCE for operations that return nulls like ROLLUP & CUBE\n",
    "    \n",
    "    STRING_AGG for concatenation of columns for reduction of rows"
   ]
  },
  {
   "cell_type": "code",
   "execution_count": null,
   "metadata": {},
   "outputs": [],
   "source": []
  },
  {
   "cell_type": "code",
   "execution_count": null,
   "metadata": {},
   "outputs": [],
   "source": []
  }
 ],
 "metadata": {
  "environment": {
   "name": "common-cpu.m61",
   "type": "gcloud",
   "uri": "gcr.io/deeplearning-platform-release/base-cpu:m61"
  },
  "kernelspec": {
   "display_name": "Python 3",
   "language": "python",
   "name": "python3"
  },
  "language_info": {
   "codemirror_mode": {
    "name": "ipython",
    "version": 3
   },
   "file_extension": ".py",
   "mimetype": "text/x-python",
   "name": "python",
   "nbconvert_exporter": "python",
   "pygments_lexer": "ipython3",
   "version": "3.7.9"
  }
 },
 "nbformat": 4,
 "nbformat_minor": 4
}
