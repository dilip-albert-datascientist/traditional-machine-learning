{
 "cells": [
  {
   "cell_type": "code",
   "execution_count": 11,
   "metadata": {},
   "outputs": [],
   "source": [
    "# Display HTML\n",
    "from IPython.display import Image\n",
    "from IPython.core.display import HTML "
   ]
  },
  {
   "cell_type": "markdown",
   "metadata": {},
   "source": [
    "# 10 Normality Tests in Python (Step-By-Step Guide 2020)\n",
    "### Normality test is used to check if a variable or sample has a normal distribution."
   ]
  },
  {
   "cell_type": "markdown",
   "metadata": {},
   "source": [
    "https://towardsdatascience.com/normality-tests-in-python-31e04aa4f411"
   ]
  },
  {
   "cell_type": "raw",
   "metadata": {},
   "source": [
    "Before going to talk about Normality test lets first discuss normal distribution and why is it so important?"
   ]
  },
  {
   "cell_type": "markdown",
   "metadata": {},
   "source": [
    "## Normal distribution"
   ]
  },
  {
   "cell_type": "raw",
   "metadata": {},
   "source": [
    "The normal distribution also known as the Gaussian distribution is a probability function that describes how the values of a variable are distributed. It is a symmetric distribution where most of the observations fall around the central peak and the probabilities for values further away from the mean taper off equally in both directions with fewer outliers on the high and low ends of the data range.\n",
    "The term “Gaussian distribution” refers to the German mathematician Carl Friedrich Gauss.\n",
    "\n",
    "A normal distribution has some important properties:\n",
    "    \n",
    "- the mean, median, and mode all represent the center of the distribution.\n",
    "\n",
    "- the distribution is a bell shape.\n",
    "\n",
    "- ≈68% of the data falls within 1 standard deviation of the mean, ≈95% of the data falls within 2 S.D of the mean and ≈99.7% of the data falls within 3 S.D of the mean."
   ]
  },
  {
   "cell_type": "code",
   "execution_count": 12,
   "metadata": {},
   "outputs": [
    {
     "data": {
      "text/html": [
       "<img src=\"https://miro.medium.com/max/1280/1*kzFQaZ08dTjlPq1zrcJXgg.png\"/>"
      ],
      "text/plain": [
       "<IPython.core.display.Image object>"
      ]
     },
     "execution_count": 12,
     "metadata": {},
     "output_type": "execute_result"
    }
   ],
   "source": [
    "Image(url= \"https://miro.medium.com/max/1280/1*kzFQaZ08dTjlPq1zrcJXgg.png\")"
   ]
  },
  {
   "cell_type": "code",
   "execution_count": null,
   "metadata": {},
   "outputs": [],
   "source": []
  },
  {
   "cell_type": "markdown",
   "metadata": {},
   "source": [
    "## Why is it so important"
   ]
  },
  {
   "cell_type": "raw",
   "metadata": {},
   "source": [
    "A normal distribution is the most important probability distribution in statistics because:\n",
    "\n",
    "- Many processes in nature follow the Normal distribution, Some of the examples are age, height, weight and blood pressure of a person\n",
    "\n",
    "- Linear regression assumes that errors or residuals follow a normal distribution.\n",
    "\n",
    "- Some ML algorithms like Linear Discriminant Analysis and Quadratic Discriminant Analysis are derived under the assumption of normal distribution."
   ]
  },
  {
   "cell_type": "code",
   "execution_count": null,
   "metadata": {},
   "outputs": [],
   "source": []
  },
  {
   "cell_type": "markdown",
   "metadata": {},
   "source": [
    "## Normality tests"
   ]
  },
  {
   "cell_type": "raw",
   "metadata": {},
   "source": [
    "In statistics, normality tests are used to check if the data is drawn from a Gaussian distribution or in simple if a variable or in sample has a normal distribution.\n",
    "There are two ways to test normality,\n",
    "\n",
    "A. Graphs for Normality Test\n",
    "\n",
    "B. Statistical Tests for Normality"
   ]
  },
  {
   "cell_type": "code",
   "execution_count": null,
   "metadata": {},
   "outputs": [],
   "source": []
  },
  {
   "cell_type": "markdown",
   "metadata": {},
   "source": [
    "## A. Graphs for Normality Test"
   ]
  },
  {
   "cell_type": "raw",
   "metadata": {},
   "source": [
    "Various graphs can be used to test the normality of a variable. Using graphs/plots we can visually see the normality but graphs are not very accurate as statistical methods."
   ]
  },
  {
   "cell_type": "markdown",
   "metadata": {},
   "source": [
    "#### 1. Q Q or Quantile-Quantile Plot"
   ]
  },
  {
   "cell_type": "raw",
   "metadata": {},
   "source": [
    "It plots two sets of quantiles against one another i.e. theoretical quantiles against the actual quantiles of the variable."
   ]
  },
  {
   "cell_type": "code",
   "execution_count": null,
   "metadata": {},
   "outputs": [],
   "source": [
    "CODE\n",
    "\n",
    "import statsmodels.api as sm\n",
    "import pylab\n",
    "\n",
    "df1=df.drop(columns=\"Sex\")\n",
    "\n",
    "for i, val in enumerate(df1):\n",
    "    print('QQ plot of:', val)\n",
    "    sm.qqplot(df[val], line='s')\n",
    "    plt.show()"
   ]
  },
  {
   "cell_type": "code",
   "execution_count": 13,
   "metadata": {},
   "outputs": [
    {
     "data": {
      "text/html": [
       "<img src=\"https://miro.medium.com/max/1070/1*EzHus8a-BIGJHCl63DBspw.png\"/>"
      ],
      "text/plain": [
       "<IPython.core.display.Image object>"
      ]
     },
     "execution_count": 13,
     "metadata": {},
     "output_type": "execute_result"
    }
   ],
   "source": [
    "Image(url= \"https://miro.medium.com/max/1070/1*EzHus8a-BIGJHCl63DBspw.png\")"
   ]
  },
  {
   "cell_type": "raw",
   "metadata": {},
   "source": [
    "If our data comes from a normal distribution, we should see all the points sitting on the straight line."
   ]
  },
  {
   "cell_type": "markdown",
   "metadata": {},
   "source": [
    "#### 2. Box Plot"
   ]
  },
  {
   "cell_type": "raw",
   "metadata": {},
   "source": [
    "Box Plot also know as a box and whisker plot is another way to visualize the normality of a variable. It displays the distribution of data based on a five-number summary i.e. minimum, first quartile (Q1), median (Q2), third quartile (Q3) and maximum."
   ]
  },
  {
   "cell_type": "code",
   "execution_count": null,
   "metadata": {},
   "outputs": [],
   "source": [
    "CODE"
   ]
  },
  {
   "cell_type": "code",
   "execution_count": 14,
   "metadata": {},
   "outputs": [
    {
     "data": {
      "text/html": [
       "<img src=\"https://miro.medium.com/max/1014/1*b4eXj5FwJwHxbEvqmGsyng.png\"/>"
      ],
      "text/plain": [
       "<IPython.core.display.Image object>"
      ]
     },
     "execution_count": 14,
     "metadata": {},
     "output_type": "execute_result"
    }
   ],
   "source": [
    "Image(url= \"https://miro.medium.com/max/1014/1*b4eXj5FwJwHxbEvqmGsyng.png\")"
   ]
  },
  {
   "cell_type": "raw",
   "metadata": {},
   "source": [
    "If your variable has a normal distribution, we should see the mean and median in the center."
   ]
  },
  {
   "cell_type": "markdown",
   "metadata": {},
   "source": [
    "#### 3. Histogram"
   ]
  },
  {
   "cell_type": "raw",
   "metadata": {},
   "source": [
    "One of the popular and commonly used plot to visualize the distribution of the data is a histogram. It also allows us to inspect data for its underlying outliers, skewness, etc. It divides the data into bins of equal width. Each bin is plotted as a bar and height of the bar depends on the number of the data points are in that bin."
   ]
  },
  {
   "cell_type": "code",
   "execution_count": null,
   "metadata": {},
   "outputs": [],
   "source": [
    "CODE"
   ]
  },
  {
   "cell_type": "code",
   "execution_count": 15,
   "metadata": {},
   "outputs": [
    {
     "data": {
      "text/html": [
       "<img src=\"https://miro.medium.com/max/1034/1*195QDv0t0dPXT_LqYvqz7A.png\"/>"
      ],
      "text/plain": [
       "<IPython.core.display.Image object>"
      ]
     },
     "execution_count": 15,
     "metadata": {},
     "output_type": "execute_result"
    }
   ],
   "source": [
    "Image(url= \"https://miro.medium.com/max/1034/1*195QDv0t0dPXT_LqYvqz7A.png\")"
   ]
  },
  {
   "cell_type": "raw",
   "metadata": {},
   "source": [
    "If your variable has a normal distribution, we should see a bell curve."
   ]
  },
  {
   "cell_type": "code",
   "execution_count": null,
   "metadata": {},
   "outputs": [],
   "source": []
  },
  {
   "cell_type": "markdown",
   "metadata": {},
   "source": [
    "## B. Statistical Tests for Normality"
   ]
  },
  {
   "cell_type": "raw",
   "metadata": {},
   "source": [
    "On the other hand, there are many Statistical Tests to check if the distribution of a variable is normal/gaussian. In this section, I am not gonna talk about the math behind but I will show you the python code for each test."
   ]
  },
  {
   "cell_type": "markdown",
   "metadata": {},
   "source": [
    "#### 1. Shapiro-Wilk Test"
   ]
  },
  {
   "cell_type": "raw",
   "metadata": {},
   "source": [
    "We should start with the Shapiro-Wilk Test. It is the most powerful test to check the normality of a variable. It was proposed in 1965 by Samuel Sanford Shapiro and Martin Wilk."
   ]
  },
  {
   "cell_type": "code",
   "execution_count": null,
   "metadata": {},
   "outputs": [],
   "source": [
    "CODE"
   ]
  },
  {
   "cell_type": "code",
   "execution_count": 16,
   "metadata": {},
   "outputs": [
    {
     "data": {
      "text/html": [
       "<img src=\"https://miro.medium.com/max/920/1*SqXrcBoggIOlvj-bdUKGew.png\"/>"
      ],
      "text/plain": [
       "<IPython.core.display.Image object>"
      ]
     },
     "execution_count": 16,
     "metadata": {},
     "output_type": "execute_result"
    }
   ],
   "source": [
    "Image(url= \"https://miro.medium.com/max/920/1*SqXrcBoggIOlvj-bdUKGew.png\")"
   ]
  },
  {
   "cell_type": "raw",
   "metadata": {},
   "source": [
    "If the p-value ≤ 0.05, then we reject the null hypothesis i.e. we assume the distribution of our variable is not normal/gaussian.\n",
    "If the p-value > 0.05, then we fail to reject the null hypothesis i.e. we assume the distribution of our variable is normal/gaussian."
   ]
  },
  {
   "cell_type": "markdown",
   "metadata": {},
   "source": [
    "#### 2. D’Agostino’s K-squared test"
   ]
  },
  {
   "cell_type": "raw",
   "metadata": {},
   "source": [
    "D’Agostino’s K-squared test check’s normality of a variable based on skewness and kurtosis. It was named by Ralph D’Agostino.\n",
    "Skewness is a measure of symmetry.\n",
    "Kurtosis is a measure of whether the data are heavy-tailed or light-tailed relative to a normal distribution."
   ]
  },
  {
   "cell_type": "code",
   "execution_count": null,
   "metadata": {},
   "outputs": [],
   "source": [
    "CODE"
   ]
  },
  {
   "cell_type": "code",
   "execution_count": 17,
   "metadata": {},
   "outputs": [
    {
     "data": {
      "text/html": [
       "<img src=\"https://miro.medium.com/max/896/1*7UQjmciE3wrF2XWBItddNQ.png\"/>"
      ],
      "text/plain": [
       "<IPython.core.display.Image object>"
      ]
     },
     "execution_count": 17,
     "metadata": {},
     "output_type": "execute_result"
    }
   ],
   "source": [
    "Image(url= \"https://miro.medium.com/max/896/1*7UQjmciE3wrF2XWBItddNQ.png\")"
   ]
  },
  {
   "cell_type": "raw",
   "metadata": {},
   "source": [
    "If the p-value ≤ 0.05, then we reject the null hypothesis i.e. we assume the distribution of our variable is not normal/gaussian.\n",
    "If the p-value > 0.05, then we fail to reject the null hypothesis i.e. we assume the distribution of our variable is normal/gaussian."
   ]
  },
  {
   "cell_type": "markdown",
   "metadata": {},
   "source": [
    "#### 3. Anderson-Darling Normality Test"
   ]
  },
  {
   "cell_type": "raw",
   "metadata": {},
   "source": [
    "Anderson-Darling Normality Test is another general normality tests designed to determine if the data comes from a specified distribution, in our case, the normal distribution. It was developed in 1952 by Theodore Anderson and Donald Darling."
   ]
  },
  {
   "cell_type": "code",
   "execution_count": null,
   "metadata": {},
   "outputs": [],
   "source": [
    "CODE"
   ]
  },
  {
   "cell_type": "code",
   "execution_count": 18,
   "metadata": {},
   "outputs": [
    {
     "data": {
      "text/html": [
       "<img src=\"https://miro.medium.com/max/1400/1*hYUmj3iWmKIqg61Ig-v7WA.png\"/>"
      ],
      "text/plain": [
       "<IPython.core.display.Image object>"
      ]
     },
     "execution_count": 18,
     "metadata": {},
     "output_type": "execute_result"
    }
   ],
   "source": [
    "Image(url= \"https://miro.medium.com/max/1400/1*hYUmj3iWmKIqg61Ig-v7WA.png\")"
   ]
  },
  {
   "cell_type": "raw",
   "metadata": {},
   "source": [
    "It gives a range of critical values, at which the null hypothesis can be failed to rejected if the calculated statistic is less than the critical value. In our case, at each significance level, the data has a gaussian distribution."
   ]
  },
  {
   "cell_type": "markdown",
   "metadata": {},
   "source": [
    "#### 4. Chi-Square Normality Test"
   ]
  },
  {
   "cell_type": "raw",
   "metadata": {},
   "source": [
    "Another way of checking the normality of a variable is with Chi-Square Normality Test. It is not as popular as other methods."
   ]
  },
  {
   "cell_type": "code",
   "execution_count": null,
   "metadata": {},
   "outputs": [],
   "source": [
    "CODE"
   ]
  },
  {
   "cell_type": "code",
   "execution_count": 19,
   "metadata": {},
   "outputs": [
    {
     "data": {
      "text/html": [
       "<img src=\"https://miro.medium.com/max/930/1*vproDwn1J46ffo325RZmgQ.png\"/>"
      ],
      "text/plain": [
       "<IPython.core.display.Image object>"
      ]
     },
     "execution_count": 19,
     "metadata": {},
     "output_type": "execute_result"
    }
   ],
   "source": [
    "Image(url= \"https://miro.medium.com/max/930/1*vproDwn1J46ffo325RZmgQ.png\")"
   ]
  },
  {
   "cell_type": "raw",
   "metadata": {},
   "source": [
    "If the p-value ≤ 0.05, then we reject the null hypothesis i.e. we assume the distribution of our variable is not normal/gaussian.\n",
    "If the p-value > 0.05, then we fail to reject the null hypothesis i.e. we assume the distribution of our variable is normal/gaussian."
   ]
  },
  {
   "cell_type": "markdown",
   "metadata": {},
   "source": [
    "#### 5. Lilliefors Test for Normality"
   ]
  },
  {
   "cell_type": "raw",
   "metadata": {},
   "source": [
    "The Lilliefors test is a normality test based on the Kolmogorov–Smirnov test. As all the above methods, this test is used to check if the data come from a normal distribution. It is named after Hubert Lilliefors, professor of statistics at George Washington University."
   ]
  },
  {
   "cell_type": "code",
   "execution_count": null,
   "metadata": {},
   "outputs": [],
   "source": [
    "CODE"
   ]
  },
  {
   "cell_type": "code",
   "execution_count": 20,
   "metadata": {},
   "outputs": [
    {
     "data": {
      "text/html": [
       "<img src=\"https://miro.medium.com/max/904/1*ASUW8GkY9vcOvpQZM-WklQ.png\"/>"
      ],
      "text/plain": [
       "<IPython.core.display.Image object>"
      ]
     },
     "execution_count": 20,
     "metadata": {},
     "output_type": "execute_result"
    }
   ],
   "source": [
    "Image(url= \"https://miro.medium.com/max/904/1*ASUW8GkY9vcOvpQZM-WklQ.png\")"
   ]
  },
  {
   "cell_type": "raw",
   "metadata": {},
   "source": [
    "If the p-value ≤ 0.05, then we reject the null hypothesis i.e. we assume the distribution of our variable is not normal/gaussian.\n",
    "If the p-value > 0.05, then we fail to reject the null hypothesis i.e. we assume the distribution of our variable is normal/gaussian."
   ]
  },
  {
   "cell_type": "markdown",
   "metadata": {},
   "source": [
    "#### 6. Jarque–Bera test for Normality"
   ]
  },
  {
   "cell_type": "raw",
   "metadata": {},
   "source": [
    "The Jarque-Bera test tests whether the sample data has the skewness and kurtosis matching a normal distribution.\n",
    "NOTE: This test only works for a large enough number of data samples (>2000)."
   ]
  },
  {
   "cell_type": "code",
   "execution_count": null,
   "metadata": {},
   "outputs": [],
   "source": [
    "CODE"
   ]
  },
  {
   "cell_type": "code",
   "execution_count": 21,
   "metadata": {},
   "outputs": [
    {
     "data": {
      "text/html": [
       "<img src=\"https://miro.medium.com/max/910/1*9koWqrLdk1dWCPLALXfsFA.png\"/>"
      ],
      "text/plain": [
       "<IPython.core.display.Image object>"
      ]
     },
     "execution_count": 21,
     "metadata": {},
     "output_type": "execute_result"
    }
   ],
   "source": [
    "Image(url= \"https://miro.medium.com/max/910/1*9koWqrLdk1dWCPLALXfsFA.png\")"
   ]
  },
  {
   "cell_type": "raw",
   "metadata": {},
   "source": [
    "If the p-value ≤ 0.05, then we reject the null hypothesis i.e. we assume the distribution of our variable is not normal/gaussian.\n",
    "If the p-value > 0.05, then we fail to reject the null hypothesis i.e. we assume the distribution of our variable is normal/gaussian."
   ]
  },
  {
   "cell_type": "markdown",
   "metadata": {},
   "source": [
    "#### 7. Kolmogorov-Smirnov test for Normality"
   ]
  },
  {
   "cell_type": "raw",
   "metadata": {},
   "source": [
    "Performs the (one sample or two samples) Kolmogorov-Smirnov test for goodness of fit. The one-sample test performs a test of the distribution F(x) of an observed random variable against a given distribution G(x) (i.e. a normal distribution)."
   ]
  },
  {
   "cell_type": "code",
   "execution_count": null,
   "metadata": {},
   "outputs": [],
   "source": [
    "CODE"
   ]
  },
  {
   "cell_type": "code",
   "execution_count": 23,
   "metadata": {},
   "outputs": [
    {
     "data": {
      "text/html": [
       "<img src=\"https://miro.medium.com/max/960/1*c0l79wfL3O4hj9Bpw8RkzQ.png\"/>"
      ],
      "text/plain": [
       "<IPython.core.display.Image object>"
      ]
     },
     "execution_count": 23,
     "metadata": {},
     "output_type": "execute_result"
    }
   ],
   "source": [
    "Image(url= \"https://miro.medium.com/max/960/1*c0l79wfL3O4hj9Bpw8RkzQ.png\")"
   ]
  },
  {
   "cell_type": "raw",
   "metadata": {},
   "source": [
    "If the p-value ≤ 0.05, then we reject the null hypothesis i.e. we assume the distribution of our variable is not normal/gaussian.\n",
    "If the p-value > 0.05, then we fail to reject the null hypothesis i.e. we assume the distribution of our variable is normal/gaussian."
   ]
  },
  {
   "cell_type": "code",
   "execution_count": null,
   "metadata": {},
   "outputs": [],
   "source": []
  },
  {
   "cell_type": "markdown",
   "metadata": {},
   "source": [
    "## Conclusion"
   ]
  },
  {
   "cell_type": "raw",
   "metadata": {},
   "source": [
    "We create Machine Learning models to mimic a process in the universe/population by training on a sample taken from the population. \n",
    "\n",
    "The process could be detecting cancer, fraudulent transaction etc. We presume that the distribution of the population is normal and the sample represents the population. \n",
    "\n",
    "A good sample that represents the population works well in production. So, before training a model, it is recommended to check whether a sample is a good representation of the population (i.e normal distribution) with Normality Tests. \n",
    "\n",
    "There are plenty of methods to check the normality of the variable. One can choose plots which makes it easy to understand by visualizing or select statistical tests, that gives p-value to check the normality."
   ]
  }
 ],
 "metadata": {
  "environment": {
   "name": "common-cpu.m61",
   "type": "gcloud",
   "uri": "gcr.io/deeplearning-platform-release/base-cpu:m61"
  },
  "kernelspec": {
   "display_name": "Python 3",
   "language": "python",
   "name": "python3"
  },
  "language_info": {
   "codemirror_mode": {
    "name": "ipython",
    "version": 3
   },
   "file_extension": ".py",
   "mimetype": "text/x-python",
   "name": "python",
   "nbconvert_exporter": "python",
   "pygments_lexer": "ipython3",
   "version": "3.7.9"
  }
 },
 "nbformat": 4,
 "nbformat_minor": 4
}
