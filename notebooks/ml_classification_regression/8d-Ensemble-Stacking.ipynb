{
 "cells": [
  {
   "cell_type": "code",
   "execution_count": null,
   "metadata": {},
   "outputs": [],
   "source": [
    "# example of a stacked model for binary classification\n",
    "from numpy import hstack\n",
    "from numpy import array\n",
    "from sklearn.datasets import make_blobs\n",
    "from sklearn.model_selection import KFold\n",
    "from sklearn.model_selection import train_test_split\n",
    "from sklearn.neighbors import KNeighborsClassifier\n",
    "from sklearn.tree import DecisionTreeClassifier\n",
    "from sklearn.linear_model import LogisticRegression\n",
    "from sklearn.metrics import accuracy_score"
   ]
  },
  {
   "cell_type": "code",
   "execution_count": null,
   "metadata": {},
   "outputs": [],
   "source": [
    "# create a meta dataset\n",
    "def create_meta_dataset(data_x, yhat1, yhat2):\n",
    "\t# convert to columns\n",
    "\tyhat1 = array(yhat1).reshape((len(yhat1), 1))\n",
    "\tyhat2 = array(yhat2).reshape((len(yhat2), 1))\n",
    "\t# stack as separate columns\n",
    "\tmeta_X = hstack((data_x, yhat1, yhat2))\n",
    "\treturn meta_X\n",
    "\n",
    "# make predictions with stacked model\n",
    "def stack_prediction(model1, model2, meta_model, X):\n",
    "\t# make predictions\n",
    "\tyhat1 = model1.predict_proba(X)[:, 0]\n",
    "\tyhat2 = model2.predict_proba(X)[:, 0]\n",
    "\t# create input dataset\n",
    "\tmeta_X = create_meta_dataset(X, yhat1, yhat2)\n",
    "\t# predict\n",
    "\treturn meta_model.predict(meta_X)"
   ]
  },
  {
   "cell_type": "code",
   "execution_count": null,
   "metadata": {},
   "outputs": [],
   "source": [
    "# create the inputs and outputs\n",
    "X, y = make_blobs(n_samples=1000, centers=2, n_features=100, cluster_std=20)\n",
    "\n",
    "# split\n",
    "X, X_val, y, y_val = train_test_split(X, y, test_size=0.33)\n",
    "\n",
    "# collect out of sample predictions\n",
    "data_x, data_y, knn_yhat, cart_yhat = list(), list(), list(), list()\n",
    "kfold = KFold(n_splits=10, shuffle=True)\n",
    "for train_ix, test_ix in kfold.split(X):\n",
    "\t# get data\n",
    "\ttrain_X, test_X = X[train_ix], X[test_ix]\n",
    "\ttrain_y, test_y = y[train_ix], y[test_ix]\n",
    "\tdata_x.extend(test_X)\n",
    "\tdata_y.extend(test_y)\n",
    "\t# fit and make predictions with cart\n",
    "\tmodel1 = DecisionTreeClassifier()\n",
    "\tmodel1.fit(train_X, train_y)\n",
    "\tyhat1 = model1.predict_proba(test_X)[:, 0]\n",
    "\tcart_yhat.extend(yhat1)\n",
    "\t# fit and make predictions with cart\n",
    "\tmodel2 = KNeighborsClassifier()\n",
    "\tmodel2.fit(train_X, train_y)\n",
    "\tyhat2 = model2.predict_proba(test_X)[:, 0]\n",
    "\tknn_yhat.extend(yhat2)\n",
    "    \n",
    "# construct meta dataset\n",
    "meta_X = create_meta_dataset(data_x, knn_yhat, cart_yhat)\n",
    "\n",
    "# fit final submodels\n",
    "model1 = DecisionTreeClassifier()\n",
    "model1.fit(X, y)\n",
    "model2 = KNeighborsClassifier()\n",
    "model2.fit(X, y)\n",
    "\n",
    "# construct meta classifier\n",
    "meta_model = LogisticRegression(solver='liblinear')\n",
    "meta_model.fit(meta_X, data_y)\n",
    "\n",
    "# evaluate sub models on hold out dataset\n",
    "acc1 = accuracy_score(y_val, model1.predict(X_val))\n",
    "acc2 = accuracy_score(y_val, model2.predict(X_val))\n",
    "print('Model1 Accuracy: %.3f, Model2 Accuracy: %.3f' % (acc1, acc2))\n",
    "\n",
    "# evaluate meta model on hold out dataset\n",
    "yhat = stack_prediction(model1, model2, meta_model, X_val)\n",
    "acc = accuracy_score(y_val, yhat)\n",
    "print('Meta Model Accuracy: %.3f' % (acc))"
   ]
  }
 ],
 "metadata": {
  "environment": {
   "name": "common-cpu.m61",
   "type": "gcloud",
   "uri": "gcr.io/deeplearning-platform-release/base-cpu:m61"
  },
  "kernelspec": {
   "display_name": "Python 3",
   "language": "python",
   "name": "python3"
  },
  "language_info": {
   "codemirror_mode": {
    "name": "ipython",
    "version": 3
   },
   "file_extension": ".py",
   "mimetype": "text/x-python",
   "name": "python",
   "nbconvert_exporter": "python",
   "pygments_lexer": "ipython3",
   "version": "3.7.9"
  }
 },
 "nbformat": 4,
 "nbformat_minor": 4
}
