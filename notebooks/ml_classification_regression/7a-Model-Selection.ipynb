{
 "cells": [
  {
   "cell_type": "markdown",
   "metadata": {},
   "source": [
    "# Model Selection"
   ]
  },
  {
   "cell_type": "code",
   "execution_count": 2,
   "metadata": {},
   "outputs": [
    {
     "data": {
      "text/html": [
       "<img src=\"https://scikit-learn.org/stable/_static/ml_map.png\"/>"
      ],
      "text/plain": [
       "<IPython.core.display.Image object>"
      ]
     },
     "execution_count": 2,
     "metadata": {},
     "output_type": "execute_result"
    }
   ],
   "source": [
    "from IPython.display import Image\n",
    "from IPython.core.display import HTML \n",
    "\n",
    "Image(url= \"https://scikit-learn.org/stable/_static/ml_map.png\")"
   ]
  },
  {
   "cell_type": "code",
   "execution_count": 2,
   "metadata": {},
   "outputs": [],
   "source": [
    "#Which algorithms/estimators are options?\n",
    "    #The estimator you choose for your project will depend on the data set you have and the problem that you are trying to solve."
   ]
  },
  {
   "cell_type": "code",
   "execution_count": null,
   "metadata": {},
   "outputs": [],
   "source": []
  },
  {
   "cell_type": "markdown",
   "metadata": {},
   "source": [
    "## Key Questions"
   ]
  },
  {
   "cell_type": "raw",
   "metadata": {},
   "source": [
    "1. Is this a classification or regression problem?\n",
    "    Category / Quantity\n",
    "\n",
    "2. Which type of classification problem?\n",
    "    Binary / Multiclass\n",
    "    \n",
    "3. How many observations are there?\n",
    "    n_obs = a\n",
    "    \n",
    "4. How many features are there?\n",
    "    n_features = b\n",
    "\n",
    "5. What is the split of feature n dtypes?\n",
    "    n_num_cols = x \n",
    "    n_cat_cols = y\n",
    "    n_text_cols = z\n",
    "\n",
    "Qs for good decision making in time expenditure:\n",
    "\n",
    "Can we define the question we're interested in?\n",
    "    What are you working on?\n",
    "\n",
    "How do we know when we've won?\n",
    "    How will I know when it's done?\n",
    "    What are the error metrics by which we evaluate our solution to this question?\n",
    "    \n",
    "Whats the first thing we will do with it?\n",
    "    What will it impact?"
   ]
  },
  {
   "cell_type": "code",
   "execution_count": null,
   "metadata": {},
   "outputs": [],
   "source": []
  },
  {
   "cell_type": "markdown",
   "metadata": {},
   "source": [
    "## Regression Options"
   ]
  },
  {
   "cell_type": "code",
   "execution_count": 3,
   "metadata": {},
   "outputs": [
    {
     "data": {
      "text/html": [
       "<img src=\"https://miro.medium.com/max/1400/1*_Wx0vKokbXd20HlbLKpj2A.jpeg\"/>"
      ],
      "text/plain": [
       "<IPython.core.display.Image object>"
      ]
     },
     "execution_count": 3,
     "metadata": {},
     "output_type": "execute_result"
    }
   ],
   "source": [
    "Image(url= \"https://miro.medium.com/max/1400/1*_Wx0vKokbXd20HlbLKpj2A.jpeg\")"
   ]
  },
  {
   "cell_type": "code",
   "execution_count": null,
   "metadata": {},
   "outputs": [],
   "source": []
  },
  {
   "cell_type": "markdown",
   "metadata": {},
   "source": [
    "## Classification Options"
   ]
  },
  {
   "cell_type": "code",
   "execution_count": null,
   "metadata": {},
   "outputs": [],
   "source": []
  }
 ],
 "metadata": {
  "environment": {
   "name": "common-cpu.m61",
   "type": "gcloud",
   "uri": "gcr.io/deeplearning-platform-release/base-cpu:m61"
  },
  "kernelspec": {
   "display_name": "Python 3",
   "language": "python",
   "name": "python3"
  },
  "language_info": {
   "codemirror_mode": {
    "name": "ipython",
    "version": 3
   },
   "file_extension": ".py",
   "mimetype": "text/x-python",
   "name": "python",
   "nbconvert_exporter": "python",
   "pygments_lexer": "ipython3",
   "version": "3.7.9"
  }
 },
 "nbformat": 4,
 "nbformat_minor": 4
}
