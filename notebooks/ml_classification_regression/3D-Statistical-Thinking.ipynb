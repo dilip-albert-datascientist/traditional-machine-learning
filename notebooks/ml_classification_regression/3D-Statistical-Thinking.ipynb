{
 "cells": [
  {
   "cell_type": "code",
   "execution_count": 2,
   "metadata": {},
   "outputs": [
    {
     "data": {
      "text/plain": [
       "\u001b[0;31mSignature:\u001b[0m \u001b[0mdcst\u001b[0m\u001b[0;34m.\u001b[0m\u001b[0mpearson_r\u001b[0m\u001b[0;34m(\u001b[0m\u001b[0mdata_1\u001b[0m\u001b[0;34m,\u001b[0m \u001b[0mdata_2\u001b[0m\u001b[0;34m)\u001b[0m\u001b[0;34m\u001b[0m\u001b[0;34m\u001b[0m\u001b[0m\n",
       "\u001b[0;31mDocstring:\u001b[0m\n",
       "Compute the Pearson correlation coefficient between two samples.\n",
       "\n",
       "Parameters\n",
       "----------\n",
       "data_1 : array_like\n",
       "    One-dimensional array of data.\n",
       "data_2 : array_like\n",
       "    One-dimensional array of data.\n",
       "\n",
       "Returns\n",
       "-------\n",
       "output : float\n",
       "    The Pearson correlation coefficient between `data_1`\n",
       "    and `data_2`.\n",
       "\n",
       "Notes\n",
       "-----\n",
       ".. Only entries where both `data_1` and `data_2` are not NaN are\n",
       "   used.\n",
       ".. If the variance of `data_1` or `data_2` is zero, return NaN.\n",
       "\u001b[0;31mFile:\u001b[0m      /opt/conda/lib/python3.7/site-packages/dc_stat_think/dc_stat_think.py\n",
       "\u001b[0;31mType:\u001b[0m      function\n"
      ]
     },
     "metadata": {},
     "output_type": "display_data"
    }
   ],
   "source": [
    "import dc_stat_think as dcst\n",
    "\n",
    "dcst.pearson_r?"
   ]
  },
  {
   "cell_type": "code",
   "execution_count": null,
   "metadata": {},
   "outputs": [],
   "source": [
    "x, y = dcst.ecdf(array)"
   ]
  },
  {
   "cell_type": "code",
   "execution_count": null,
   "metadata": {},
   "outputs": [],
   "source": []
  },
  {
   "cell_type": "raw",
   "metadata": {},
   "source": [
    "The p-value only makes sense if the below are clearly defined:\n",
    "    null hypothesis\n",
    "    test statistic\n",
    "    meaning of \"at least as extreme as\" "
   ]
  },
  {
   "cell_type": "raw",
   "metadata": {},
   "source": [
    "So, the pipeline for doing a hypothesis test is to:\n",
    "\n",
    "    clearly state the null hypothesis and the test statistic.\n",
    "    \n",
    "    Then you *simulate* production of the data as if the null hypothesis were true.\n",
    "    \n",
    "    For each of these simulated data sets, compute the test statistic.\n",
    "    \n",
    "    The p-value is then the fraction of your simulated data sets\n",
    "    for which the test statistic is at least as extreme as for the real data."
   ]
  },
  {
   "cell_type": "code",
   "execution_count": null,
   "metadata": {},
   "outputs": [],
   "source": [
    "permutation test (use from dc_stat_think)"
   ]
  },
  {
   "cell_type": "code",
   "execution_count": null,
   "metadata": {},
   "outputs": [],
   "source": [
    "plt.semilogy"
   ]
  }
 ],
 "metadata": {
  "environment": {
   "name": "common-cpu.m61",
   "type": "gcloud",
   "uri": "gcr.io/deeplearning-platform-release/base-cpu:m61"
  },
  "kernelspec": {
   "display_name": "Python 3",
   "language": "python",
   "name": "python3"
  },
  "language_info": {
   "codemirror_mode": {
    "name": "ipython",
    "version": 3
   },
   "file_extension": ".py",
   "mimetype": "text/x-python",
   "name": "python",
   "nbconvert_exporter": "python",
   "pygments_lexer": "ipython3",
   "version": "3.7.9"
  }
 },
 "nbformat": 4,
 "nbformat_minor": 4
}
