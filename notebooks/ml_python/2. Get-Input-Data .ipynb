{
 "cells": [
  {
   "cell_type": "markdown",
   "metadata": {},
   "source": [
    "## a) Notebook Settings"
   ]
  },
  {
   "cell_type": "code",
   "execution_count": null,
   "metadata": {},
   "outputs": [],
   "source": [
    "# Show ALL outputs in cell, not only last result\n",
    "from IPython.core.interactiveshell import InteractiveShell\n",
    "InteractiveShell.ast_node_interactivity = \"all\""
   ]
  },
  {
   "cell_type": "code",
   "execution_count": null,
   "metadata": {},
   "outputs": [],
   "source": [
    "relative_filepath = \"../../\""
   ]
  },
  {
   "cell_type": "code",
   "execution_count": null,
   "metadata": {},
   "outputs": [],
   "source": [
    "# Set relative path mapping for module imports\n",
    "import sys\n",
    "\n",
    "sys.path.append(relative_filepath)\n",
    "\n",
    "#for path in sys.path:\n",
    "#    print(path)"
   ]
  },
  {
   "cell_type": "markdown",
   "metadata": {},
   "source": [
    "## b) Dependencies"
   ]
  },
  {
   "cell_type": "code",
   "execution_count": null,
   "metadata": {},
   "outputs": [],
   "source": [
    "# External Dependencies\n",
    "import numpy as np\n",
    "import pandas as pd\n",
    "\n",
    "#Local Dependencies\n",
    "# from data.external import get_external_data"
   ]
  },
  {
   "cell_type": "markdown",
   "metadata": {},
   "source": [
    "## c) Get Input Data"
   ]
  },
  {
   "cell_type": "markdown",
   "metadata": {},
   "source": [
    "#### i) Load sklearn toy data"
   ]
  },
  {
   "cell_type": "code",
   "execution_count": null,
   "metadata": {},
   "outputs": [],
   "source": [
    "# Load data\n",
    "#X_y_data = get_external_data.load_pd_toy_data(\"breast_cancer\")\n",
    "\n",
    "#\"Features & Target: X_y_data Type\", type(X_y_data)"
   ]
  },
  {
   "cell_type": "markdown",
   "metadata": {},
   "source": [
    "#### ii) Load interview data"
   ]
  },
  {
   "cell_type": "code",
   "execution_count": null,
   "metadata": {},
   "outputs": [],
   "source": [
    "# Load GFK technical test datasets (already split into train & test) (both numeric & categorical)\n",
    "X_y_train = pd.read_csv(relative_filepath + \"data/raw/practice_training.csv\", header = 0, sep = ';')\n",
    "X_y_test = pd.read_csv(relative_filepath + \"data/raw/practice_validation.csv\", header = 0, sep = ';')\n",
    "\n",
    "X_y_data = pd.concat([X_y_train, X_y_test], ignore_index=True)\n",
    "\n",
    "\"Combined Features & Target: X_y_data Type\", type(X_y_data)"
   ]
  },
  {
   "cell_type": "markdown",
   "metadata": {},
   "source": [
    "## d) Initial Look at Data"
   ]
  },
  {
   "cell_type": "code",
   "execution_count": null,
   "metadata": {},
   "outputs": [],
   "source": [
    "input_dfs = [X_y_data,\n",
    "             X_y_train,\n",
    "             X_y_test]"
   ]
  },
  {
   "cell_type": "code",
   "execution_count": null,
   "metadata": {},
   "outputs": [],
   "source": [
    "# Initial Look at Data\n",
    "for df in input_dfs: \n",
    "    df.head()\n",
    "    df.shape"
   ]
  },
  {
   "cell_type": "code",
   "execution_count": null,
   "metadata": {},
   "outputs": [],
   "source": [
    "#X_y_data.to_csv('X_y_data.csv')\n",
    "#X_y_train.to_csv('X_y_train.csv')\n",
    "#X_y_test.to_csv('X_y_test.csv')"
   ]
  },
  {
   "cell_type": "code",
   "execution_count": null,
   "metadata": {},
   "outputs": [],
   "source": [
    "# Set name of target (CREATE A CONFIG DICT AND ADD THIS IN AS WELL AS OTHER SUITABLE ARGUMENTS)\n",
    "target = \"classLabel\""
   ]
  },
  {
   "cell_type": "code",
   "execution_count": null,
   "metadata": {},
   "outputs": [],
   "source": [
    "# Split into 'X features pandas df' &  'y target pandas series'\n",
    "X_combined = X_y_data.drop([target], axis=1)\n",
    "y_combined = X_y_data[target]\n",
    "\n",
    "\"Combined Features only: X_combined Type\", type(X_combined)\n",
    "\"Combined Features only: X_combined Shape\", X_combined.shape\n",
    "\"Combined Target only: y_combined Type\", type(y_combined)\n",
    "\"Combined Target only: y_combined Shape\", y_combined.shape"
   ]
  },
  {
   "cell_type": "markdown",
   "metadata": {},
   "source": [
    "## e) Split Into Train & Test"
   ]
  },
  {
   "cell_type": "markdown",
   "metadata": {},
   "source": [
    "#### i) If input data is already combined "
   ]
  },
  {
   "cell_type": "code",
   "execution_count": null,
   "metadata": {},
   "outputs": [],
   "source": [
    "# from sklearn.model_selection import train_test_split\n",
    "\n",
    "# X_train, X_test, y_train, y_test = train_test_split(X_combined,\n",
    "#                                                     y_combined,\n",
    "#                                                     random_state=1,\n",
    "#                                                     test_size=0.25)\n",
    "\n",
    "# \"Train Features only: X_train Type\", type(X_train)\n",
    "# \"Train Features only: X_train Shape\", X_train.shape\n",
    "# \"Train Target only: y_train Type\", type(y_train)\n",
    "# \"Train Target only: y_train Shape\", y_train.shape\n",
    "# \"######\"\n",
    "# \"Test Features only: X_test Type\", type(X_test)\n",
    "# \"Test Features only: X_test Shape\", X_test.shape\n",
    "# \"Test Target only: y_test Type\", type(y_test)\n",
    "# \"Test Target only: y_test Shape\", y_test.shape"
   ]
  },
  {
   "cell_type": "markdown",
   "metadata": {},
   "source": [
    "#### ii) If input data is already split into train & validation/test sets"
   ]
  },
  {
   "cell_type": "code",
   "execution_count": null,
   "metadata": {},
   "outputs": [],
   "source": [
    "# Split into 'X features pandas df' &  'y target pandas series'\n",
    "X_train = X_y_train.drop([target], axis=1)\n",
    "y_train = X_y_train[target]\n",
    "\n",
    "X_test = X_y_test.drop([target], axis=1)\n",
    "y_test = X_y_test[target]\n",
    "\n",
    "\"Train Features only: X_train Type\", type(X_train)\n",
    "\"Train Features only: X_train Shape\", X_train.shape\n",
    "\"Train Target only: y_train Type\", type(y_train)\n",
    "\"Train Target only: y_train Shape\", y_train.shape\n",
    "\"######\"\n",
    "\"Test Features only: X_test Type\", type(X_test)\n",
    "\"Test Features only: X_test Shape\", X_test.shape\n",
    "\"Test Target only: y_test Type\", type(y_test)\n",
    "\"Test Target only: y_test Shape\", y_test.shape"
   ]
  },
  {
   "cell_type": "markdown",
   "metadata": {},
   "source": [
    "## f) Save Datasets"
   ]
  },
  {
   "cell_type": "code",
   "execution_count": null,
   "metadata": {},
   "outputs": [],
   "source": [
    "# Pickle combined set\n",
    "X_y_data.to_pickle(relative_filepath + \"data/interim/step_2/X_y_data.pkl\")\n",
    "\n",
    "# Pickle training set\n",
    "X_y_train.to_pickle(relative_filepath + \"data/interim/step_2/X_y_train.pkl\")\n",
    "\n",
    "# Pickle test set\n",
    "X_y_test.to_pickle(relative_filepath + \"data/interim/step_2/X_y_test.pkl\")"
   ]
  },
  {
   "cell_type": "code",
   "execution_count": null,
   "metadata": {},
   "outputs": [],
   "source": []
  }
 ],
 "metadata": {
  "environment": {
   "name": "common-cpu.m61",
   "type": "gcloud",
   "uri": "gcr.io/deeplearning-platform-release/base-cpu:m61"
  },
  "kernelspec": {
   "display_name": "Python 3",
   "language": "python",
   "name": "python3"
  },
  "language_info": {
   "codemirror_mode": {
    "name": "ipython",
    "version": 3
   },
   "file_extension": ".py",
   "mimetype": "text/x-python",
   "name": "python",
   "nbconvert_exporter": "python",
   "pygments_lexer": "ipython3",
   "version": "3.7.9"
  }
 },
 "nbformat": 4,
 "nbformat_minor": 4
}
