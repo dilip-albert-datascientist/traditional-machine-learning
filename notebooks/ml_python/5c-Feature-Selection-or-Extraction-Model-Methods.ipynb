{
 "cells": [
  {
   "cell_type": "code",
   "execution_count": null,
   "metadata": {},
   "outputs": [],
   "source": [
    "#Show ALL outputs in cell, not only last result\n",
    "from IPython.core.interactiveshell import InteractiveShell\n",
    "InteractiveShell.ast_node_interactivity = \"all\""
   ]
  },
  {
   "cell_type": "code",
   "execution_count": null,
   "metadata": {},
   "outputs": [],
   "source": [
    "relative_filepath = \"../../\""
   ]
  },
  {
   "cell_type": "code",
   "execution_count": null,
   "metadata": {},
   "outputs": [],
   "source": [
    "#Set relative path mapping for module imports\n",
    "import sys\n",
    "\n",
    "sys.path.append(relative_filepath)\n",
    "\n",
    "#for path in sys.path:\n",
    "#    print(path)"
   ]
  },
  {
   "cell_type": "code",
   "execution_count": null,
   "metadata": {},
   "outputs": [],
   "source": [
    "# Imports\n",
    "import numpy as np\n",
    "import pandas as pd"
   ]
  },
  {
   "cell_type": "code",
   "execution_count": null,
   "metadata": {},
   "outputs": [],
   "source": [
    "# Read in pickled combined data\n",
    "X_y_data = pd.read_pickle(relative_filepath + \"data/interim/step_4/X_y_data.pkl\")\n",
    "\n",
    "# Read in pickled train data\n",
    "X_y_train = pd.read_pickle(relative_filepath + \"data/interim/step_4/X_y_train.pkl\")\n",
    "\n",
    "# Read in pickled test data\n",
    "X_y_test = pd.read_pickle(relative_filepath + \"data/interim/step_4/X_y_test.pkl\")\n",
    "\n",
    "# Recap data structure\n",
    "X_y_data.head()\n",
    "X_y_data.shape"
   ]
  },
  {
   "cell_type": "code",
   "execution_count": null,
   "metadata": {},
   "outputs": [],
   "source": [
    "#values for config dict\n",
    "input_dfs = [X_y_data,\n",
    "             X_y_train,\n",
    "             X_y_test]\n",
    "\n",
    "target = \"classLabel\""
   ]
  },
  {
   "cell_type": "code",
   "execution_count": null,
   "metadata": {},
   "outputs": [],
   "source": []
  },
  {
   "cell_type": "code",
   "execution_count": null,
   "metadata": {},
   "outputs": [],
   "source": [
    "from IPython.display import Image\n",
    "from IPython.core.display import HTML \n",
    "\n",
    "Image(url= \"https://machinelearningmastery.com/wp-content/uploads/2019/11/Overview-of-Feature-Selection-Techniques3.png\")"
   ]
  },
  {
   "cell_type": "raw",
   "metadata": {},
   "source": [
    "Feature Selection: Select a subset of input features from the dataset.\n",
    "    Unsupervised: Do not use the target variable (e.g. remove redundant variables).\n",
    "        Correlation\n",
    "\n",
    "    Supervised: Use the target variable (e.g. remove irrelevant variables).\n",
    "        Wrapper: Search for well-performing subsets of features.\n",
    "            RFE\n",
    "\n",
    "        Filter: Select subsets of features based on their relationship with the target.\n",
    "            Statistical Methods\n",
    "            Feature Importance Methods\n",
    "            \n",
    "        Intrinsic: Algorithms that perform automatic feature selection during training.\n",
    "                Decision Trees\n",
    "                \n",
    "Dimensionality Reduction: Project input data into a lower-dimensional feature space."
   ]
  },
  {
   "cell_type": "code",
   "execution_count": null,
   "metadata": {},
   "outputs": [],
   "source": [
    "Image(url= \"https://machinelearningmastery.com/wp-content/uploads/2019/11/How-to-Choose-Feature-Selection-Methods-For-Machine-Learning.png\")"
   ]
  },
  {
   "cell_type": "code",
   "execution_count": null,
   "metadata": {},
   "outputs": [],
   "source": []
  },
  {
   "cell_type": "markdown",
   "metadata": {},
   "source": [
    "# Load Input Data"
   ]
  },
  {
   "cell_type": "code",
   "execution_count": null,
   "metadata": {},
   "outputs": [],
   "source": [
    "# Imports\n",
    "import numpy as np\n",
    "import pandas as pd\n",
    "\n",
    "# Visualisation \n",
    "import matplotlib.pyplot as plt\n",
    "import seaborn as sns"
   ]
  },
  {
   "cell_type": "code",
   "execution_count": null,
   "metadata": {},
   "outputs": [],
   "source": [
    "from sklearn.datasets import make_classification, load_breast_cancer\n",
    "\n",
    "X, y = load_breast_cancer(return_X_y = True, as_frame=True)\n",
    "X.head()"
   ]
  },
  {
   "cell_type": "markdown",
   "metadata": {},
   "source": [
    "# Statistical Tests for Feature Information\n",
    "## Student's t-test: 1 independent categorical feature with 2 levels, how does it impact a continuous target\n",
    "\n",
    "for continuous variable in relation to 2 groups in categorical variable"
   ]
  },
  {
   "cell_type": "code",
   "execution_count": null,
   "metadata": {},
   "outputs": [],
   "source": [
    "# One sample t-test\n",
    "from scipy import stats\n",
    "\n",
    "Sample_A = df[df.Sample = \"A\"]\n",
    "\n",
    "t_result = stats.ttest_1sample(Sample_A, 65)\n",
    "\n",
    "alpha = 0.05\n",
    "\n",
    "if (t_result[1] < alpha)\n",
    "    print(\"mean(A) != 65\")"
   ]
  },
  {
   "cell_type": "code",
   "execution_count": null,
   "metadata": {},
   "outputs": [],
   "source": [
    "# Two sample t-test\n",
    "Sample_A = df[df.Sample = \"A\"]\n",
    "Sample_B = df[df.Sample = \"B\"]\n",
    "\n",
    "t_result = stats.ttest_ind(Sample_A, Sample_B)\n",
    "\n",
    "alpha = 0.05\n",
    "\n",
    "if (t_result[1] < alpha)\n",
    "    print(\"A and B are different!\")"
   ]
  },
  {
   "cell_type": "markdown",
   "metadata": {},
   "source": [
    "## Chi-square: examine proportions of 1 discrete category "
   ]
  },
  {
   "cell_type": "code",
   "execution_count": null,
   "metadata": {},
   "outputs": [],
   "source": [
    "coins = df['Flip'].values_counts()\n",
    "\n",
    "chi = stats.chisquare(coins)\n",
    "print(chi)"
   ]
  },
  {
   "cell_type": "markdown",
   "metadata": {},
   "source": [
    "## Fischer exact test: examine proportions of 2 discrete categories "
   ]
  },
  {
   "cell_type": "code",
   "execution_count": null,
   "metadata": {},
   "outputs": [],
   "source": [
    "# Also known as two-sample of chi-square test\n",
    "# Relate one discrete variable to another\n",
    "\n",
    "import pandas as pd\n",
    "\n",
    "table = pd.crosstab(df.Coin, df.Flip)\n",
    "print(table)\n",
    "\n",
    "chi = stats.fischer_exact(table, alternative='two-sided')\n",
    "print(chi[1])\n",
    "#(correlation coefficient, p-value)"
   ]
  },
  {
   "cell_type": "markdown",
   "metadata": {},
   "source": [
    "## Pearson test: examine if continous variables are linearly correlated. Based on raw values for linear relationships"
   ]
  },
  {
   "cell_type": "code",
   "execution_count": null,
   "metadata": {},
   "outputs": [],
   "source": [
    "import plotnine as p9\n",
    "(p9.ggplot(olyAmericans)+ p9.aes(x='Weight', y='Height')+ p9.geom_point())\n",
    "\n",
    "pearson = stats.pearsonr(df.Weight, df.Height)\n",
    "print(pearson)"
   ]
  },
  {
   "cell_type": "markdown",
   "metadata": {},
   "source": [
    "## Confounding variables"
   ]
  },
  {
   "cell_type": "code",
   "execution_count": null,
   "metadata": {},
   "outputs": [],
   "source": []
  },
  {
   "cell_type": "markdown",
   "metadata": {},
   "source": [
    "## Blocking & Randomisation. Paired t-test"
   ]
  },
  {
   "cell_type": "code",
   "execution_count": null,
   "metadata": {},
   "outputs": [],
   "source": [
    "ttest = stats.ttest_rel(yields2018, yields2019)\n",
    "print(ttest[1])"
   ]
  },
  {
   "cell_type": "markdown",
   "metadata": {},
   "source": [
    "## One-way ANOVA: 1 independent categorical feature with 3+ levels, how does it impact a continuous target"
   ]
  },
  {
   "cell_type": "code",
   "execution_count": null,
   "metadata": {},
   "outputs": [],
   "source": [
    "anova = stats.f_oneway(array_fertA, array_fertB, array_fearC)\n",
    "print(anova[1])"
   ]
  },
  {
   "cell_type": "code",
   "execution_count": null,
   "metadata": {},
   "outputs": [],
   "source": []
  },
  {
   "cell_type": "markdown",
   "metadata": {},
   "source": [
    "## Two-way ANOVA: 2 independent categorical features with 2+ levels, how does it impact a continuous target"
   ]
  },
  {
   "cell_type": "code",
   "execution_count": null,
   "metadata": {},
   "outputs": [],
   "source": [
    "import statsmodels as sm\n",
    "\n",
    "formula = 'Production ~ Fertilizer + Variety'\n",
    "model = sm.api.formula.ols(formula, data=df).fit()\n",
    "\n",
    "aov_table = sm.api.stats.anova_lm(model, typ=2)\n",
    "print(aov_table)"
   ]
  },
  {
   "cell_type": "markdown",
   "metadata": {},
   "source": [
    "## ANOVA: Interactive effects"
   ]
  },
  {
   "cell_type": "code",
   "execution_count": null,
   "metadata": {},
   "outputs": [],
   "source": [
    "formula = 'Production ~ Fertilizer + Variety + Fertilizer:Variety'\n",
    "model = sm.api.formula.ols(formula, data=df).fit()\n",
    "\n",
    "aov_table = sm.api.stats.anova_lm(model, typ=2)\n",
    "print(aov_table)"
   ]
  },
  {
   "cell_type": "markdown",
   "metadata": {},
   "source": [
    "## Sample size, power analysis, effect size"
   ]
  },
  {
   "cell_type": "code",
   "execution_count": null,
   "metadata": {},
   "outputs": [],
   "source": [
    "from statsmodels.stats import. power as pwr\n",
    "\n",
    "effect_size = 0.8 # large\n",
    "power = 0.8 # 80% chance of detection\n",
    "alpha = 0.05 # standard\n",
    "ratio = (group 2 samples / group 1 samples)\n",
    "nobs1=nobs1\n",
    "\n",
    "analysis = pwr.TTestIndPower()\n",
    "\n",
    "ssresult = analysis.solve_power(\n",
    "effect_size=effect_size\n",
    "power=power\n",
    "alpha=alpha\n",
    "ratio=ratio\n",
    "nobs1=None)\n",
    "\n",
    "print(ssresult)"
   ]
  },
  {
   "cell_type": "markdown",
   "metadata": {},
   "source": [
    "## Testing for normality: Same mean, median, mode & symmetrical\n",
    "\n",
    "### Parametric Quantile-Quantile plot: normality test plot"
   ]
  },
  {
   "cell_type": "code",
   "execution_count": null,
   "metadata": {},
   "outputs": [],
   "source": [
    "from scipy import stats\n",
    "import plotnine as p9\n",
    "\n",
    "tq = stats.probplot(countrydata.Life_exp, dist =\"norm\")\n",
    "\n",
    "df = pd.DataFrame(data = {'Theorectical Quantiles': tq[0][0],\n",
    "                          'Ordered Values:' countrydata.Life_exp.sort_values()\n",
    "                         })\n",
    "\n",
    "print(p9,ggplot(df) + p9.aes('Theoretical quantiles', 'Ordered Values') + p9.geom_point())"
   ]
  },
  {
   "cell_type": "markdown",
   "metadata": {},
   "source": [
    "### Parametric Shapiro-Wilk: normality test for small sample sizes"
   ]
  },
  {
   "cell_type": "code",
   "execution_count": null,
   "metadata": {},
   "outputs": [],
   "source": [
    "shapiro = stats.shapiro(countrydata.Life_exp)\n",
    "print(shapiro)\n",
    "\n",
    "(test_statistic = 1 for perfect normality, p-value)"
   ]
  },
  {
   "cell_type": "markdown",
   "metadata": {},
   "source": [
    "### Non-parametric Wilcoxon rank-sum test (version of student's t-test):"
   ]
  },
  {
   "cell_type": "code",
   "execution_count": null,
   "metadata": {},
   "outputs": [],
   "source": []
  },
  {
   "cell_type": "markdown",
   "metadata": {},
   "source": [
    "### Non-parametric Spearman correlation (version of Pearson test): Based on ranks for non-linear relationship"
   ]
  },
  {
   "cell_type": "code",
   "execution_count": null,
   "metadata": {},
   "outputs": [],
   "source": [
    "pearcorr = stats.pearsonr(oly.Height, oly.Weight)\n",
    "print(pearcorr)\n",
    "\n",
    "spearcorr = stats.spearsonr(oly.Height, oly.Weight)\n",
    "print(spearcorr)"
   ]
  },
  {
   "cell_type": "code",
   "execution_count": null,
   "metadata": {},
   "outputs": [],
   "source": []
  },
  {
   "cell_type": "markdown",
   "metadata": {},
   "source": [
    "# Selecting for Feature Information\n",
    "## Remove Low Variance Features"
   ]
  },
  {
   "cell_type": "code",
   "execution_count": 6,
   "metadata": {},
   "outputs": [
    {
     "ename": "NameError",
     "evalue": "name 'plt' is not defined",
     "output_type": "error",
     "traceback": [
      "\u001b[0;31m---------------------------------------------------------------------------\u001b[0m",
      "\u001b[0;31mNameError\u001b[0m                                 Traceback (most recent call last)",
      "\u001b[0;32m<ipython-input-6-3eee352196eb>\u001b[0m in \u001b[0;36m<module>\u001b[0;34m\u001b[0m\n\u001b[0;32m----> 1\u001b[0;31m \u001b[0mplt\u001b[0m\u001b[0;34m.\u001b[0m\u001b[0mfigure\u001b[0m\u001b[0;34m(\u001b[0m\u001b[0mfigsize\u001b[0m\u001b[0;34m=\u001b[0m\u001b[0;34m(\u001b[0m\u001b[0;36m20\u001b[0m\u001b[0;34m,\u001b[0m \u001b[0;36m5\u001b[0m\u001b[0;34m)\u001b[0m\u001b[0;34m)\u001b[0m\u001b[0;34m\u001b[0m\u001b[0;34m\u001b[0m\u001b[0m\n\u001b[0m\u001b[1;32m      2\u001b[0m \u001b[0mX\u001b[0m\u001b[0;34m.\u001b[0m\u001b[0mboxplot\u001b[0m\u001b[0;34m(\u001b[0m\u001b[0mrot\u001b[0m\u001b[0;34m=\u001b[0m\u001b[0;36m90\u001b[0m\u001b[0;34m)\u001b[0m\u001b[0;34m;\u001b[0m\u001b[0;34m\u001b[0m\u001b[0;34m\u001b[0m\u001b[0m\n",
      "\u001b[0;31mNameError\u001b[0m: name 'plt' is not defined"
     ]
    }
   ],
   "source": [
    "plt.figure(figsize=(20, 5))\n",
    "X.boxplot(rot=90);"
   ]
  },
  {
   "cell_type": "code",
   "execution_count": 4,
   "metadata": {},
   "outputs": [
    {
     "data": {
      "image/png": "[encoded data removed]",
      "text/plain": [
       "<Figure size 1440x360 with 1 Axes>"
      ]
     },
     "metadata": {
      "needs_background": "light"
     },
     "output_type": "display_data"
    }
   ],
   "source": [
    "X_normal = X / X.mean()\n",
    "\n",
    "plt.figure(figsize=(20, 5))\n",
    "X_normal.boxplot(rot=90);"
   ]
  },
  {
   "cell_type": "code",
   "execution_count": 5,
   "metadata": {},
   "outputs": [
    {
     "data": {
      "image/png": "[encoded data removed]",
      "text/plain": [
       "<Figure size 1440x360 with 1 Axes>"
      ]
     },
     "metadata": {
      "needs_background": "light"
     },
     "output_type": "display_data"
    }
   ],
   "source": [
    "plt.figure(figsize=(20, 5))\n",
    "X_normal.var().plot.bar();"
   ]
  },
  {
   "cell_type": "code",
   "execution_count": 6,
   "metadata": {},
   "outputs": [
    {
     "name": "stdout",
     "output_type": "stream",
     "text": [
      "Before removing low variance: (569, 30)\n",
      "After removing low variance: (569, 30)\n"
     ]
    }
   ],
   "source": [
    "print('Before removing low variance:', X.shape)\n",
    "\n",
    "sel = VarianceThreshold(threshold=0.005)\n",
    "sel.fit(X_normal)\n",
    "\n",
    "mask = sel.get_support()\n",
    "reduced_X_var = X.loc[:, mask]\n",
    "\n",
    "print('After removing low variance:', reduced_X_var.shape)"
   ]
  },
  {
   "cell_type": "code",
   "execution_count": null,
   "metadata": {},
   "outputs": [],
   "source": []
  },
  {
   "cell_type": "markdown",
   "metadata": {},
   "source": [
    "## Remove High Missingness Features"
   ]
  },
  {
   "cell_type": "code",
   "execution_count": 7,
   "metadata": {},
   "outputs": [
    {
     "name": "stdout",
     "output_type": "stream",
     "text": [
      "Before removing high missingness: (569, 30) \n",
      "\n",
      "mean radius                True\n",
      "mean texture               True\n",
      "mean perimeter             True\n",
      "mean area                  True\n",
      "mean smoothness            True\n",
      "mean compactness           True\n",
      "mean concavity             True\n",
      "mean concave points        True\n",
      "mean symmetry              True\n",
      "mean fractal dimension     True\n",
      "radius error               True\n",
      "texture error              True\n",
      "perimeter error            True\n",
      "area error                 True\n",
      "smoothness error           True\n",
      "compactness error          True\n",
      "concavity error            True\n",
      "concave points error       True\n",
      "symmetry error             True\n",
      "fractal dimension error    True\n",
      "worst radius               True\n",
      "worst texture              True\n",
      "worst perimeter            True\n",
      "worst area                 True\n",
      "worst smoothness           True\n",
      "worst compactness          True\n",
      "worst concavity            True\n",
      "worst concave points       True\n",
      "worst symmetry             True\n",
      "worst fractal dimension    True\n",
      "dtype: bool \n",
      "\n",
      "After removing high missingness: (569, 30) \n",
      "\n"
     ]
    }
   ],
   "source": [
    "print('Before removing high missingness:', reduced_X_var.shape, '\\n')\n",
    "\n",
    "mask = reduced_X_var.isna().sum() / len(X) < 0.3\n",
    "print(mask, '\\n')\n",
    "\n",
    "reduced_X_missing = reduced_X_var.loc[:, mask]\n",
    "\n",
    "print('After removing high missingness:', reduced_X_missing.shape, '\\n')\n",
    "# reduced_X_missing.head()"
   ]
  },
  {
   "cell_type": "code",
   "execution_count": null,
   "metadata": {},
   "outputs": [],
   "source": []
  },
  {
   "cell_type": "markdown",
   "metadata": {},
   "source": [
    "## Remove Highly Correlated Features"
   ]
  },
  {
   "cell_type": "code",
   "execution_count": 8,
   "metadata": {},
   "outputs": [],
   "source": [
    "# sns.pairplot(reduced_X_missing, hue=\"target\")"
   ]
  },
  {
   "cell_type": "code",
   "execution_count": 9,
   "metadata": {},
   "outputs": [
    {
     "data": {
      "image/png": "[encoded data removed]",
      "text/plain": [
       "<Figure size 1440x1440 with 2 Axes>"
      ]
     },
     "metadata": {
      "needs_background": "light"
     },
     "output_type": "display_data"
    }
   ],
   "source": [
    "corr = reduced_X_missing.corr()\n",
    "mask = np.triu(np.ones_like(corr, dtype=bool))\n",
    "cmap = sns.diverging_palette(h_neg=10, h_pos=240, as_cmap=True)\n",
    "\n",
    "plt.figure(figsize=(20, 20))\n",
    "sns.heatmap(corr, mask=mask, \n",
    "            center=0, cmap=cmap, linewidths=1,\n",
    "            annot=True, fmt=\".2f\");"
   ]
  },
  {
   "cell_type": "code",
   "execution_count": 10,
   "metadata": {},
   "outputs": [
    {
     "name": "stdout",
     "output_type": "stream",
     "text": [
      "Before removing highly correlated features: (569, 30) \n",
      "\n",
      "Features to be dropped: [] \n",
      "\n",
      "After removing highly correlated features: (569, 30) \n",
      "\n"
     ]
    }
   ],
   "source": [
    "print('Before removing highly correlated features:', reduced_X_missing.shape, '\\n')\n",
    "\n",
    "# Create positive correlation matrix\n",
    "corr_df = reduced_X_missing.corr().abs()\n",
    "corr_df.head()\n",
    "#Create and apply mask\n",
    "mask = np.triu(np.ones_like(corr_df, dtype=bool))\n",
    "\n",
    "tri_df = corr_df.mask(mask)\n",
    "tri_df\n",
    "\n",
    "to_drop = [c for c in tri_df.columns if any(tri_df[c] > 1.00)]\n",
    "print('Features to be dropped:', to_drop, '\\n')\n",
    "\n",
    "reduced_X_corr = reduced_X_missing.drop(to_drop, axis = 1)\n",
    "print('After removing highly correlated features:', reduced_X_corr.shape, '\\n')"
   ]
  },
  {
   "cell_type": "code",
   "execution_count": null,
   "metadata": {},
   "outputs": [],
   "source": []
  },
  {
   "cell_type": "markdown",
   "metadata": {},
   "source": [
    "# Dependencies & Preprocessing Pipeline before Model Based Feature Selection"
   ]
  },
  {
   "cell_type": "code",
   "execution_count": 77,
   "metadata": {},
   "outputs": [],
   "source": [
    "# Imports\n",
    "from numpy import mean\n",
    "from numpy import std\n",
    "\n",
    "# Validation\n",
    "from sklearn.model_selection import train_test_split, StratifiedKFold, RepeatedStratifiedKFold, cross_val_score\n",
    "\n",
    "# Preprocessing\n",
    "from sklearn.preprocessing import StandardScaler, MinMaxScaler\n",
    "from imblearn.over_sampling import SMOTE\n",
    "from sklearn.decomposition import PCA\n",
    "\n",
    "# Pipelines\n",
    "from sklearn.pipeline import Pipeline\n",
    "from imblearn.pipeline import Pipeline as imbpipeline\n",
    "\n",
    "# Feature selection\n",
    "from sklearn.feature_selection import RFE, RFECV\n",
    "from sklearn.manifold import TSNE\n",
    "\n",
    "# Classification models\n",
    "from sklearn.linear_model import LogisticRegression\n",
    "from sklearn.tree import DecisionTreeClassifier\n",
    "from sklearn.ensemble import RandomForestClassifier\n",
    "# from sklearn.neighbors import KNeighborsClassifier\n",
    "# from sklearn import svm\n",
    "from sklearn.svm import SVC\n",
    "# from xgboost import XGBClassifier\n",
    "\n",
    "# Regression models\n",
    "from sklearn.linear_model import LinearRegression\n",
    "from sklearn.linear_model import Lasso, LassoCV\n",
    "from sklearn.ensemble import RandomForestRegressor\n",
    "from sklearn.ensemble import GradientBoostingRegressor\n",
    "\n",
    "# Evaluation / Scoring metrics\n",
    "from sklearn.metrics import accuracy_score"
   ]
  },
  {
   "cell_type": "code",
   "execution_count": 12,
   "metadata": {},
   "outputs": [
    {
     "data": {
      "text/plain": [
       "(569, 30)"
      ]
     },
     "execution_count": 12,
     "metadata": {},
     "output_type": "execute_result"
    }
   ],
   "source": [
    "# Entire input dataset\n",
    "X_fs = reduced_X_corr.copy()\n",
    "X_fs.shape"
   ]
  },
  {
   "cell_type": "code",
   "execution_count": 13,
   "metadata": {},
   "outputs": [],
   "source": [
    "# Split into train & test\n",
    "X_train, X_test, y_train, y_test = train_test_split(X_fs,\n",
    "                                                    y,\n",
    "                                                    test_size=0.2,\n",
    "                                                    stratify=y,\n",
    "                                                    random_state=11)"
   ]
  },
  {
   "cell_type": "code",
   "execution_count": null,
   "metadata": {},
   "outputs": [],
   "source": [
    "# Instantiate preprocessing steps\n",
    "s_scaler = StandardScaler()\n",
    "mm_scaler = MinMaxScaler()\n",
    "\n",
    "smote = SMOTE(random_state=11)\n",
    "pca = PCA(n_components=None)"
   ]
  },
  {
   "cell_type": "raw",
   "metadata": {},
   "source": [
    "# Pipeline with Scaler\n",
    "pipeline_scaler = Pipeline([\n",
    "    ('scaler', s_scaler),\n",
    "    ('model', model)\n",
    "])\n",
    "\n",
    "# Pipeline with Scaler & PCA\n",
    "pipeline_pca = Pipeline([\n",
    "    ('scaler', s_scaler),\n",
    "    ('pca', pca),\n",
    "    ('model', model)\n",
    "])\n",
    "\n",
    "# Pipeline with Custom Preprocessing for all steps\n",
    "pipeline_full_preprocess = Pipeline([\n",
    "    ('preprocessor', preprocessor)\n",
    "    ('pca', pca),\n",
    "    ('model', model)\n",
    "])\n",
    "\n",
    "# Imbalanced Class Pipeline for SMOTE \n",
    "imbpipeline_smote = imbpipeline([\n",
    "    ('scaler', s_scaler),\n",
    "    ('smote', smote),\n",
    "    ('pca', pca),\n",
    "    ('model', model)\n",
    "])\n",
    "\n",
    "\n",
    "# Imbalance Pipeline for SMOTE with Custom Preprocessing for all steps\n",
    "imbpipeline_full_preprocess = imbpipeline([\n",
    "    ('preprocessor', preprocessor),\n",
    "    ('smote', smote),\n",
    "    ('pca', pca),\n",
    "    ('model', model)\n",
    "])"
   ]
  },
  {
   "cell_type": "code",
   "execution_count": null,
   "metadata": {},
   "outputs": [],
   "source": []
  },
  {
   "cell_type": "code",
   "execution_count": null,
   "metadata": {},
   "outputs": [],
   "source": []
  },
  {
   "cell_type": "markdown",
   "metadata": {},
   "source": [
    "# Selecting for Model Accuracy"
   ]
  },
  {
   "cell_type": "markdown",
   "metadata": {},
   "source": [
    "## Low Model Coefficient Features"
   ]
  },
  {
   "cell_type": "code",
   "execution_count": null,
   "metadata": {},
   "outputs": [],
   "source": [
    "print('Before removing low model coef features:', X_train.shape, '\\n')"
   ]
  },
  {
   "cell_type": "code",
   "execution_count": null,
   "metadata": {},
   "outputs": [],
   "source": [
    "### Model for coefficients of features\n",
    "model = LogisticRegression(random_state=11)\n",
    "###\n",
    "\n",
    "# Pipeline with Scaler\n",
    "pipeline_scaler = Pipeline([\n",
    "    ('scaler', s_scaler),\n",
    "    ('model', model)\n",
    "])\n",
    "\n",
    "pipeline_scaler.fit(X_train, y_train)\n",
    "\n",
    "y_pred = pipeline_scaler.predict(X_test)\n",
    "print('Accuracy on Test set:', accuracy_score(y_test, y_pred), '\\n')\n",
    "\n",
    "dict_coef = dict(zip(X.columns, abs(model.coef_[0]).round(decimals=3)))\n",
    "{k: v for k, v in sorted(dict_coef.items(), key=lambda item: item[1])}"
   ]
  },
  {
   "cell_type": "code",
   "execution_count": null,
   "metadata": {},
   "outputs": [],
   "source": [
    "### Model for coefficients of features\n",
    "model = LogisticRegression(random_state=11)\n",
    "###\n",
    "\n",
    "print('Before removing low model coef features:', X_train.shape, '\\n')\n",
    "\n",
    "drop_low_coef_features = []\n",
    "X_train_reduced_on_coef = X_train.drop(drop_low_coef_features, axis=1)\n",
    "\n",
    "print('After removing low model coef features:', X_train_reduced_on_coef.shape, '\\n')\n",
    "     \n",
    "# Pipeline with Scaler\n",
    "pipeline_scaler = Pipeline([\n",
    "    ('scaler', s_scaler),\n",
    "    ('model', model)\n",
    "])\n",
    "\n",
    "pipeline_scaler.fit(X_train_reduced_on_coef, y_train)\n",
    "\n",
    "y_pred = pipeline_scaler.predict(X_test)\n",
    "print(\"Accuracy on Test set:\", accuracy_score(y_test, y_pred), \"\\n\")"
   ]
  },
  {
   "cell_type": "code",
   "execution_count": null,
   "metadata": {},
   "outputs": [],
   "source": []
  },
  {
   "cell_type": "markdown",
   "metadata": {},
   "source": [
    "## Recursive Feature Elimination"
   ]
  },
  {
   "cell_type": "markdown",
   "metadata": {},
   "source": [
    "### Visually decide on n_features"
   ]
  },
  {
   "cell_type": "code",
   "execution_count": null,
   "metadata": {},
   "outputs": [],
   "source": [
    "print('Before applying RFE:', X_train.shape, '\\n')"
   ]
  },
  {
   "cell_type": "code",
   "execution_count": null,
   "metadata": {},
   "outputs": [],
   "source": [
    "# Models to wrap in RFE\n",
    "lr = LogisticRegression(random_state=11)\n",
    "dt = DecisionTreeClassifier(random_state=11)\n",
    "svc = SVC(kernel=\"linear\", random_state=11)"
   ]
  },
  {
   "cell_type": "code",
   "execution_count": null,
   "metadata": {},
   "outputs": [],
   "source": [
    "###\n",
    "rfecv_estimator = lr\n",
    "step = 1\n",
    "cv = StratifiedKFold(5)\n",
    "scoring = None\n",
    "min_features_to_select = 1  # Minimum number of features to consider\n",
    "###\n",
    "\n",
    "# Create the RFE object and compute a cross-validated score.\n",
    "rfecv = RFECV(estimator=rfecv_estimator,\n",
    "              step=step,\n",
    "              cv=cv,\n",
    "              scoring=scoring,\n",
    "              min_features_to_select=min_features_to_select)\n",
    "\n",
    "# Pipeline with Scaler\n",
    "pipeline_scaler = Pipeline([\n",
    "    ('scaler', s_scaler),\n",
    "    ('fs', rfecv)\n",
    "])\n",
    "\n",
    "pipeline_scaler.fit(X_train, y_train)\n",
    "\n",
    "print(\"Number of features for largest CV score : %d\" % rfecv.n_features_, '\\n')\n",
    "\n",
    "# Plot number of features VS. cross-validation scores\n",
    "plt.figure()\n",
    "plt.xlabel(\"Number of features selected\")\n",
    "plt.ylabel(\"Cross validation score (accuracy)\")\n",
    "plt.plot(range(min_features_to_select,\n",
    "               len(rfecv.grid_scores_) + min_features_to_select),\n",
    "         rfecv.grid_scores_)\n",
    "plt.show()\n",
    "\n",
    "y_pred = pipeline_scaler.predict(X_test)\n",
    "print(\"Accuracy on Test set:\", accuracy_score(y_test, y_pred), \"\\n\")\n",
    "\n",
    "rfecv_features_kept = list(X_train.columns[rfecv.support_])\n",
    "print(rfecv_features_kept, '\\n')\n",
    "\n",
    "# dict_rfecv_rank = dict(zip(X_train.columns, rfecv.ranking_))\n",
    "# {k: v for k, v in sorted(dict_rfecv_rank.items(), key=lambda item: item[1])}"
   ]
  },
  {
   "cell_type": "markdown",
   "metadata": {},
   "source": [
    "### Manually set n_features"
   ]
  },
  {
   "cell_type": "code",
   "execution_count": null,
   "metadata": {},
   "outputs": [],
   "source": [
    "###\n",
    "rfe_estimator = lr\n",
    "n_features_to_select = 7\n",
    "###\n",
    "\n",
    "#\n",
    "rfe = RFE(estimator=rfe_estimator, n_features_to_select=n_features_to_select, verbose=0)\n",
    "\n",
    "# Pipeline with Scaler\n",
    "pipeline_scaler = Pipeline([\n",
    "    ('scaler', s_scaler),\n",
    "    ('fs', rfe)\n",
    "])\n",
    "\n",
    "pipeline_scaler.fit(X_train, y_train)\n",
    "\n",
    "y_pred = pipeline_scaler.predict(X_test)\n",
    "print('Accuracy on Test set:', accuracy_score(y_test, y_pred), '\\n')\n",
    "\n",
    "rfe_features_kept = list(X_train.columns[rfe.support_])\n",
    "print(rfe_features_kept, '\\n')\n",
    "\n",
    "dict_rfe_rank = dict(zip(X_train.columns, rfe.ranking_))\n",
    "{k: v for k, v in sorted(dict_rfe_rank.items(), key=lambda item: item[1])}"
   ]
  },
  {
   "cell_type": "markdown",
   "metadata": {},
   "source": [
    "### Automatically set n_features"
   ]
  },
  {
   "cell_type": "code",
   "execution_count": null,
   "metadata": {},
   "outputs": [],
   "source": [
    "###\n",
    "rfe_estimator = lr\n",
    "model = lr\n",
    "###\n",
    "\n",
    "# create pipeline\n",
    "rfecv = RFECV(estimator=rfe_estimator)\n",
    "\n",
    "pipeline_scaler = Pipeline(steps=[\n",
    "    ('scaler', s_scaler),\n",
    "    ('rfecv', rfecv),\n",
    "    ('m', model)\n",
    "])\n",
    "\n",
    "# evaluate model\n",
    "cv = RepeatedStratifiedKFold(n_splits=10, n_repeats=3, random_state=1)\n",
    "n_scores = cross_val_score(pipeline, X_train, y_train, scoring='accuracy', cv=cv, n_jobs=-1, error_score='raise')\n",
    "\n",
    "# report performance\n",
    "print('Mean Accuracy (std Accuracy) on Training CV folds : %.3f (%.3f)' % (mean(n_scores), std(n_scores)), '\\n')\n",
    "\n",
    "# fit RFE\n",
    "pipeline_scaler.fit(X_train, y_train)\n",
    "\n",
    "y_pred = pipeline_scaler.predict(X_test)\n",
    "print('Accuracy on Test set:', accuracy_score(y_test, y_pred), '\\n')\n",
    "\n",
    "rfecv_features_kept = list(X_train.columns[rfecv.support_])\n",
    "print('Number of features kept:', len(rfecv_features_kept), '\\n')\n",
    "print(rfecv_features_kept)\n",
    "\n",
    "# summarize all features\n",
    "# for i in range(X_train.shape[1]):\n",
    "#     print('Column: %d, Selected %s, Rank: %.3f' % (i, rfecv.support_[i], rfecv.ranking_[i]))"
   ]
  },
  {
   "cell_type": "code",
   "execution_count": null,
   "metadata": {},
   "outputs": [],
   "source": []
  },
  {
   "cell_type": "markdown",
   "metadata": {},
   "source": [
    "## Feature Importance with Tree-based feature selection"
   ]
  },
  {
   "cell_type": "markdown",
   "metadata": {},
   "source": [
    "### Visualise Random Forest feature importance"
   ]
  },
  {
   "cell_type": "code",
   "execution_count": null,
   "metadata": {},
   "outputs": [],
   "source": [
    "print('Before applying Random Forest feature selection:', X_train.shape, '\\n')"
   ]
  },
  {
   "cell_type": "code",
   "execution_count": null,
   "metadata": {},
   "outputs": [],
   "source": [
    "###\n",
    "random_forest = RandomForestClassifier(random_state=11)\n",
    "###\n",
    "\n",
    "pipeline = Pipeline([\n",
    "    ('model', random_forest)\n",
    "])\n",
    "\n",
    "pipeline.fit(X_train, y_train)\n",
    "\n",
    "y_pred = pipeline.predict(X_test)\n",
    "print(\"Random Forest Test Accuracy Score:\", accuracy_score(y_test, y_pred), '\\n')"
   ]
  },
  {
   "cell_type": "code",
   "execution_count": null,
   "metadata": {},
   "outputs": [],
   "source": [
    "# Plot Random Forest feature importance\n",
    "names = X_train.columns\n",
    "\n",
    "print(\"Sum of Random Forest Feature Importance:\", sum(random_forest.feature_importances_), '\\n')\n",
    "# print(random_forest.feature_importances_, '\\n')\n",
    "random_forest_coef = random_forest.feature_importances_\n",
    "\n",
    "plt.figure(figsize=(20, 5))\n",
    "_ = plt.bar(range(len(names)), random_forest_coef)\n",
    "_ = plt.xticks(range(len(names)), names, rotation=90)\n",
    "_ = plt.ylabel('Coefficients');"
   ]
  },
  {
   "cell_type": "code",
   "execution_count": null,
   "metadata": {},
   "outputs": [],
   "source": [
    "mask = random_forest.feature_importances_ > 0.1\n",
    "# print(mask, '\\n')\n",
    "\n",
    "X_train_reduced_by_random_forest = X_train.loc[:, mask]\n",
    "list(X_train_reduced_by_random_forest.columns)"
   ]
  },
  {
   "cell_type": "markdown",
   "metadata": {},
   "source": [
    "### RFE Random Forest"
   ]
  },
  {
   "cell_type": "code",
   "execution_count": null,
   "metadata": {},
   "outputs": [],
   "source": [
    "print('Before applying RFE with Random Forest feature selection:', X_train.shape, '\\n')"
   ]
  },
  {
   "cell_type": "code",
   "execution_count": null,
   "metadata": {},
   "outputs": [],
   "source": [
    "###\n",
    "rfe_estimator = random_forest\n",
    "n_features_to_select = 5\n",
    "step=2\n",
    "###\n",
    "\n",
    "rfe_random_forest = RFE(estimator=rfe_estimator, n_features_to_select=n_features_to_select, step=step, verbose=0)\n",
    "\n",
    "pipeline = Pipeline([\n",
    "    ('fs', rfe_random_forest)\n",
    "])\n",
    "\n",
    "pipeline.fit(X_train, y_train)\n",
    "\n",
    "y_pred = rfe_random_forest.predict(X_test)\n",
    "print(\"Random Forest Test Accuracy Score:\", accuracy_score(y_test, y_pred), '\\n')\n",
    "\n",
    "rfe_random_forest_features_kept = list(X_train.columns[rfe_random_forest.support_])\n",
    "print(rfe_random_forest_features_kept, '\\n')\n",
    "\n",
    "dict_rfe_random_forest_rank = dict(zip(X_train.columns, rfe_random_forest.ranking_))\n",
    "{k: v for k, v in sorted(dict_rfe_random_forest_rank.items(), key=lambda item: item[1])}"
   ]
  },
  {
   "cell_type": "code",
   "execution_count": null,
   "metadata": {},
   "outputs": [],
   "source": []
  },
  {
   "cell_type": "markdown",
   "metadata": {},
   "source": [
    "## Feature Selection with Lasso Regularization (for Linear Regression)"
   ]
  },
  {
   "cell_type": "markdown",
   "metadata": {},
   "source": [
    "### Linear Regression"
   ]
  },
  {
   "cell_type": "code",
   "execution_count": null,
   "metadata": {},
   "outputs": [],
   "source": [
    "print('Before applying Regularised Lasso Regression feature selection:', X_train.shape, '\\n')"
   ]
  },
  {
   "cell_type": "code",
   "execution_count": null,
   "metadata": {},
   "outputs": [],
   "source": [
    "lr = LinearRegression()\n",
    "\n",
    "pipeline_scaler = Pipeline(steps=[\n",
    "    ('scaler', s_scaler),\n",
    "    ('fs', lr)\n",
    "])\n",
    "\n",
    "pipeline_scaler.fit(X_train, y_train)\n",
    "\n",
    "print(lr.coef_, '\\n')\n",
    "# print(lr.intercept_)\n",
    "\n",
    "# Calculate R squared on Linear Regression\n",
    "y_pred = pipeline_scaler.predict(X_test)\n",
    "print(\"Linear Regression Test Accuracy Score:\", pipeline_scaler.score(X_test, y_test))"
   ]
  },
  {
   "cell_type": "markdown",
   "metadata": {},
   "source": [
    "### Regularised Lasso Regression: Automated Alpha "
   ]
  },
  {
   "cell_type": "code",
   "execution_count": null,
   "metadata": {},
   "outputs": [],
   "source": [
    "print('Before applying Regularised Lasso Regression:', X_train.shape, '\\n')"
   ]
  },
  {
   "cell_type": "code",
   "execution_count": null,
   "metadata": {},
   "outputs": [],
   "source": [
    "# Automate selection of alpha for regularisation\n",
    "lasso_cv = LassoCV()\n",
    "\n",
    "pipeline_scaler = Pipeline(steps=[\n",
    "    ('scaler', s_scaler),\n",
    "    ('fs', lasso_cv)\n",
    "])\n",
    "\n",
    "pipeline_scaler.fit(X_train, y_train)\n",
    "print(lasso_cv.alpha_)\n",
    "\n",
    "# Calculate R squared on Regularised Lasso Regression\n",
    "y_pred = pipeline_scaler.predict(X_test)\n",
    "print(\"Lasso CV Regression Test Accuracy Score:\", pipeline_scaler.score(X_test, y_test), '\\n')"
   ]
  },
  {
   "cell_type": "code",
   "execution_count": null,
   "metadata": {},
   "outputs": [],
   "source": [
    "mask = lasso_cv.coef_ != 0\n",
    "# print(mask)\n",
    "\n",
    "X_train_reduced_lasso_cv = X_train.loc[:, mask]\n",
    "print('After applying Regularised Lasso CV Regression feature selection:', X_train_reduced_lasso_cv.shape, '\\n')\n",
    "X_train_reduced_lasso_cv.head()"
   ]
  },
  {
   "cell_type": "markdown",
   "metadata": {},
   "source": [
    "### Regularised Lasso Regression: Manual Alpha"
   ]
  },
  {
   "cell_type": "code",
   "execution_count": null,
   "metadata": {},
   "outputs": [],
   "source": [
    "###\n",
    "alpha = 0.01\n",
    "###\n",
    "\n",
    "lasso = Lasso(alpha=alpha)\n",
    "\n",
    "pipeline_scaler = Pipeline(steps=[\n",
    "    ('scaler', s_scaler),\n",
    "    ('fs', lasso)\n",
    "])\n",
    "\n",
    "pipeline_scaler.fit(X_train, y_train)\n",
    "\n",
    "# print(lasso.coef_)\n",
    "# print(lasso.intercept_)\n",
    "\n",
    "# Calculate R squared on Regularised Lasso Regression\n",
    "y_pred = pipeline_scaler.predict(X_test)\n",
    "print(\"Lasso Regression Test Accuracy Score:\", pipeline_scaler.score(X_test, y_test), '\\n')\n",
    "\n",
    "names = X_train.columns\n",
    "lasso_coef = lasso.coef_\n",
    "\n",
    "plt.figure(figsize=(20, 5))\n",
    "_ = plt.bar(range(len(names)), lasso_coef)\n",
    "_ = plt.xticks(range(len(names)), names, rotation=90)\n",
    "_ = plt.ylabel('Coefficients');"
   ]
  },
  {
   "cell_type": "code",
   "execution_count": null,
   "metadata": {},
   "outputs": [],
   "source": [
    "mask = lasso.coef_ != 0\n",
    "# print(mask)\n",
    "\n",
    "X_train_reduced_lasso = X_train.loc[:, mask]\n",
    "print('After applying Regularised Lasso Regression feature selection:', X_train_reduced_lasso.shape, '\\n')\n",
    "\n",
    "X_train_reduced_lasso.head()\n",
    "list(X_train_reduced_lasso.columns)"
   ]
  },
  {
   "cell_type": "code",
   "execution_count": null,
   "metadata": {},
   "outputs": [],
   "source": []
  },
  {
   "cell_type": "markdown",
   "metadata": {},
   "source": [
    "## Feature Selection Voting (by Combining Model Feature Selectors)"
   ]
  },
  {
   "cell_type": "code",
   "execution_count": null,
   "metadata": {},
   "outputs": [],
   "source": [
    "print('Before applying feature selection combining & voting:', X_train.shape, '\\n')"
   ]
  },
  {
   "cell_type": "code",
   "execution_count": null,
   "metadata": {},
   "outputs": [],
   "source": [
    "# Create mask for Lasso CV feature selection\n",
    "lasso_cv = LassoCV()\n",
    "\n",
    "pipeline_scaler = Pipeline(steps=[\n",
    "    ('scaler', s_scaler),\n",
    "    ('fs', lasso_cv)\n",
    "])\n",
    "\n",
    "pipeline_scaler.fit(X_train, y_train)\n",
    "print(pipeline_scaler.score(X_test, y_test))\n",
    "\n",
    "lasso_cv_mask = lasso_cv.coef_ != 0\n",
    "sum(lasso_cv_mask)"
   ]
  },
  {
   "cell_type": "code",
   "execution_count": null,
   "metadata": {},
   "outputs": [],
   "source": [
    "### Create mask for RFE with Random Forest Regressor feature selection\n",
    "rfe_estimator = RandomForestRegressor()\n",
    "n_features_to_select=5\n",
    "step=2\n",
    "###\n",
    "\n",
    "rfe_random_forest = RFE(estimator=rfe_estimator, n_features_to_select=n_features_to_select, step=step, verbose=0)\n",
    "\n",
    "pipeline = Pipeline(steps=[\n",
    "    ('fs', rfe_random_forest)\n",
    "])\n",
    "\n",
    "pipeline.fit(X_train, y_train)\n",
    "print(pipeline.score(X_test, y_test))\n",
    "\n",
    "rfe_random_forest_mask = rfe_random_forest.support_"
   ]
  },
  {
   "cell_type": "code",
   "execution_count": null,
   "metadata": {},
   "outputs": [],
   "source": [
    "### Create mask for RFE with Gradient Boosting Regressor feature selection\n",
    "rfe_estimator = GradientBoostingRegressor()\n",
    "###\n",
    "\n",
    "rfe_gb = RFE(estimator=rfe_estimator, n_features_to_select=n_features_to_select, step=step, verbose=0)\n",
    "\n",
    "pipeline = Pipeline(steps=[\n",
    "    ('fs', rfe_gb)\n",
    "])\n",
    "\n",
    "pipeline.fit(X_train, y_train)\n",
    "print(pipeline.score(X_test, y_test))\n",
    "\n",
    "rf_gb_mask = rfe_gb.support_"
   ]
  },
  {
   "cell_type": "code",
   "execution_count": null,
   "metadata": {},
   "outputs": [],
   "source": [
    "# Combining the feature selectors & vote for features to keep\n",
    "import numpy as np\n",
    "\n",
    "votes = np.sum([lasso_cv_mask, rf_mask, gb_mask], axis=0)\n",
    "print(votes)\n",
    "\n",
    "mask = votes >= 2\n",
    "X_train_combining_fs = X_train.loc[:, mask]"
   ]
  },
  {
   "cell_type": "code",
   "execution_count": null,
   "metadata": {},
   "outputs": [],
   "source": []
  },
  {
   "cell_type": "markdown",
   "metadata": {},
   "source": [
    "# Principle Components Analysis (PCA)"
   ]
  },
  {
   "cell_type": "markdown",
   "metadata": {},
   "source": [
    "## PCA exploration for 'n_components'"
   ]
  },
  {
   "cell_type": "code",
   "execution_count": 68,
   "metadata": {},
   "outputs": [
    {
     "name": "stdout",
     "output_type": "stream",
     "text": [
      "Before PCA exploration: (455, 30) \n",
      "\n"
     ]
    }
   ],
   "source": [
    "X_train_pca_exploration = X_train.copy()\n",
    "print('Before PCA exploration:', X_train_pca_exploration.shape, '\\n')"
   ]
  },
  {
   "cell_type": "code",
   "execution_count": 69,
   "metadata": {},
   "outputs": [
    {
     "name": "stdout",
     "output_type": "stream",
     "text": [
      "[0.448 0.189 0.094 0.066 0.054 0.037 0.024 0.016 0.014 0.012 0.009 0.008\n",
      " 0.007 0.005 0.003 0.003 0.002 0.002 0.001 0.001 0.001 0.001 0.001 0.001\n",
      " 0.    0.    0.    0.    0.    0.   ]\n"
     ]
    }
   ],
   "source": [
    "### Fit Scaler & PCA in Pipeline in one go\n",
    "pca = PCA(n_components=None)\n",
    "###\n",
    "\n",
    "pipeline_pca = Pipeline([\n",
    "    ('scaler', StandardScaler()),\n",
    "    ('reducer', pca)\n",
    "])\n",
    "\n",
    "pipeline_pca.fit_transform(X_train)\n",
    "print(pca.explained_variance_ratio_.round(decimals=3))"
   ]
  },
  {
   "cell_type": "code",
   "execution_count": 70,
   "metadata": {},
   "outputs": [
    {
     "name": "stdout",
     "output_type": "stream",
     "text": [
      "[0.45 0.64 0.73 0.8  0.85 0.89 0.91 0.93 0.94 0.95 0.96 0.97 0.98 0.99\n",
      " 0.99 0.99 0.99 0.99 0.99 0.99 0.99 0.99 0.99 0.99 0.99 0.99 0.99 0.99\n",
      " 0.99 0.99]\n"
     ]
    }
   ],
   "source": [
    "print(pca.explained_variance_ratio_.round(decimals=2).cumsum())\n",
    "# print(pca.components_)"
   ]
  },
  {
   "cell_type": "code",
   "execution_count": 71,
   "metadata": {},
   "outputs": [
    {
     "data": {
      "text/html": [
       "<div>\n",
       "<style scoped>\n",
       "    .dataframe tbody tr th:only-of-type {\n",
       "        vertical-align: middle;\n",
       "    }\n",
       "\n",
       "    .dataframe tbody tr th {\n",
       "        vertical-align: top;\n",
       "    }\n",
       "\n",
       "    .dataframe thead th {\n",
       "        text-align: right;\n",
       "    }\n",
       "</style>\n",
       "<table border=\"1\" class=\"dataframe\">\n",
       "  <thead>\n",
       "    <tr style=\"text-align: right;\">\n",
       "      <th></th>\n",
       "      <th>mean radius</th>\n",
       "      <th>mean texture</th>\n",
       "      <th>mean perimeter</th>\n",
       "      <th>mean area</th>\n",
       "      <th>mean smoothness</th>\n",
       "      <th>mean compactness</th>\n",
       "      <th>mean concavity</th>\n",
       "      <th>mean concave points</th>\n",
       "      <th>mean symmetry</th>\n",
       "      <th>mean fractal dimension</th>\n",
       "      <th>...</th>\n",
       "      <th>worst compactness</th>\n",
       "      <th>worst concavity</th>\n",
       "      <th>worst concave points</th>\n",
       "      <th>worst symmetry</th>\n",
       "      <th>worst fractal dimension</th>\n",
       "      <th>PC_1</th>\n",
       "      <th>PC_2</th>\n",
       "      <th>PC_3</th>\n",
       "      <th>PC_4</th>\n",
       "      <th>PC_5</th>\n",
       "    </tr>\n",
       "  </thead>\n",
       "  <tbody>\n",
       "    <tr>\n",
       "      <th>456</th>\n",
       "      <td>11.63</td>\n",
       "      <td>29.29</td>\n",
       "      <td>74.87</td>\n",
       "      <td>415.1</td>\n",
       "      <td>0.09357</td>\n",
       "      <td>0.08574</td>\n",
       "      <td>0.07160</td>\n",
       "      <td>0.02017</td>\n",
       "      <td>0.1799</td>\n",
       "      <td>0.06166</td>\n",
       "      <td>...</td>\n",
       "      <td>0.20310</td>\n",
       "      <td>0.29230</td>\n",
       "      <td>0.06835</td>\n",
       "      <td>0.2884</td>\n",
       "      <td>0.07220</td>\n",
       "      <td>-1.318472</td>\n",
       "      <td>0.769392</td>\n",
       "      <td>1.472079</td>\n",
       "      <td>-3.840406</td>\n",
       "      <td>-1.188335</td>\n",
       "    </tr>\n",
       "    <tr>\n",
       "      <th>174</th>\n",
       "      <td>10.66</td>\n",
       "      <td>15.15</td>\n",
       "      <td>67.49</td>\n",
       "      <td>349.6</td>\n",
       "      <td>0.08792</td>\n",
       "      <td>0.04302</td>\n",
       "      <td>0.00000</td>\n",
       "      <td>0.00000</td>\n",
       "      <td>0.1928</td>\n",
       "      <td>0.05975</td>\n",
       "      <td>...</td>\n",
       "      <td>0.06791</td>\n",
       "      <td>0.00000</td>\n",
       "      <td>0.00000</td>\n",
       "      <td>0.2710</td>\n",
       "      <td>0.06164</td>\n",
       "      <td>-4.711020</td>\n",
       "      <td>-0.236419</td>\n",
       "      <td>1.730759</td>\n",
       "      <td>0.408174</td>\n",
       "      <td>-1.831390</td>\n",
       "    </tr>\n",
       "    <tr>\n",
       "      <th>184</th>\n",
       "      <td>15.28</td>\n",
       "      <td>22.41</td>\n",
       "      <td>98.92</td>\n",
       "      <td>710.6</td>\n",
       "      <td>0.09057</td>\n",
       "      <td>0.10520</td>\n",
       "      <td>0.05375</td>\n",
       "      <td>0.03263</td>\n",
       "      <td>0.1727</td>\n",
       "      <td>0.06317</td>\n",
       "      <td>...</td>\n",
       "      <td>0.32990</td>\n",
       "      <td>0.36300</td>\n",
       "      <td>0.12260</td>\n",
       "      <td>0.3175</td>\n",
       "      <td>0.09772</td>\n",
       "      <td>-0.504938</td>\n",
       "      <td>-0.922884</td>\n",
       "      <td>-2.526334</td>\n",
       "      <td>-0.878038</td>\n",
       "      <td>0.615015</td>\n",
       "    </tr>\n",
       "    <tr>\n",
       "      <th>10</th>\n",
       "      <td>16.02</td>\n",
       "      <td>23.24</td>\n",
       "      <td>102.70</td>\n",
       "      <td>797.8</td>\n",
       "      <td>0.08206</td>\n",
       "      <td>0.06669</td>\n",
       "      <td>0.03299</td>\n",
       "      <td>0.03323</td>\n",
       "      <td>0.1528</td>\n",
       "      <td>0.05697</td>\n",
       "      <td>...</td>\n",
       "      <td>0.15510</td>\n",
       "      <td>0.14590</td>\n",
       "      <td>0.09975</td>\n",
       "      <td>0.2948</td>\n",
       "      <td>0.08452</td>\n",
       "      <td>-0.897174</td>\n",
       "      <td>-2.654709</td>\n",
       "      <td>-0.519048</td>\n",
       "      <td>-1.791739</td>\n",
       "      <td>0.169195</td>\n",
       "    </tr>\n",
       "    <tr>\n",
       "      <th>429</th>\n",
       "      <td>12.72</td>\n",
       "      <td>17.67</td>\n",
       "      <td>80.98</td>\n",
       "      <td>501.3</td>\n",
       "      <td>0.07896</td>\n",
       "      <td>0.04522</td>\n",
       "      <td>0.01402</td>\n",
       "      <td>0.01835</td>\n",
       "      <td>0.1459</td>\n",
       "      <td>0.05544</td>\n",
       "      <td>...</td>\n",
       "      <td>0.09605</td>\n",
       "      <td>0.03469</td>\n",
       "      <td>0.03612</td>\n",
       "      <td>0.2165</td>\n",
       "      <td>0.06025</td>\n",
       "      <td>-4.030572</td>\n",
       "      <td>-2.057920</td>\n",
       "      <td>0.708376</td>\n",
       "      <td>0.432083</td>\n",
       "      <td>0.360289</td>\n",
       "    </tr>\n",
       "  </tbody>\n",
       "</table>\n",
       "<p>5 rows × 35 columns</p>\n",
       "</div>"
      ],
      "text/plain": [
       "     mean radius  mean texture  mean perimeter  mean area  mean smoothness  \\\n",
       "456        11.63         29.29           74.87      415.1          0.09357   \n",
       "174        10.66         15.15           67.49      349.6          0.08792   \n",
       "184        15.28         22.41           98.92      710.6          0.09057   \n",
       "10         16.02         23.24          102.70      797.8          0.08206   \n",
       "429        12.72         17.67           80.98      501.3          0.07896   \n",
       "\n",
       "     mean compactness  mean concavity  mean concave points  mean symmetry  \\\n",
       "456           0.08574         0.07160              0.02017         0.1799   \n",
       "174           0.04302         0.00000              0.00000         0.1928   \n",
       "184           0.10520         0.05375              0.03263         0.1727   \n",
       "10            0.06669         0.03299              0.03323         0.1528   \n",
       "429           0.04522         0.01402              0.01835         0.1459   \n",
       "\n",
       "     mean fractal dimension  ...  worst compactness  worst concavity  \\\n",
       "456                 0.06166  ...            0.20310          0.29230   \n",
       "174                 0.05975  ...            0.06791          0.00000   \n",
       "184                 0.06317  ...            0.32990          0.36300   \n",
       "10                  0.05697  ...            0.15510          0.14590   \n",
       "429                 0.05544  ...            0.09605          0.03469   \n",
       "\n",
       "     worst concave points  worst symmetry  worst fractal dimension      PC_1  \\\n",
       "456               0.06835          0.2884                  0.07220 -1.318472   \n",
       "174               0.00000          0.2710                  0.06164 -4.711020   \n",
       "184               0.12260          0.3175                  0.09772 -0.504938   \n",
       "10                0.09975          0.2948                  0.08452 -0.897174   \n",
       "429               0.03612          0.2165                  0.06025 -4.030572   \n",
       "\n",
       "         PC_2      PC_3      PC_4      PC_5  \n",
       "456  0.769392  1.472079 -3.840406 -1.188335  \n",
       "174 -0.236419  1.730759  0.408174 -1.831390  \n",
       "184 -0.922884 -2.526334 -0.878038  0.615015  \n",
       "10  -2.654709 -0.519048 -1.791739  0.169195  \n",
       "429 -2.057920  0.708376  0.432083  0.360289  \n",
       "\n",
       "[5 rows x 35 columns]"
      ]
     },
     "execution_count": 71,
     "metadata": {},
     "output_type": "execute_result"
    }
   ],
   "source": [
    "principle_components = pipeline_pca.fit_transform(X_train)\n",
    "# print(principle_components[:2,])\n",
    "\n",
    "X_train_pca_exploration['PC_1'] = principle_components[:,0]\n",
    "X_train_pca_exploration['PC_2'] = principle_components[:,1]\n",
    "X_train_pca_exploration['PC_3'] = principle_components[:,2]\n",
    "X_train_pca_exploration['PC_4'] = principle_components[:,3]\n",
    "X_train_pca_exploration['PC_5'] = principle_components[:,4]\n",
    "\n",
    "X_train_pca_exploration.head()"
   ]
  },
  {
   "cell_type": "raw",
   "metadata": {},
   "source": [
    "# Visualise categories with respect to Principle Components\n",
    "sns.scatterplot(data=X_train_pca_exploration, \n",
    "                x='PC 1', y='PC 2', \n",
    "                hue='CATEGORY', alpha=0.4)"
   ]
  },
  {
   "cell_type": "markdown",
   "metadata": {},
   "source": [
    "## Manually set 'n_components' for model"
   ]
  },
  {
   "cell_type": "code",
   "execution_count": 72,
   "metadata": {},
   "outputs": [
    {
     "name": "stdout",
     "output_type": "stream",
     "text": [
      "Before applying PCA for dimensionality reduction: (455, 30) \n",
      "\n"
     ]
    }
   ],
   "source": [
    "# Decide on number of principle components to use and pipeline with model\n",
    "print('Before applying PCA for dimensionality reduction:', X_train.shape, '\\n')"
   ]
  },
  {
   "cell_type": "code",
   "execution_count": 73,
   "metadata": {},
   "outputs": [
    {
     "name": "stdout",
     "output_type": "stream",
     "text": [
      "('reducer', PCA(n_components=5))\n"
     ]
    }
   ],
   "source": [
    "### Decide on number of principle components to use and pipeline with model\n",
    "pca = PCA(n_components=5)\n",
    "model = RandomForestClassifier(random_state=11)\n",
    "###\n",
    "\n",
    "pipeline_pca = Pipeline([\n",
    "    ('scaler', StandardScaler()),\n",
    "    ('reducer', pca),\n",
    "    ('model', model)\n",
    "])\n",
    "\n",
    "pipeline_pca.fit(X_train, y_train)\n",
    "print(pipeline_pca.steps[1])"
   ]
  },
  {
   "cell_type": "code",
   "execution_count": 74,
   "metadata": {},
   "outputs": [
    {
     "name": "stdout",
     "output_type": "stream",
     "text": [
      "[0.44807772 0.63737149 0.73138349 0.79725457 0.85115553] \n",
      "\n",
      "0.9385964912280702\n"
     ]
    }
   ],
   "source": [
    "print(pipeline_pca.steps[1][1].explained_variance_ratio_.cumsum(), '\\n')\n",
    "print(pipeline_pca.score(X_test, y_test))"
   ]
  },
  {
   "cell_type": "code",
   "execution_count": null,
   "metadata": {},
   "outputs": [],
   "source": []
  },
  {
   "cell_type": "markdown",
   "metadata": {},
   "source": [
    "## Visualise optimal 'n_components'"
   ]
  },
  {
   "cell_type": "code",
   "execution_count": 75,
   "metadata": {},
   "outputs": [
    {
     "name": "stdout",
     "output_type": "stream",
     "text": [
      "Before PCA exploration: (455, 30) \n",
      "\n"
     ]
    }
   ],
   "source": [
    "print('Before PCA exploration:', X_train.shape, '\\n')"
   ]
  },
  {
   "cell_type": "code",
   "execution_count": 76,
   "metadata": {},
   "outputs": [
    {
     "name": "stdout",
     "output_type": "stream",
     "text": [
      "Number of components for 90% explained variance: 7 \n",
      "\n"
     ]
    },
    {
     "data": {
      "image/png": "[encoded data removed]",
      "text/plain": [
       "<Figure size 432x288 with 1 Axes>"
      ]
     },
     "metadata": {
      "needs_background": "light"
     },
     "output_type": "display_data"
    }
   ],
   "source": [
    "### An optimal number of components\n",
    "pca = PCA(n_components=0.9)\n",
    "###\n",
    "\n",
    "pipeline_pca = Pipeline([\n",
    "    ('scaler', StandardScaler()),\n",
    "    ('reducer', pca)\n",
    "])\n",
    "\n",
    "pipeline_pca.fit(X_train)\n",
    "print(\"Number of components for 90% explained variance:\", len(pipeline_pca.steps[1][1].components_), '\\n')\n",
    "\n",
    "# Pick the elbow for approx optimal number of components\n",
    "var = pipeline_pca.steps[1][1].explained_variance_ratio_\n",
    "\n",
    "plt.plot(var)\n",
    "plt.xlabel('Principle component index')\n",
    "plt.ylabel('Explained variance ratio');"
   ]
  },
  {
   "cell_type": "code",
   "execution_count": null,
   "metadata": {},
   "outputs": [],
   "source": []
  },
  {
   "cell_type": "markdown",
   "metadata": {},
   "source": [
    "## t-SNE check"
   ]
  },
  {
   "cell_type": "code",
   "execution_count": 78,
   "metadata": {},
   "outputs": [
    {
     "name": "stdout",
     "output_type": "stream",
     "text": [
      "Before X_tnse: (455, 30) \n",
      "\n"
     ]
    }
   ],
   "source": [
    "X_tsne = X_train.copy()\n",
    "print('Before X_tnse:', X_tsne.shape, '\\n')"
   ]
  },
  {
   "cell_type": "code",
   "execution_count": 79,
   "metadata": {},
   "outputs": [
    {
     "name": "stdout",
     "output_type": "stream",
     "text": [
      "After removing non numeric for TSNE: (455, 30) \n",
      "\n"
     ]
    },
    {
     "data": {
      "text/html": [
       "<div>\n",
       "<style scoped>\n",
       "    .dataframe tbody tr th:only-of-type {\n",
       "        vertical-align: middle;\n",
       "    }\n",
       "\n",
       "    .dataframe tbody tr th {\n",
       "        vertical-align: top;\n",
       "    }\n",
       "\n",
       "    .dataframe thead th {\n",
       "        text-align: right;\n",
       "    }\n",
       "</style>\n",
       "<table border=\"1\" class=\"dataframe\">\n",
       "  <thead>\n",
       "    <tr style=\"text-align: right;\">\n",
       "      <th></th>\n",
       "      <th>mean radius</th>\n",
       "      <th>mean texture</th>\n",
       "      <th>mean perimeter</th>\n",
       "      <th>mean area</th>\n",
       "      <th>mean smoothness</th>\n",
       "      <th>mean compactness</th>\n",
       "      <th>mean concavity</th>\n",
       "      <th>mean concave points</th>\n",
       "      <th>mean symmetry</th>\n",
       "      <th>mean fractal dimension</th>\n",
       "      <th>...</th>\n",
       "      <th>worst perimeter</th>\n",
       "      <th>worst area</th>\n",
       "      <th>worst smoothness</th>\n",
       "      <th>worst compactness</th>\n",
       "      <th>worst concavity</th>\n",
       "      <th>worst concave points</th>\n",
       "      <th>worst symmetry</th>\n",
       "      <th>worst fractal dimension</th>\n",
       "      <th>x</th>\n",
       "      <th>y</th>\n",
       "    </tr>\n",
       "  </thead>\n",
       "  <tbody>\n",
       "    <tr>\n",
       "      <th>456</th>\n",
       "      <td>11.63</td>\n",
       "      <td>29.29</td>\n",
       "      <td>74.87</td>\n",
       "      <td>415.1</td>\n",
       "      <td>0.09357</td>\n",
       "      <td>0.08574</td>\n",
       "      <td>0.07160</td>\n",
       "      <td>0.02017</td>\n",
       "      <td>0.1799</td>\n",
       "      <td>0.06166</td>\n",
       "      <td>...</td>\n",
       "      <td>86.04</td>\n",
       "      <td>527.8</td>\n",
       "      <td>0.1406</td>\n",
       "      <td>0.20310</td>\n",
       "      <td>0.29230</td>\n",
       "      <td>0.06835</td>\n",
       "      <td>0.2884</td>\n",
       "      <td>0.07220</td>\n",
       "      <td>6.044507</td>\n",
       "      <td>-19.130842</td>\n",
       "    </tr>\n",
       "    <tr>\n",
       "      <th>174</th>\n",
       "      <td>10.66</td>\n",
       "      <td>15.15</td>\n",
       "      <td>67.49</td>\n",
       "      <td>349.6</td>\n",
       "      <td>0.08792</td>\n",
       "      <td>0.04302</td>\n",
       "      <td>0.00000</td>\n",
       "      <td>0.00000</td>\n",
       "      <td>0.1928</td>\n",
       "      <td>0.05975</td>\n",
       "      <td>...</td>\n",
       "      <td>73.20</td>\n",
       "      <td>408.3</td>\n",
       "      <td>0.1076</td>\n",
       "      <td>0.06791</td>\n",
       "      <td>0.00000</td>\n",
       "      <td>0.00000</td>\n",
       "      <td>0.2710</td>\n",
       "      <td>0.06164</td>\n",
       "      <td>19.019957</td>\n",
       "      <td>-13.270686</td>\n",
       "    </tr>\n",
       "    <tr>\n",
       "      <th>184</th>\n",
       "      <td>15.28</td>\n",
       "      <td>22.41</td>\n",
       "      <td>98.92</td>\n",
       "      <td>710.6</td>\n",
       "      <td>0.09057</td>\n",
       "      <td>0.10520</td>\n",
       "      <td>0.05375</td>\n",
       "      <td>0.03263</td>\n",
       "      <td>0.1727</td>\n",
       "      <td>0.06317</td>\n",
       "      <td>...</td>\n",
       "      <td>113.80</td>\n",
       "      <td>973.1</td>\n",
       "      <td>0.1301</td>\n",
       "      <td>0.32990</td>\n",
       "      <td>0.36300</td>\n",
       "      <td>0.12260</td>\n",
       "      <td>0.3175</td>\n",
       "      <td>0.09772</td>\n",
       "      <td>-9.263345</td>\n",
       "      <td>11.621743</td>\n",
       "    </tr>\n",
       "    <tr>\n",
       "      <th>10</th>\n",
       "      <td>16.02</td>\n",
       "      <td>23.24</td>\n",
       "      <td>102.70</td>\n",
       "      <td>797.8</td>\n",
       "      <td>0.08206</td>\n",
       "      <td>0.06669</td>\n",
       "      <td>0.03299</td>\n",
       "      <td>0.03323</td>\n",
       "      <td>0.1528</td>\n",
       "      <td>0.05697</td>\n",
       "      <td>...</td>\n",
       "      <td>123.80</td>\n",
       "      <td>1150.0</td>\n",
       "      <td>0.1181</td>\n",
       "      <td>0.15510</td>\n",
       "      <td>0.14590</td>\n",
       "      <td>0.09975</td>\n",
       "      <td>0.2948</td>\n",
       "      <td>0.08452</td>\n",
       "      <td>-5.573288</td>\n",
       "      <td>15.710692</td>\n",
       "    </tr>\n",
       "    <tr>\n",
       "      <th>429</th>\n",
       "      <td>12.72</td>\n",
       "      <td>17.67</td>\n",
       "      <td>80.98</td>\n",
       "      <td>501.3</td>\n",
       "      <td>0.07896</td>\n",
       "      <td>0.04522</td>\n",
       "      <td>0.01402</td>\n",
       "      <td>0.01835</td>\n",
       "      <td>0.1459</td>\n",
       "      <td>0.05544</td>\n",
       "      <td>...</td>\n",
       "      <td>88.87</td>\n",
       "      <td>586.8</td>\n",
       "      <td>0.1068</td>\n",
       "      <td>0.09605</td>\n",
       "      <td>0.03469</td>\n",
       "      <td>0.03612</td>\n",
       "      <td>0.2165</td>\n",
       "      <td>0.06025</td>\n",
       "      <td>-6.698589</td>\n",
       "      <td>-16.645790</td>\n",
       "    </tr>\n",
       "  </tbody>\n",
       "</table>\n",
       "<p>5 rows × 32 columns</p>\n",
       "</div>"
      ],
      "text/plain": [
       "     mean radius  mean texture  mean perimeter  mean area  mean smoothness  \\\n",
       "456        11.63         29.29           74.87      415.1          0.09357   \n",
       "174        10.66         15.15           67.49      349.6          0.08792   \n",
       "184        15.28         22.41           98.92      710.6          0.09057   \n",
       "10         16.02         23.24          102.70      797.8          0.08206   \n",
       "429        12.72         17.67           80.98      501.3          0.07896   \n",
       "\n",
       "     mean compactness  mean concavity  mean concave points  mean symmetry  \\\n",
       "456           0.08574         0.07160              0.02017         0.1799   \n",
       "174           0.04302         0.00000              0.00000         0.1928   \n",
       "184           0.10520         0.05375              0.03263         0.1727   \n",
       "10            0.06669         0.03299              0.03323         0.1528   \n",
       "429           0.04522         0.01402              0.01835         0.1459   \n",
       "\n",
       "     mean fractal dimension  ...  worst perimeter  worst area  \\\n",
       "456                 0.06166  ...            86.04       527.8   \n",
       "174                 0.05975  ...            73.20       408.3   \n",
       "184                 0.06317  ...           113.80       973.1   \n",
       "10                  0.05697  ...           123.80      1150.0   \n",
       "429                 0.05544  ...            88.87       586.8   \n",
       "\n",
       "     worst smoothness  worst compactness  worst concavity  \\\n",
       "456            0.1406            0.20310          0.29230   \n",
       "174            0.1076            0.06791          0.00000   \n",
       "184            0.1301            0.32990          0.36300   \n",
       "10             0.1181            0.15510          0.14590   \n",
       "429            0.1068            0.09605          0.03469   \n",
       "\n",
       "     worst concave points  worst symmetry  worst fractal dimension          x  \\\n",
       "456               0.06835          0.2884                  0.07220   6.044507   \n",
       "174               0.00000          0.2710                  0.06164  19.019957   \n",
       "184               0.12260          0.3175                  0.09772  -9.263345   \n",
       "10                0.09975          0.2948                  0.08452  -5.573288   \n",
       "429               0.03612          0.2165                  0.06025  -6.698589   \n",
       "\n",
       "             y  \n",
       "456 -19.130842  \n",
       "174 -13.270686  \n",
       "184  11.621743  \n",
       "10   15.710692  \n",
       "429 -16.645790  \n",
       "\n",
       "[5 rows x 32 columns]"
      ]
     },
     "execution_count": 79,
     "metadata": {},
     "output_type": "execute_result"
    }
   ],
   "source": [
    "non_numeric = []\n",
    "X_tsne_numeric = X_tsne.drop(non_numeric, axis=1)\n",
    "print('After removing non numeric for TSNE:', X_tsne_numeric.shape, '\\n')\n",
    "\n",
    "m = TSNE(learning_rate=50)\n",
    "\n",
    "tsne_features = m.fit_transform(X_tsne_numeric)\n",
    "tsne_features[1:4,:]\n",
    "\n",
    "X_tsne['x'] = tsne_features[:,0]\n",
    "X_tsne['y'] = tsne_features[:,1]\n",
    "\n",
    "X_tsne.head()"
   ]
  },
  {
   "cell_type": "code",
   "execution_count": null,
   "metadata": {},
   "outputs": [],
   "source": [
    "# Plot 2d tsne against any category (if available)\n",
    "sns.scatterplot(x='x', y='x', data=X_tsne, \n",
    "#                 hue='CATEGORY'\n",
    "               );"
   ]
  },
  {
   "cell_type": "code",
   "execution_count": null,
   "metadata": {},
   "outputs": [],
   "source": []
  },
  {
   "cell_type": "markdown",
   "metadata": {},
   "source": [
    "# Feature Engineering"
   ]
  },
  {
   "cell_type": "code",
   "execution_count": null,
   "metadata": {},
   "outputs": [],
   "source": [
    "http://contrib.scikit-learn.org/category_encoders/index.html"
   ]
  },
  {
   "cell_type": "code",
   "execution_count": null,
   "metadata": {},
   "outputs": [],
   "source": [
    "https://feature-engine.readthedocs.io/en/latest/quickstart.html"
   ]
  },
  {
   "cell_type": "code",
   "execution_count": null,
   "metadata": {},
   "outputs": [],
   "source": [
    "https://towardsdatascience.com/the-art-of-finding-the-best-features-for-machine-learning-a9074e2ca60d"
   ]
  },
  {
   "cell_type": "code",
   "execution_count": null,
   "metadata": {},
   "outputs": [],
   "source": [
    "https://www.scikit-yb.org/en/latest/"
   ]
  },
  {
   "cell_type": "code",
   "execution_count": null,
   "metadata": {},
   "outputs": [],
   "source": []
  },
  {
   "cell_type": "markdown",
   "metadata": {},
   "source": [
    "# Feature Engineering Checklist"
   ]
  },
  {
   "cell_type": "code",
   "execution_count": null,
   "metadata": {},
   "outputs": [],
   "source": [
    "https://elitedatascience.com/feature-engineering-best-practices\n",
    "    \n",
    "What is Not Feature Engineering?\n",
    "That means there are certain steps we do not consider to be feature engineering:\n",
    "\n",
    "We do not consider initial data collection to be feature engineering.\n",
    "Similarly, we do not consider creating the target variable to be feature engineering.\n",
    "We do not consider removing duplicates, handling missing values, or fixing mislabeled classes to be feature engineering. We put these under data cleaning.\n",
    "We do not consider scaling or normalization to be feature engineering because these steps belong inside the cross-validation loop (i.e. after you’ve already built your analytical base table).\n",
    "Finally, we do not consider feature selection or PCA to be feature engineering. These steps also belong inside your cross-validation loop.\n",
    "Again, this is simply our categorization. Reasonable data scientists may disagree, and that’s perfectly fine.\n",
    "\n",
    "With those disclaimers out of the way, let’s dive into the best practices and heuristics!\n",
    "\n",
    "Indicator Variables\n",
    "    Indicator variable from thresholds\n",
    "    Indicator variable from multiple features\n",
    "    Indicator variable for special events\n",
    "    Indicator variable for groups of classes\n",
    "    \n",
    "Interaction Features\n",
    "    Sum of two features\n",
    "    Difference between two features\n",
    "    Product of two features\n",
    "    Quotient of two features\n",
    "    \n",
    "Feature Representation\n",
    "    Date and time features\n",
    "    Numeric to categorical mappings\n",
    "    Grouping sparse classes\n",
    "    Creating dummy variables\n",
    "\n",
    "External Data\n",
    "    Time series data\n",
    "    External API’s\n",
    "    Geocoding\n",
    "    Other sources of the same data\n",
    "    \n",
    "Error Analysis (Post-Modeling)\n",
    "    Start with larger errors\n",
    "    Segment by classes\n",
    "    Unsupervised clustering\n",
    "    Ask colleagues or domain experts"
   ]
  },
  {
   "cell_type": "code",
   "execution_count": null,
   "metadata": {},
   "outputs": [],
   "source": [
    "https://towardsdatascience.com/feature-engineering-in-python-part-i-the-most-powerful-way-of-dealing-with-data-8e2447e7c69e\n",
    "    \n",
    "Feature Selection\n",
    "\n",
    "Feature Transformation\n",
    "\n",
    "Feature Extraction"
   ]
  },
  {
   "cell_type": "code",
   "execution_count": null,
   "metadata": {},
   "outputs": [],
   "source": [
    "Creating New Features\n",
    "This is the hardest section and requires the most critical thinking, in my opinion. \n",
    "There isn’t any code I can give that will apply to lots of projects — it really depends on the dataset.\n",
    "Here are a couple of cases where you may want to try creating a new feature:\n",
    "You suspect that the relationship of an outcome and a feature depends on a second feature → Create an interaction variable\n",
    "You want to create linear relationships → Create quadratic or higher level functions\n",
    "You can think of variables/information that is missing from your dataset → Create this variable using a function of variables you do have"
   ]
  },
  {
   "cell_type": "code",
   "execution_count": null,
   "metadata": {},
   "outputs": [],
   "source": [
    "Iterative Process of Feature Engineering\n",
    "The process might look as follows:\n",
    "\n",
    "Brainstorm features: Really get into the problem, look at a lot of data, study feature engineering on other problems and see what you can steal.\n",
    "Devise features: Depends on your problem, but you may use automatic feature extraction, manual feature construction and mixtures of the two.\n",
    "Select features: Use different feature importance scorings and feature selection methods to prepare one or more “views” for your models to operate upon.\n",
    "Evaluate models: Estimate model accuracy on unseen data using the chosen features."
   ]
  },
  {
   "cell_type": "code",
   "execution_count": null,
   "metadata": {},
   "outputs": [],
   "source": [
    "https://adataanalyst.com/machine-learning/comprehensive-guide-feature-engineering/\n",
    "\n",
    "Representing timestamps\n",
    "Missing Value Treatment\n",
    "Create new ratios and proportions\n",
    "Binning/Bucketing\n",
    "Reframe Numerical Quantities\n",
    "Variable Transformation\n",
    "Outlier Detection and Treatment\n",
    "Decomposing Categorical Attributes\n",
    "Encode all the categorical features in Python\n",
    "One Hot Encoding in Python\n",
    "Feature Crosses\n",
    "Feature Importance:"
   ]
  },
  {
   "cell_type": "code",
   "execution_count": null,
   "metadata": {},
   "outputs": [],
   "source": []
  },
  {
   "cell_type": "code",
   "execution_count": null,
   "metadata": {},
   "outputs": [],
   "source": []
  }
 ],
 "metadata": {
  "environment": {
   "name": "common-cpu.m61",
   "type": "gcloud",
   "uri": "gcr.io/deeplearning-platform-release/base-cpu:m61"
  },
  "kernelspec": {
   "display_name": "Python 3",
   "language": "python",
   "name": "python3"
  },
  "language_info": {
   "codemirror_mode": {
    "name": "ipython",
    "version": 3
   },
   "file_extension": ".py",
   "mimetype": "text/x-python",
   "name": "python",
   "nbconvert_exporter": "python",
   "pygments_lexer": "ipython3",
   "version": "3.7.9"
  }
 },
 "nbformat": 4,
 "nbformat_minor": 4
}
