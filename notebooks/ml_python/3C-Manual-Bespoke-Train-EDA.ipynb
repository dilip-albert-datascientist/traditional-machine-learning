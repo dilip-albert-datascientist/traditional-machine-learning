{
 "cells": [
  {
   "cell_type": "markdown",
   "metadata": {},
   "source": [
    "## a) Dependencies"
   ]
  },
  {
   "cell_type": "code",
   "execution_count": 73,
   "metadata": {},
   "outputs": [],
   "source": [
    "# External Dependencies\n",
    "import numpy as np\n",
    "import pandas as pd\n",
    "\n",
    "import seaborn as sns\n",
    "import matplotlib.pyplot as plt\n",
    "\n",
    "import sys"
   ]
  },
  {
   "cell_type": "markdown",
   "metadata": {},
   "source": [
    "## b) Notebook Settings"
   ]
  },
  {
   "cell_type": "code",
   "execution_count": 74,
   "metadata": {},
   "outputs": [],
   "source": [
    "# Show ALL outputs in cell, not only last result\n",
    "from IPython.core.interactiveshell import InteractiveShell\n",
    "InteractiveShell.ast_node_interactivity = \"all\"\n",
    "\n",
    "pd.options.display.float_format = '{:.4f}'.format # 4 decimal places\n",
    "\n",
    "# Set relative path mapping for module imports\n",
    "relative_filepath = \"../../\"\n",
    "sys.path.append(relative_filepath)\n",
    "\n",
    "# Change defaults\n",
    "sns.set(style='whitegrid',\n",
    "        #context='talk'\n",
    "       )"
   ]
  },
  {
   "cell_type": "code",
   "execution_count": null,
   "metadata": {},
   "outputs": [],
   "source": []
  },
  {
   "cell_type": "markdown",
   "metadata": {},
   "source": [
    "## c) Load Pickled Data"
   ]
  },
  {
   "cell_type": "code",
   "execution_count": 75,
   "metadata": {},
   "outputs": [
    {
     "data": {
      "text/html": [
       "<div>\n",
       "<style scoped>\n",
       "    .dataframe tbody tr th:only-of-type {\n",
       "        vertical-align: middle;\n",
       "    }\n",
       "\n",
       "    .dataframe tbody tr th {\n",
       "        vertical-align: top;\n",
       "    }\n",
       "\n",
       "    .dataframe thead th {\n",
       "        text-align: right;\n",
       "    }\n",
       "</style>\n",
       "<table border=\"1\" class=\"dataframe\">\n",
       "  <thead>\n",
       "    <tr style=\"text-align: right;\">\n",
       "      <th></th>\n",
       "      <th>v1</th>\n",
       "      <th>v2</th>\n",
       "      <th>v3</th>\n",
       "      <th>v4</th>\n",
       "      <th>v5</th>\n",
       "      <th>v6</th>\n",
       "      <th>v7</th>\n",
       "      <th>v8</th>\n",
       "      <th>v9</th>\n",
       "      <th>v10</th>\n",
       "      <th>v11</th>\n",
       "      <th>v12</th>\n",
       "      <th>v13</th>\n",
       "      <th>v14</th>\n",
       "      <th>v15</th>\n",
       "      <th>v16</th>\n",
       "      <th>v17</th>\n",
       "      <th>classLabel</th>\n",
       "    </tr>\n",
       "  </thead>\n",
       "  <tbody>\n",
       "    <tr>\n",
       "      <th>0</th>\n",
       "      <td>a</td>\n",
       "      <td>17.9200</td>\n",
       "      <td>0.0001</td>\n",
       "      <td>u</td>\n",
       "      <td>-0.8402</td>\n",
       "      <td>0.5229</td>\n",
       "      <td>1.7500</td>\n",
       "      <td>f</td>\n",
       "      <td>t</td>\n",
       "      <td>1</td>\n",
       "      <td>t</td>\n",
       "      <td>g</td>\n",
       "      <td>80.0000</td>\n",
       "      <td>5</td>\n",
       "      <td>800000.0000</td>\n",
       "      <td>t</td>\n",
       "      <td>0</td>\n",
       "      <td>0</td>\n",
       "    </tr>\n",
       "    <tr>\n",
       "      <th>1</th>\n",
       "      <td>b</td>\n",
       "      <td>16.9200</td>\n",
       "      <td>0.0000</td>\n",
       "      <td>y</td>\n",
       "      <td>-2.1596</td>\n",
       "      <td>0.7742</td>\n",
       "      <td>0.2900</td>\n",
       "      <td>f</td>\n",
       "      <td>f</td>\n",
       "      <td>0</td>\n",
       "      <td>f</td>\n",
       "      <td>s</td>\n",
       "      <td>200.0000</td>\n",
       "      <td>0</td>\n",
       "      <td>2000000.0000</td>\n",
       "      <td>NaN</td>\n",
       "      <td>0</td>\n",
       "      <td>0</td>\n",
       "    </tr>\n",
       "    <tr>\n",
       "      <th>2</th>\n",
       "      <td>b</td>\n",
       "      <td>31.2500</td>\n",
       "      <td>0.0001</td>\n",
       "      <td>u</td>\n",
       "      <td>1.7507</td>\n",
       "      <td>0.7604</td>\n",
       "      <td>0.0000</td>\n",
       "      <td>f</td>\n",
       "      <td>t</td>\n",
       "      <td>1</td>\n",
       "      <td>f</td>\n",
       "      <td>g</td>\n",
       "      <td>96.0000</td>\n",
       "      <td>19</td>\n",
       "      <td>960000.0000</td>\n",
       "      <td>t</td>\n",
       "      <td>0</td>\n",
       "      <td>0</td>\n",
       "    </tr>\n",
       "    <tr>\n",
       "      <th>3</th>\n",
       "      <td>a</td>\n",
       "      <td>48.1700</td>\n",
       "      <td>0.0001</td>\n",
       "      <td>u</td>\n",
       "      <td>4.1749</td>\n",
       "      <td>0.8890</td>\n",
       "      <td>0.3350</td>\n",
       "      <td>f</td>\n",
       "      <td>f</td>\n",
       "      <td>0</td>\n",
       "      <td>f</td>\n",
       "      <td>g</td>\n",
       "      <td>0.0000</td>\n",
       "      <td>120</td>\n",
       "      <td>0.0000</td>\n",
       "      <td>NaN</td>\n",
       "      <td>0</td>\n",
       "      <td>0</td>\n",
       "    </tr>\n",
       "    <tr>\n",
       "      <th>4</th>\n",
       "      <td>b</td>\n",
       "      <td>32.3300</td>\n",
       "      <td>0.0003</td>\n",
       "      <td>u</td>\n",
       "      <td>-3.7855</td>\n",
       "      <td>0.4890</td>\n",
       "      <td>0.5000</td>\n",
       "      <td>f</td>\n",
       "      <td>f</td>\n",
       "      <td>0</td>\n",
       "      <td>t</td>\n",
       "      <td>g</td>\n",
       "      <td>232.0000</td>\n",
       "      <td>0</td>\n",
       "      <td>2320000.0000</td>\n",
       "      <td>f</td>\n",
       "      <td>0</td>\n",
       "      <td>0</td>\n",
       "    </tr>\n",
       "  </tbody>\n",
       "</table>\n",
       "</div>"
      ],
      "text/plain": [
       "  v1      v2     v3 v4      v5     v6     v7 v8 v9  v10 v11 v12      v13  v14  \\\n",
       "0  a 17.9200 0.0001  u -0.8402 0.5229 1.7500  f  t    1   t   g  80.0000    5   \n",
       "1  b 16.9200 0.0000  y -2.1596 0.7742 0.2900  f  f    0   f   s 200.0000    0   \n",
       "2  b 31.2500 0.0001  u  1.7507 0.7604 0.0000  f  t    1   f   g  96.0000   19   \n",
       "3  a 48.1700 0.0001  u  4.1749 0.8890 0.3350  f  f    0   f   g   0.0000  120   \n",
       "4  b 32.3300 0.0003  u -3.7855 0.4890 0.5000  f  f    0   t   g 232.0000    0   \n",
       "\n",
       "           v15  v16  v17  classLabel  \n",
       "0  800000.0000    t    0           0  \n",
       "1 2000000.0000  NaN    0           0  \n",
       "2  960000.0000    t    0           0  \n",
       "3       0.0000  NaN    0           0  \n",
       "4 2320000.0000    f    0           0  "
      ]
     },
     "execution_count": 75,
     "metadata": {},
     "output_type": "execute_result"
    },
    {
     "data": {
      "text/plain": [
       "(3700, 18)"
      ]
     },
     "execution_count": 75,
     "metadata": {},
     "output_type": "execute_result"
    }
   ],
   "source": [
    "# Read in pickled combined data\n",
    "X_y_data = pd.read_pickle(relative_filepath + \"data/interim/step_3a/X_y_data.pkl\")\n",
    "\n",
    "# Read in pickled train data\n",
    "X_y_train = pd.read_pickle(relative_filepath + \"data/interim/step_3a/X_y_train.pkl\")\n",
    "\n",
    "# Read in pickled test data\n",
    "X_y_test = pd.read_pickle(relative_filepath + \"data/interim/step_3a/X_y_test.pkl\")\n",
    "\n",
    "# Recap data structure\n",
    "X_y_train.head()\n",
    "X_y_train.shape"
   ]
  },
  {
   "cell_type": "code",
   "execution_count": 76,
   "metadata": {},
   "outputs": [],
   "source": [
    "#values for config dict\n",
    "input_dfs = [X_y_data,\n",
    "             X_y_train,\n",
    "             X_y_test]\n",
    "\n",
    "target = \"classLabel\"\n",
    "\n",
    "dict_data_cleaning = {}"
   ]
  },
  {
   "cell_type": "code",
   "execution_count": 77,
   "metadata": {},
   "outputs": [
    {
     "name": "stdout",
     "output_type": "stream",
     "text": [
      "Numerical cols: ['v2' 'v3' 'v5' 'v6' 'v7' 'v10' 'v13' 'v14' 'v15' 'v17' 'classLabel']\n",
      "Categorical cols: ['v1' 'v4' 'v8' 'v9' 'v11' 'v12' 'v16']\n",
      "\n",
      "Total cols == Num cols + Cat cols:\n"
     ]
    },
    {
     "data": {
      "text/plain": [
       "True"
      ]
     },
     "execution_count": 77,
     "metadata": {},
     "output_type": "execute_result"
    }
   ],
   "source": [
    "# Numeric data & cols\n",
    "num_X_y_train = X_y_train.select_dtypes(include=[np.number])\n",
    "#num_X_y_train = X_y_train.select_dtypes(['int', 'float'])\n",
    "numeric_cols = num_X_y_train.columns.values\n",
    "\n",
    "# Categorical data & cols\n",
    "cat_X_y_train = X_y_train.select_dtypes(exclude=[np.number])\n",
    "#cat_X_y_train = X_y_train.select_dtypes(['object', 'bool'])\n",
    "cat_cols = cat_X_y_train.columns.values\n",
    "\n",
    "print(\"Numerical cols:\", numeric_cols)\n",
    "#python 2.8 print(f\"{numeric_cols=}\")\n",
    "print(\"Categorical cols:\", cat_cols)\n",
    "print(\"\")\n",
    "\n",
    "print(\"Total cols == Num cols + Cat cols:\")\n",
    "len(X_y_data.columns) == len(num_X_y_train.columns)+len(cat_X_y_train.columns)"
   ]
  },
  {
   "cell_type": "code",
   "execution_count": null,
   "metadata": {},
   "outputs": [],
   "source": []
  },
  {
   "cell_type": "markdown",
   "metadata": {},
   "source": [
    "## Data Structure, Data Types & Summary Statistics"
   ]
  },
  {
   "cell_type": "code",
   "execution_count": 78,
   "metadata": {},
   "outputs": [
    {
     "name": "stdout",
     "output_type": "stream",
     "text": [
      "## Shape of X_y_train ## \n",
      "\n",
      "3700 rows and 18 columns\n"
     ]
    }
   ],
   "source": [
    "print (\"## Shape of X_y_train ## \\n\")\n",
    "print(f\"{X_y_train.shape[0]} rows and {X_y_train.shape[1]} columns\")"
   ]
  },
  {
   "cell_type": "code",
   "execution_count": 79,
   "metadata": {},
   "outputs": [
    {
     "data": {
      "text/plain": [
       "v1             object\n",
       "v2            float64\n",
       "v3            float64\n",
       "v4             object\n",
       "v5            float64\n",
       "v6            float64\n",
       "v7            float64\n",
       "v8             object\n",
       "v9             object\n",
       "v10             int64\n",
       "v11            object\n",
       "v12            object\n",
       "v13           float64\n",
       "v14             int64\n",
       "v15           float64\n",
       "v16            object\n",
       "v17             int64\n",
       "classLabel      int64\n",
       "dtype: object"
      ]
     },
     "execution_count": 79,
     "metadata": {},
     "output_type": "execute_result"
    }
   ],
   "source": [
    "X_y_train.dtypes\n",
    "#X_y_train.info()"
   ]
  },
  {
   "cell_type": "code",
   "execution_count": 80,
   "metadata": {},
   "outputs": [
    {
     "name": "stdout",
     "output_type": "stream",
     "text": [
      "## All dtypes summary statistics ## \n",
      "\n"
     ]
    },
    {
     "data": {
      "text/html": [
       "<div>\n",
       "<style scoped>\n",
       "    .dataframe tbody tr th:only-of-type {\n",
       "        vertical-align: middle;\n",
       "    }\n",
       "\n",
       "    .dataframe tbody tr th {\n",
       "        vertical-align: top;\n",
       "    }\n",
       "\n",
       "    .dataframe thead th {\n",
       "        text-align: right;\n",
       "    }\n",
       "</style>\n",
       "<table border=\"1\" class=\"dataframe\">\n",
       "  <thead>\n",
       "    <tr style=\"text-align: right;\">\n",
       "      <th></th>\n",
       "      <th>count</th>\n",
       "      <th>unique</th>\n",
       "      <th>top</th>\n",
       "      <th>freq</th>\n",
       "      <th>mean</th>\n",
       "      <th>std</th>\n",
       "      <th>min</th>\n",
       "      <th>25%</th>\n",
       "      <th>50%</th>\n",
       "      <th>75%</th>\n",
       "      <th>max</th>\n",
       "    </tr>\n",
       "  </thead>\n",
       "  <tbody>\n",
       "    <tr>\n",
       "      <th>v1</th>\n",
       "      <td>3661</td>\n",
       "      <td>2</td>\n",
       "      <td>b</td>\n",
       "      <td>2382</td>\n",
       "      <td>NaN</td>\n",
       "      <td>NaN</td>\n",
       "      <td>NaN</td>\n",
       "      <td>NaN</td>\n",
       "      <td>NaN</td>\n",
       "      <td>NaN</td>\n",
       "      <td>NaN</td>\n",
       "    </tr>\n",
       "    <tr>\n",
       "      <th>v2</th>\n",
       "      <td>3661.0000</td>\n",
       "      <td>NaN</td>\n",
       "      <td>NaN</td>\n",
       "      <td>NaN</td>\n",
       "      <td>32.8207</td>\n",
       "      <td>12.6662</td>\n",
       "      <td>13.7500</td>\n",
       "      <td>23.0000</td>\n",
       "      <td>28.6700</td>\n",
       "      <td>40.8300</td>\n",
       "      <td>80.2500</td>\n",
       "    </tr>\n",
       "    <tr>\n",
       "      <th>v3</th>\n",
       "      <td>3700.0000</td>\n",
       "      <td>NaN</td>\n",
       "      <td>NaN</td>\n",
       "      <td>NaN</td>\n",
       "      <td>0.0006</td>\n",
       "      <td>0.0005</td>\n",
       "      <td>0.0000</td>\n",
       "      <td>0.0001</td>\n",
       "      <td>0.0004</td>\n",
       "      <td>0.0010</td>\n",
       "      <td>0.0028</td>\n",
       "    </tr>\n",
       "    <tr>\n",
       "      <th>v4</th>\n",
       "      <td>3636</td>\n",
       "      <td>3</td>\n",
       "      <td>u</td>\n",
       "      <td>3055</td>\n",
       "      <td>NaN</td>\n",
       "      <td>NaN</td>\n",
       "      <td>NaN</td>\n",
       "      <td>NaN</td>\n",
       "      <td>NaN</td>\n",
       "      <td>NaN</td>\n",
       "      <td>NaN</td>\n",
       "    </tr>\n",
       "    <tr>\n",
       "      <th>v5</th>\n",
       "      <td>3700.0000</td>\n",
       "      <td>NaN</td>\n",
       "      <td>NaN</td>\n",
       "      <td>NaN</td>\n",
       "      <td>-0.0533</td>\n",
       "      <td>2.8712</td>\n",
       "      <td>-4.9969</td>\n",
       "      <td>-2.5163</td>\n",
       "      <td>-0.0528</td>\n",
       "      <td>2.4063</td>\n",
       "      <td>4.9993</td>\n",
       "    </tr>\n",
       "    <tr>\n",
       "      <th>v6</th>\n",
       "      <td>3700.0000</td>\n",
       "      <td>NaN</td>\n",
       "      <td>NaN</td>\n",
       "      <td>NaN</td>\n",
       "      <td>0.7842</td>\n",
       "      <td>0.1365</td>\n",
       "      <td>0.2739</td>\n",
       "      <td>0.6931</td>\n",
       "      <td>0.7878</td>\n",
       "      <td>0.8761</td>\n",
       "      <td>1.2151</td>\n",
       "    </tr>\n",
       "    <tr>\n",
       "      <th>v7</th>\n",
       "      <td>3700.0000</td>\n",
       "      <td>NaN</td>\n",
       "      <td>NaN</td>\n",
       "      <td>NaN</td>\n",
       "      <td>3.4395</td>\n",
       "      <td>4.3352</td>\n",
       "      <td>0.0000</td>\n",
       "      <td>0.5000</td>\n",
       "      <td>1.7500</td>\n",
       "      <td>5.0000</td>\n",
       "      <td>28.5000</td>\n",
       "    </tr>\n",
       "    <tr>\n",
       "      <th>v8</th>\n",
       "      <td>3700</td>\n",
       "      <td>2</td>\n",
       "      <td>t</td>\n",
       "      <td>3171</td>\n",
       "      <td>NaN</td>\n",
       "      <td>NaN</td>\n",
       "      <td>NaN</td>\n",
       "      <td>NaN</td>\n",
       "      <td>NaN</td>\n",
       "      <td>NaN</td>\n",
       "      <td>NaN</td>\n",
       "    </tr>\n",
       "    <tr>\n",
       "      <th>v9</th>\n",
       "      <td>3700</td>\n",
       "      <td>2</td>\n",
       "      <td>t</td>\n",
       "      <td>2239</td>\n",
       "      <td>NaN</td>\n",
       "      <td>NaN</td>\n",
       "      <td>NaN</td>\n",
       "      <td>NaN</td>\n",
       "      <td>NaN</td>\n",
       "      <td>NaN</td>\n",
       "      <td>NaN</td>\n",
       "    </tr>\n",
       "    <tr>\n",
       "      <th>v10</th>\n",
       "      <td>3700.0000</td>\n",
       "      <td>NaN</td>\n",
       "      <td>NaN</td>\n",
       "      <td>NaN</td>\n",
       "      <td>4.1600</td>\n",
       "      <td>6.7506</td>\n",
       "      <td>0.0000</td>\n",
       "      <td>0.0000</td>\n",
       "      <td>2.0000</td>\n",
       "      <td>6.0000</td>\n",
       "      <td>67.0000</td>\n",
       "    </tr>\n",
       "    <tr>\n",
       "      <th>v11</th>\n",
       "      <td>3700</td>\n",
       "      <td>2</td>\n",
       "      <td>f</td>\n",
       "      <td>1924</td>\n",
       "      <td>NaN</td>\n",
       "      <td>NaN</td>\n",
       "      <td>NaN</td>\n",
       "      <td>NaN</td>\n",
       "      <td>NaN</td>\n",
       "      <td>NaN</td>\n",
       "      <td>NaN</td>\n",
       "    </tr>\n",
       "    <tr>\n",
       "      <th>v12</th>\n",
       "      <td>3700</td>\n",
       "      <td>3</td>\n",
       "      <td>g</td>\n",
       "      <td>3430</td>\n",
       "      <td>NaN</td>\n",
       "      <td>NaN</td>\n",
       "      <td>NaN</td>\n",
       "      <td>NaN</td>\n",
       "      <td>NaN</td>\n",
       "      <td>NaN</td>\n",
       "      <td>NaN</td>\n",
       "    </tr>\n",
       "    <tr>\n",
       "      <th>v13</th>\n",
       "      <td>3600.0000</td>\n",
       "      <td>NaN</td>\n",
       "      <td>NaN</td>\n",
       "      <td>NaN</td>\n",
       "      <td>162.6950</td>\n",
       "      <td>156.0457</td>\n",
       "      <td>0.0000</td>\n",
       "      <td>0.0000</td>\n",
       "      <td>120.0000</td>\n",
       "      <td>280.0000</td>\n",
       "      <td>1160.0000</td>\n",
       "    </tr>\n",
       "    <tr>\n",
       "      <th>v14</th>\n",
       "      <td>3700.0000</td>\n",
       "      <td>NaN</td>\n",
       "      <td>NaN</td>\n",
       "      <td>NaN</td>\n",
       "      <td>2246.7059</td>\n",
       "      <td>8708.5711</td>\n",
       "      <td>0.0000</td>\n",
       "      <td>0.0000</td>\n",
       "      <td>113.0000</td>\n",
       "      <td>1059.7500</td>\n",
       "      <td>100000.0000</td>\n",
       "    </tr>\n",
       "    <tr>\n",
       "      <th>v15</th>\n",
       "      <td>3600.0000</td>\n",
       "      <td>NaN</td>\n",
       "      <td>NaN</td>\n",
       "      <td>NaN</td>\n",
       "      <td>1626950.0000</td>\n",
       "      <td>1560456.8185</td>\n",
       "      <td>0.0000</td>\n",
       "      <td>0.0000</td>\n",
       "      <td>1200000.0000</td>\n",
       "      <td>2800000.0000</td>\n",
       "      <td>11600000.0000</td>\n",
       "    </tr>\n",
       "    <tr>\n",
       "      <th>v16</th>\n",
       "      <td>1555</td>\n",
       "      <td>2</td>\n",
       "      <td>t</td>\n",
       "      <td>1023</td>\n",
       "      <td>NaN</td>\n",
       "      <td>NaN</td>\n",
       "      <td>NaN</td>\n",
       "      <td>NaN</td>\n",
       "      <td>NaN</td>\n",
       "      <td>NaN</td>\n",
       "      <td>NaN</td>\n",
       "    </tr>\n",
       "    <tr>\n",
       "      <th>v17</th>\n",
       "      <td>3700.0000</td>\n",
       "      <td>NaN</td>\n",
       "      <td>NaN</td>\n",
       "      <td>NaN</td>\n",
       "      <td>0.9254</td>\n",
       "      <td>0.2628</td>\n",
       "      <td>0.0000</td>\n",
       "      <td>1.0000</td>\n",
       "      <td>1.0000</td>\n",
       "      <td>1.0000</td>\n",
       "      <td>1.0000</td>\n",
       "    </tr>\n",
       "    <tr>\n",
       "      <th>classLabel</th>\n",
       "      <td>3700.0000</td>\n",
       "      <td>NaN</td>\n",
       "      <td>NaN</td>\n",
       "      <td>NaN</td>\n",
       "      <td>0.9254</td>\n",
       "      <td>0.2628</td>\n",
       "      <td>0.0000</td>\n",
       "      <td>1.0000</td>\n",
       "      <td>1.0000</td>\n",
       "      <td>1.0000</td>\n",
       "      <td>1.0000</td>\n",
       "    </tr>\n",
       "  </tbody>\n",
       "</table>\n",
       "</div>"
      ],
      "text/plain": [
       "               count unique  top  freq         mean          std     min  \\\n",
       "v1              3661      2    b  2382          NaN          NaN     NaN   \n",
       "v2         3661.0000    NaN  NaN   NaN      32.8207      12.6662 13.7500   \n",
       "v3         3700.0000    NaN  NaN   NaN       0.0006       0.0005  0.0000   \n",
       "v4              3636      3    u  3055          NaN          NaN     NaN   \n",
       "v5         3700.0000    NaN  NaN   NaN      -0.0533       2.8712 -4.9969   \n",
       "v6         3700.0000    NaN  NaN   NaN       0.7842       0.1365  0.2739   \n",
       "v7         3700.0000    NaN  NaN   NaN       3.4395       4.3352  0.0000   \n",
       "v8              3700      2    t  3171          NaN          NaN     NaN   \n",
       "v9              3700      2    t  2239          NaN          NaN     NaN   \n",
       "v10        3700.0000    NaN  NaN   NaN       4.1600       6.7506  0.0000   \n",
       "v11             3700      2    f  1924          NaN          NaN     NaN   \n",
       "v12             3700      3    g  3430          NaN          NaN     NaN   \n",
       "v13        3600.0000    NaN  NaN   NaN     162.6950     156.0457  0.0000   \n",
       "v14        3700.0000    NaN  NaN   NaN    2246.7059    8708.5711  0.0000   \n",
       "v15        3600.0000    NaN  NaN   NaN 1626950.0000 1560456.8185  0.0000   \n",
       "v16             1555      2    t  1023          NaN          NaN     NaN   \n",
       "v17        3700.0000    NaN  NaN   NaN       0.9254       0.2628  0.0000   \n",
       "classLabel 3700.0000    NaN  NaN   NaN       0.9254       0.2628  0.0000   \n",
       "\n",
       "               25%          50%          75%           max  \n",
       "v1             NaN          NaN          NaN           NaN  \n",
       "v2         23.0000      28.6700      40.8300       80.2500  \n",
       "v3          0.0001       0.0004       0.0010        0.0028  \n",
       "v4             NaN          NaN          NaN           NaN  \n",
       "v5         -2.5163      -0.0528       2.4063        4.9993  \n",
       "v6          0.6931       0.7878       0.8761        1.2151  \n",
       "v7          0.5000       1.7500       5.0000       28.5000  \n",
       "v8             NaN          NaN          NaN           NaN  \n",
       "v9             NaN          NaN          NaN           NaN  \n",
       "v10         0.0000       2.0000       6.0000       67.0000  \n",
       "v11            NaN          NaN          NaN           NaN  \n",
       "v12            NaN          NaN          NaN           NaN  \n",
       "v13         0.0000     120.0000     280.0000     1160.0000  \n",
       "v14         0.0000     113.0000    1059.7500   100000.0000  \n",
       "v15         0.0000 1200000.0000 2800000.0000 11600000.0000  \n",
       "v16            NaN          NaN          NaN           NaN  \n",
       "v17         1.0000       1.0000       1.0000        1.0000  \n",
       "classLabel  1.0000       1.0000       1.0000        1.0000  "
      ]
     },
     "execution_count": 80,
     "metadata": {},
     "output_type": "execute_result"
    },
    {
     "name": "stdout",
     "output_type": "stream",
     "text": [
      "## Numeric only summary statistics ## \n",
      "\n"
     ]
    },
    {
     "data": {
      "text/html": [
       "<div>\n",
       "<style scoped>\n",
       "    .dataframe tbody tr th:only-of-type {\n",
       "        vertical-align: middle;\n",
       "    }\n",
       "\n",
       "    .dataframe tbody tr th {\n",
       "        vertical-align: top;\n",
       "    }\n",
       "\n",
       "    .dataframe thead th {\n",
       "        text-align: right;\n",
       "    }\n",
       "</style>\n",
       "<table border=\"1\" class=\"dataframe\">\n",
       "  <thead>\n",
       "    <tr style=\"text-align: right;\">\n",
       "      <th></th>\n",
       "      <th>count</th>\n",
       "      <th>mean</th>\n",
       "      <th>std</th>\n",
       "      <th>min</th>\n",
       "      <th>25%</th>\n",
       "      <th>50%</th>\n",
       "      <th>75%</th>\n",
       "      <th>max</th>\n",
       "    </tr>\n",
       "  </thead>\n",
       "  <tbody>\n",
       "    <tr>\n",
       "      <th>v2</th>\n",
       "      <td>3661.0000</td>\n",
       "      <td>32.8207</td>\n",
       "      <td>12.6662</td>\n",
       "      <td>13.7500</td>\n",
       "      <td>23.0000</td>\n",
       "      <td>28.6700</td>\n",
       "      <td>40.8300</td>\n",
       "      <td>80.2500</td>\n",
       "    </tr>\n",
       "    <tr>\n",
       "      <th>v3</th>\n",
       "      <td>3700.0000</td>\n",
       "      <td>0.0006</td>\n",
       "      <td>0.0005</td>\n",
       "      <td>0.0000</td>\n",
       "      <td>0.0001</td>\n",
       "      <td>0.0004</td>\n",
       "      <td>0.0010</td>\n",
       "      <td>0.0028</td>\n",
       "    </tr>\n",
       "    <tr>\n",
       "      <th>v5</th>\n",
       "      <td>3700.0000</td>\n",
       "      <td>-0.0533</td>\n",
       "      <td>2.8712</td>\n",
       "      <td>-4.9969</td>\n",
       "      <td>-2.5163</td>\n",
       "      <td>-0.0528</td>\n",
       "      <td>2.4063</td>\n",
       "      <td>4.9993</td>\n",
       "    </tr>\n",
       "    <tr>\n",
       "      <th>v6</th>\n",
       "      <td>3700.0000</td>\n",
       "      <td>0.7842</td>\n",
       "      <td>0.1365</td>\n",
       "      <td>0.2739</td>\n",
       "      <td>0.6931</td>\n",
       "      <td>0.7878</td>\n",
       "      <td>0.8761</td>\n",
       "      <td>1.2151</td>\n",
       "    </tr>\n",
       "    <tr>\n",
       "      <th>v7</th>\n",
       "      <td>3700.0000</td>\n",
       "      <td>3.4395</td>\n",
       "      <td>4.3352</td>\n",
       "      <td>0.0000</td>\n",
       "      <td>0.5000</td>\n",
       "      <td>1.7500</td>\n",
       "      <td>5.0000</td>\n",
       "      <td>28.5000</td>\n",
       "    </tr>\n",
       "    <tr>\n",
       "      <th>v10</th>\n",
       "      <td>3700.0000</td>\n",
       "      <td>4.1600</td>\n",
       "      <td>6.7506</td>\n",
       "      <td>0.0000</td>\n",
       "      <td>0.0000</td>\n",
       "      <td>2.0000</td>\n",
       "      <td>6.0000</td>\n",
       "      <td>67.0000</td>\n",
       "    </tr>\n",
       "    <tr>\n",
       "      <th>v13</th>\n",
       "      <td>3600.0000</td>\n",
       "      <td>162.6950</td>\n",
       "      <td>156.0457</td>\n",
       "      <td>0.0000</td>\n",
       "      <td>0.0000</td>\n",
       "      <td>120.0000</td>\n",
       "      <td>280.0000</td>\n",
       "      <td>1160.0000</td>\n",
       "    </tr>\n",
       "    <tr>\n",
       "      <th>v14</th>\n",
       "      <td>3700.0000</td>\n",
       "      <td>2246.7059</td>\n",
       "      <td>8708.5711</td>\n",
       "      <td>0.0000</td>\n",
       "      <td>0.0000</td>\n",
       "      <td>113.0000</td>\n",
       "      <td>1059.7500</td>\n",
       "      <td>100000.0000</td>\n",
       "    </tr>\n",
       "    <tr>\n",
       "      <th>v15</th>\n",
       "      <td>3600.0000</td>\n",
       "      <td>1626950.0000</td>\n",
       "      <td>1560456.8185</td>\n",
       "      <td>0.0000</td>\n",
       "      <td>0.0000</td>\n",
       "      <td>1200000.0000</td>\n",
       "      <td>2800000.0000</td>\n",
       "      <td>11600000.0000</td>\n",
       "    </tr>\n",
       "    <tr>\n",
       "      <th>v17</th>\n",
       "      <td>3700.0000</td>\n",
       "      <td>0.9254</td>\n",
       "      <td>0.2628</td>\n",
       "      <td>0.0000</td>\n",
       "      <td>1.0000</td>\n",
       "      <td>1.0000</td>\n",
       "      <td>1.0000</td>\n",
       "      <td>1.0000</td>\n",
       "    </tr>\n",
       "    <tr>\n",
       "      <th>classLabel</th>\n",
       "      <td>3700.0000</td>\n",
       "      <td>0.9254</td>\n",
       "      <td>0.2628</td>\n",
       "      <td>0.0000</td>\n",
       "      <td>1.0000</td>\n",
       "      <td>1.0000</td>\n",
       "      <td>1.0000</td>\n",
       "      <td>1.0000</td>\n",
       "    </tr>\n",
       "  </tbody>\n",
       "</table>\n",
       "</div>"
      ],
      "text/plain": [
       "               count         mean          std     min     25%          50%  \\\n",
       "v2         3661.0000      32.8207      12.6662 13.7500 23.0000      28.6700   \n",
       "v3         3700.0000       0.0006       0.0005  0.0000  0.0001       0.0004   \n",
       "v5         3700.0000      -0.0533       2.8712 -4.9969 -2.5163      -0.0528   \n",
       "v6         3700.0000       0.7842       0.1365  0.2739  0.6931       0.7878   \n",
       "v7         3700.0000       3.4395       4.3352  0.0000  0.5000       1.7500   \n",
       "v10        3700.0000       4.1600       6.7506  0.0000  0.0000       2.0000   \n",
       "v13        3600.0000     162.6950     156.0457  0.0000  0.0000     120.0000   \n",
       "v14        3700.0000    2246.7059    8708.5711  0.0000  0.0000     113.0000   \n",
       "v15        3600.0000 1626950.0000 1560456.8185  0.0000  0.0000 1200000.0000   \n",
       "v17        3700.0000       0.9254       0.2628  0.0000  1.0000       1.0000   \n",
       "classLabel 3700.0000       0.9254       0.2628  0.0000  1.0000       1.0000   \n",
       "\n",
       "                    75%           max  \n",
       "v2              40.8300       80.2500  \n",
       "v3               0.0010        0.0028  \n",
       "v5               2.4063        4.9993  \n",
       "v6               0.8761        1.2151  \n",
       "v7               5.0000       28.5000  \n",
       "v10              6.0000       67.0000  \n",
       "v13            280.0000     1160.0000  \n",
       "v14           1059.7500   100000.0000  \n",
       "v15        2800000.0000 11600000.0000  \n",
       "v17              1.0000        1.0000  \n",
       "classLabel       1.0000        1.0000  "
      ]
     },
     "execution_count": 80,
     "metadata": {},
     "output_type": "execute_result"
    },
    {
     "name": "stdout",
     "output_type": "stream",
     "text": [
      "## Object only summary statistics ## \n",
      "\n"
     ]
    },
    {
     "data": {
      "text/html": [
       "<div>\n",
       "<style scoped>\n",
       "    .dataframe tbody tr th:only-of-type {\n",
       "        vertical-align: middle;\n",
       "    }\n",
       "\n",
       "    .dataframe tbody tr th {\n",
       "        vertical-align: top;\n",
       "    }\n",
       "\n",
       "    .dataframe thead th {\n",
       "        text-align: right;\n",
       "    }\n",
       "</style>\n",
       "<table border=\"1\" class=\"dataframe\">\n",
       "  <thead>\n",
       "    <tr style=\"text-align: right;\">\n",
       "      <th></th>\n",
       "      <th>count</th>\n",
       "      <th>unique</th>\n",
       "      <th>top</th>\n",
       "      <th>freq</th>\n",
       "    </tr>\n",
       "  </thead>\n",
       "  <tbody>\n",
       "    <tr>\n",
       "      <th>v1</th>\n",
       "      <td>3661</td>\n",
       "      <td>2</td>\n",
       "      <td>b</td>\n",
       "      <td>2382</td>\n",
       "    </tr>\n",
       "    <tr>\n",
       "      <th>v4</th>\n",
       "      <td>3636</td>\n",
       "      <td>3</td>\n",
       "      <td>u</td>\n",
       "      <td>3055</td>\n",
       "    </tr>\n",
       "    <tr>\n",
       "      <th>v8</th>\n",
       "      <td>3700</td>\n",
       "      <td>2</td>\n",
       "      <td>t</td>\n",
       "      <td>3171</td>\n",
       "    </tr>\n",
       "    <tr>\n",
       "      <th>v9</th>\n",
       "      <td>3700</td>\n",
       "      <td>2</td>\n",
       "      <td>t</td>\n",
       "      <td>2239</td>\n",
       "    </tr>\n",
       "    <tr>\n",
       "      <th>v11</th>\n",
       "      <td>3700</td>\n",
       "      <td>2</td>\n",
       "      <td>f</td>\n",
       "      <td>1924</td>\n",
       "    </tr>\n",
       "    <tr>\n",
       "      <th>v12</th>\n",
       "      <td>3700</td>\n",
       "      <td>3</td>\n",
       "      <td>g</td>\n",
       "      <td>3430</td>\n",
       "    </tr>\n",
       "    <tr>\n",
       "      <th>v16</th>\n",
       "      <td>1555</td>\n",
       "      <td>2</td>\n",
       "      <td>t</td>\n",
       "      <td>1023</td>\n",
       "    </tr>\n",
       "  </tbody>\n",
       "</table>\n",
       "</div>"
      ],
      "text/plain": [
       "    count unique top  freq\n",
       "v1   3661      2   b  2382\n",
       "v4   3636      3   u  3055\n",
       "v8   3700      2   t  3171\n",
       "v9   3700      2   t  2239\n",
       "v11  3700      2   f  1924\n",
       "v12  3700      3   g  3430\n",
       "v16  1555      2   t  1023"
      ]
     },
     "execution_count": 80,
     "metadata": {},
     "output_type": "execute_result"
    }
   ],
   "source": [
    "print (\"## All dtypes summary statistics ## \\n\")\n",
    "X_y_train.describe(include='all').T\n",
    "print (\"## Numeric only summary statistics ## \\n\")\n",
    "X_y_train.describe(include=[np.number]).T\n",
    "print (\"## Object only summary statistics ## \\n\")\n",
    "X_y_train.describe(include=[object]).T"
   ]
  },
  {
   "cell_type": "code",
   "execution_count": null,
   "metadata": {},
   "outputs": [],
   "source": []
  },
  {
   "cell_type": "markdown",
   "metadata": {},
   "source": [
    "## Duplicates"
   ]
  },
  {
   "cell_type": "code",
   "execution_count": 81,
   "metadata": {},
   "outputs": [
    {
     "name": "stdout",
     "output_type": "stream",
     "text": [
      "## Number of duplicate rows ## \n",
      "\n",
      "No duplicate observations found\n"
     ]
    }
   ],
   "source": [
    "# generate count statistics of duplicate entries\n",
    "print (\"## Number of duplicate rows ## \\n\")\n",
    "if len(X_y_train[X_y_train.duplicated()]) > 0:\n",
    "    print(\"Number of duplicate observations: \", len(X_y_train[X_y_train.duplicated()]))\n",
    "    X_y_train[X_y_train.duplicated(keep=False)].sort_values(by=list(X_y_train.columns)).head()\n",
    "else:\n",
    "    print(\"No duplicate observations found\")"
   ]
  },
  {
   "cell_type": "code",
   "execution_count": 82,
   "metadata": {},
   "outputs": [],
   "source": [
    "dict_data_cleaning['DUPLICATES_'] = 'No duplicate observations found'"
   ]
  },
  {
   "cell_type": "code",
   "execution_count": 83,
   "metadata": {},
   "outputs": [
    {
     "data": {
      "text/plain": [
       "{'DUPLICATES_': 'No duplicate observations found'}"
      ]
     },
     "execution_count": 83,
     "metadata": {},
     "output_type": "execute_result"
    }
   ],
   "source": [
    "dict_data_cleaning"
   ]
  },
  {
   "cell_type": "code",
   "execution_count": null,
   "metadata": {},
   "outputs": [],
   "source": []
  },
  {
   "cell_type": "markdown",
   "metadata": {},
   "source": [
    "## Missing/Null Values"
   ]
  },
  {
   "cell_type": "code",
   "execution_count": 84,
   "metadata": {},
   "outputs": [
    {
     "data": {
      "text/plain": [
       "v1              39\n",
       "v2              39\n",
       "v3               0\n",
       "v4              64\n",
       "v5               0\n",
       "v6               0\n",
       "v7               0\n",
       "v8               0\n",
       "v9               0\n",
       "v10              0\n",
       "v11              0\n",
       "v12              0\n",
       "v13            100\n",
       "v14              0\n",
       "v15            100\n",
       "v16           2145\n",
       "v17              0\n",
       "classLabel       0\n",
       "dtype: int64"
      ]
     },
     "execution_count": 84,
     "metadata": {},
     "output_type": "execute_result"
    }
   ],
   "source": [
    "X_y_train.isna().sum()"
   ]
  },
  {
   "cell_type": "code",
   "execution_count": 85,
   "metadata": {},
   "outputs": [
    {
     "data": {
      "text/plain": [
       "pandas.core.series.Series"
      ]
     },
     "execution_count": 85,
     "metadata": {},
     "output_type": "execute_result"
    },
    {
     "data": {
      "text/plain": [
       "v1     1.0541\n",
       "v2     1.0541\n",
       "v4     1.7297\n",
       "v13    2.7027\n",
       "v15    2.7027\n",
       "v16   57.9730\n",
       "dtype: float64"
      ]
     },
     "execution_count": 85,
     "metadata": {},
     "output_type": "execute_result"
    }
   ],
   "source": [
    "null = (X_y_train.isna().sum()/len(X_y_train))*100\n",
    "type(null)\n",
    "null[null > 0].sort_values()"
   ]
  },
  {
   "cell_type": "code",
   "execution_count": 86,
   "metadata": {},
   "outputs": [
    {
     "name": "stdout",
     "output_type": "stream",
     "text": [
      "v1 - 1.1%\n",
      "v2 - 1.1%\n",
      "v3 - 0.0%\n",
      "v4 - 1.7%\n",
      "v5 - 0.0%\n",
      "v6 - 0.0%\n",
      "v7 - 0.0%\n",
      "v8 - 0.0%\n",
      "v9 - 0.0%\n",
      "v10 - 0.0%\n",
      "v11 - 0.0%\n",
      "v12 - 0.0%\n",
      "v13 - 2.7%\n",
      "v14 - 0.0%\n",
      "v15 - 2.7%\n",
      "v16 - 58.0%\n",
      "v17 - 0.0%\n",
      "classLabel - 0.0%\n"
     ]
    }
   ],
   "source": [
    "# if it's a larger dataset and the visualization takes too long can do this.\n",
    "# % of missing.\n",
    "for col in X_y_train.columns:\n",
    "    pct_missing = np.mean(X_y_train[col].isnull())\n",
    "    print('{} - {}%'.format(col, round(pct_missing*100, 1)))"
   ]
  },
  {
   "cell_type": "code",
   "execution_count": 87,
   "metadata": {},
   "outputs": [
    {
     "data": {
      "image/png": "[encoded data removed]",
      "text/plain": [
       "<Figure size 1728x720 with 3 Axes>"
      ]
     },
     "metadata": {
      "needs_background": "light"
     },
     "output_type": "display_data"
    }
   ],
   "source": [
    "import missingno as msno\n",
    "%matplotlib inline\n",
    "\n",
    "msno.bar(X_y_train);"
   ]
  },
  {
   "cell_type": "code",
   "execution_count": 88,
   "metadata": {},
   "outputs": [
    {
     "name": "stdout",
     "output_type": "stream",
     "text": [
      "\n",
      "Preview of data with null values:\n",
      "xxxxxxxxxxxxx\n"
     ]
    },
    {
     "data": {
      "text/html": [
       "<div>\n",
       "<style scoped>\n",
       "    .dataframe tbody tr th:only-of-type {\n",
       "        vertical-align: middle;\n",
       "    }\n",
       "\n",
       "    .dataframe tbody tr th {\n",
       "        vertical-align: top;\n",
       "    }\n",
       "\n",
       "    .dataframe thead th {\n",
       "        text-align: right;\n",
       "    }\n",
       "</style>\n",
       "<table border=\"1\" class=\"dataframe\">\n",
       "  <thead>\n",
       "    <tr style=\"text-align: right;\">\n",
       "      <th></th>\n",
       "      <th>v1</th>\n",
       "      <th>v2</th>\n",
       "      <th>v3</th>\n",
       "      <th>v4</th>\n",
       "      <th>v5</th>\n",
       "      <th>v6</th>\n",
       "      <th>v7</th>\n",
       "      <th>v8</th>\n",
       "      <th>v9</th>\n",
       "      <th>v10</th>\n",
       "      <th>v11</th>\n",
       "      <th>v12</th>\n",
       "      <th>v13</th>\n",
       "      <th>v14</th>\n",
       "      <th>v15</th>\n",
       "      <th>v16</th>\n",
       "      <th>v17</th>\n",
       "      <th>classLabel</th>\n",
       "    </tr>\n",
       "  </thead>\n",
       "  <tbody>\n",
       "    <tr>\n",
       "      <th>1</th>\n",
       "      <td>b</td>\n",
       "      <td>16.9200</td>\n",
       "      <td>0.0000</td>\n",
       "      <td>y</td>\n",
       "      <td>-2.1596</td>\n",
       "      <td>0.7742</td>\n",
       "      <td>0.2900</td>\n",
       "      <td>f</td>\n",
       "      <td>f</td>\n",
       "      <td>0</td>\n",
       "      <td>f</td>\n",
       "      <td>s</td>\n",
       "      <td>200.0000</td>\n",
       "      <td>0</td>\n",
       "      <td>2000000.0000</td>\n",
       "      <td>NaN</td>\n",
       "      <td>0</td>\n",
       "      <td>0</td>\n",
       "    </tr>\n",
       "    <tr>\n",
       "      <th>3</th>\n",
       "      <td>a</td>\n",
       "      <td>48.1700</td>\n",
       "      <td>0.0001</td>\n",
       "      <td>u</td>\n",
       "      <td>4.1749</td>\n",
       "      <td>0.8890</td>\n",
       "      <td>0.3350</td>\n",
       "      <td>f</td>\n",
       "      <td>f</td>\n",
       "      <td>0</td>\n",
       "      <td>f</td>\n",
       "      <td>g</td>\n",
       "      <td>0.0000</td>\n",
       "      <td>120</td>\n",
       "      <td>0.0000</td>\n",
       "      <td>NaN</td>\n",
       "      <td>0</td>\n",
       "      <td>0</td>\n",
       "    </tr>\n",
       "    <tr>\n",
       "      <th>6</th>\n",
       "      <td>a</td>\n",
       "      <td>26.1700</td>\n",
       "      <td>0.0002</td>\n",
       "      <td>u</td>\n",
       "      <td>-0.6396</td>\n",
       "      <td>0.5184</td>\n",
       "      <td>0.0000</td>\n",
       "      <td>f</td>\n",
       "      <td>f</td>\n",
       "      <td>0</td>\n",
       "      <td>t</td>\n",
       "      <td>g</td>\n",
       "      <td>276.0000</td>\n",
       "      <td>1</td>\n",
       "      <td>2760000.0000</td>\n",
       "      <td>NaN</td>\n",
       "      <td>0</td>\n",
       "      <td>0</td>\n",
       "    </tr>\n",
       "  </tbody>\n",
       "</table>\n",
       "</div>"
      ],
      "text/plain": [
       "  v1      v2     v3 v4      v5     v6     v7 v8 v9  v10 v11 v12      v13  v14  \\\n",
       "1  b 16.9200 0.0000  y -2.1596 0.7742 0.2900  f  f    0   f   s 200.0000    0   \n",
       "3  a 48.1700 0.0001  u  4.1749 0.8890 0.3350  f  f    0   f   g   0.0000  120   \n",
       "6  a 26.1700 0.0002  u -0.6396 0.5184 0.0000  f  f    0   t   g 276.0000    1   \n",
       "\n",
       "           v15  v16  v17  classLabel  \n",
       "1 2000000.0000  NaN    0           0  \n",
       "3       0.0000  NaN    0           0  \n",
       "6 2760000.0000  NaN    0           0  "
      ]
     },
     "execution_count": 88,
     "metadata": {},
     "output_type": "execute_result"
    },
    {
     "data": {
      "image/png": "[encoded data removed]",
      "text/plain": [
       "<Figure size 1800x720 with 2 Axes>"
      ]
     },
     "metadata": {
      "needs_background": "light"
     },
     "output_type": "display_data"
    }
   ],
   "source": [
    "# generate preview of entries with null values\n",
    "if len(X_y_train[X_y_train.isnull().any(axis=1)] != 0):\n",
    "    print(\"\\nPreview of data with null values:\\nxxxxxxxxxxxxx\")\n",
    "    X_y_train[X_y_train.isnull().any(axis=1)].head(3)\n",
    "    msno_matrix = msno.matrix(X_y_train)"
   ]
  },
  {
   "cell_type": "code",
   "execution_count": 89,
   "metadata": {},
   "outputs": [
    {
     "data": {
      "image/png": "[encoded data removed]",
      "text/plain": [
       "<Figure size 1440x864 with 2 Axes>"
      ]
     },
     "metadata": {
      "needs_background": "light"
     },
     "output_type": "display_data"
    }
   ],
   "source": [
    "msno.heatmap(X_y_train);"
   ]
  },
  {
   "cell_type": "code",
   "execution_count": 90,
   "metadata": {},
   "outputs": [
    {
     "data": {
      "image/png": "[encoded data removed]",
      "text/plain": [
       "<Figure size 1800x720 with 1 Axes>"
      ]
     },
     "metadata": {
      "needs_background": "light"
     },
     "output_type": "display_data"
    }
   ],
   "source": [
    "msno.dendrogram(X_y_train);"
   ]
  },
  {
   "cell_type": "markdown",
   "metadata": {},
   "source": [
    "## Type of Missingness"
   ]
  },
  {
   "cell_type": "code",
   "execution_count": 91,
   "metadata": {},
   "outputs": [],
   "source": [
    "# MCAR (Missing Completely At Random)"
   ]
  },
  {
   "cell_type": "code",
   "execution_count": 92,
   "metadata": {},
   "outputs": [],
   "source": [
    "# MAR (Missing At Random)"
   ]
  },
  {
   "cell_type": "code",
   "execution_count": 93,
   "metadata": {},
   "outputs": [],
   "source": [
    "# MNAR (Missing NOT At Random)"
   ]
  },
  {
   "cell_type": "code",
   "execution_count": null,
   "metadata": {},
   "outputs": [],
   "source": []
  },
  {
   "cell_type": "code",
   "execution_count": 94,
   "metadata": {},
   "outputs": [],
   "source": [
    "dict_data_cleaning['MISSING_v1'] = 'v1 is missing 1.1% of observations; Low missingness % and low missingness correlation so MCAR?'\n",
    "dict_data_cleaning['MISSING_v2'] = 'v2 is missing 1.1% of observations; Low missingness % and low missingness correlation so MCAR?'\n",
    "dict_data_cleaning['MISSING_v4'] = 'v4 is missing 1.7% of observations; Low missingness % but 80% missingness correlation with v13 & v15 so MAR?'\n",
    "dict_data_cleaning['MISSING_v13'] = 'v13 is missing 2.7% of observations; Low missingness % but 100% missingness correlation with v15 so MAR?'\n",
    "dict_data_cleaning['MISSING_v15'] = 'v15 is missing 2.7% of observations; Low missingness % but 100% missingness correlation with v13 so MAR?'\n",
    "dict_data_cleaning['MISSING_v16'] = 'v16 is missing 58.0% of observations; High missingness % and low missingness correlation'\n"
   ]
  },
  {
   "cell_type": "code",
   "execution_count": 95,
   "metadata": {},
   "outputs": [
    {
     "data": {
      "text/plain": [
       "{'DUPLICATES_': 'No duplicate observations found',\n",
       " 'MISSING_v1': 'v1 is missing 1.1% of observations; Low missingness % and low missingness correlation so MCAR?',\n",
       " 'MISSING_v2': 'v2 is missing 1.1% of observations; Low missingness % and low missingness correlation so MCAR?',\n",
       " 'MISSING_v4': 'v4 is missing 1.7% of observations; Low missingness % but 80% missingness correlation with v13 & v15 so MAR?',\n",
       " 'MISSING_v13': 'v13 is missing 2.7% of observations; Low missingness % but 100% missingness correlation with v15 so MAR?',\n",
       " 'MISSING_v15': 'v15 is missing 2.7% of observations; Low missingness % but 100% missingness correlation with v13 so MAR?',\n",
       " 'MISSING_v16': 'v16 is missing 58.0% of observations; High missingness % and low missingness correlation'}"
      ]
     },
     "execution_count": 95,
     "metadata": {},
     "output_type": "execute_result"
    }
   ],
   "source": [
    "dict_data_cleaning"
   ]
  },
  {
   "cell_type": "code",
   "execution_count": null,
   "metadata": {},
   "outputs": [],
   "source": []
  },
  {
   "cell_type": "markdown",
   "metadata": {},
   "source": [
    "## Analysing Numerical Variables"
   ]
  },
  {
   "cell_type": "code",
   "execution_count": 96,
   "metadata": {},
   "outputs": [
    {
     "name": "stdout",
     "output_type": "stream",
     "text": [
      "Numerical cols: ['v2' 'v3' 'v5' 'v6' 'v7' 'v10' 'v13' 'v14' 'v15' 'v17' 'classLabel']\n"
     ]
    }
   ],
   "source": [
    "print(\"Numerical cols:\", numeric_cols)\n",
    "#print(f\"{numeric_cols=}\")"
   ]
  },
  {
   "cell_type": "code",
   "execution_count": 104,
   "metadata": {},
   "outputs": [
    {
     "data": {
      "image/png": "[encoded data removed]",
      "text/plain": [
       "<Figure size 1080x720 with 12 Axes>"
      ]
     },
     "metadata": {
      "needs_background": "light"
     },
     "output_type": "display_data"
    }
   ],
   "source": [
    "num_X_y_train.hist(bins=20, \n",
    "                   figsize=(15, 10),\n",
    "                   layout=(3, 4),\n",
    "                   color = \"grey\");"
   ]
  },
  {
   "cell_type": "code",
   "execution_count": 106,
   "metadata": {},
   "outputs": [
    {
     "data": {
      "image/png": "[encoded data removed]",
      "text/plain": [
       "<Figure size 1080x720 with 12 Axes>"
      ]
     },
     "metadata": {
      "needs_background": "light"
     },
     "output_type": "display_data"
    }
   ],
   "source": [
    "num_X_y_train[num_X_y_train[target]==0].hist(bins=20, \n",
    "                                             figsize=(15, 10),\n",
    "                                             layout=(3, 4),\n",
    "                                             color = \"tab:blue\");"
   ]
  },
  {
   "cell_type": "code",
   "execution_count": 107,
   "metadata": {},
   "outputs": [
    {
     "data": {
      "image/png": "[encoded data removed]",
      "text/plain": [
       "<Figure size 1080x720 with 12 Axes>"
      ]
     },
     "metadata": {
      "needs_background": "light"
     },
     "output_type": "display_data"
    }
   ],
   "source": [
    "num_X_y_train[num_X_y_train[target]==1].hist(bins=20, \n",
    "                                             figsize=(15, 10),\n",
    "                                             layout=(3, 4),\n",
    "                                             color = \"tab:orange\");"
   ]
  },
  {
   "cell_type": "code",
   "execution_count": 108,
   "metadata": {},
   "outputs": [
    {
     "data": {
      "text/plain": [
       "1    92.5%\n",
       "0     7.5%\n",
       "Name: classLabel, dtype: object"
      ]
     },
     "execution_count": 108,
     "metadata": {},
     "output_type": "execute_result"
    }
   ],
   "source": [
    "num_X_y_train[target].value_counts(normalize=True).mul(100).round(1).astype(str) + '%'"
   ]
  },
  {
   "cell_type": "code",
   "execution_count": 109,
   "metadata": {},
   "outputs": [
    {
     "data": {
      "text/plain": [
       "{'DUPLICATES_': 'No duplicate observations found',\n",
       " 'MISSING_v1': 'v1 is missing 1.1% of observations; Low missingness % and low missingness correlation so MCAR?',\n",
       " 'MISSING_v2': 'v2 is missing 1.1% of observations; Low missingness % and low missingness correlation so MCAR?',\n",
       " 'MISSING_v4': 'v4 is missing 1.7% of observations; Low missingness % but 80% missingness correlation with v13 & v15 so MAR?',\n",
       " 'MISSING_v13': 'v13 is missing 2.7% of observations; Low missingness % but 100% missingness correlation with v15 so MAR?',\n",
       " 'MISSING_v15': 'v15 is missing 2.7% of observations; Low missingness % but 100% missingness correlation with v13 so MAR?',\n",
       " 'MISSING_v16': 'v16 is missing 58.0% of observations; High missingness % and low missingness correlation',\n",
       " 'CLASS_IMBALANCE': '92.5% of target are 1s'}"
      ]
     },
     "execution_count": 109,
     "metadata": {},
     "output_type": "execute_result"
    }
   ],
   "source": [
    "dict_data_cleaning['CLASS_IMBALANCE'] = '92.5% of target are 1s'\n",
    "dict_data_cleaning"
   ]
  },
  {
   "cell_type": "code",
   "execution_count": null,
   "metadata": {},
   "outputs": [],
   "source": []
  },
  {
   "cell_type": "markdown",
   "metadata": {},
   "source": [
    "## Analysing Categorical Variables"
   ]
  },
  {
   "cell_type": "code",
   "execution_count": 38,
   "metadata": {},
   "outputs": [
    {
     "name": "stdout",
     "output_type": "stream",
     "text": [
      "Categorical cols: ['v1' 'v4' 'v8' 'v9' 'v11' 'v12' 'v16']\n"
     ]
    }
   ],
   "source": [
    "print(\"Categorical cols:\", cat_cols)"
   ]
  },
  {
   "cell_type": "code",
   "execution_count": 116,
   "metadata": {},
   "outputs": [
    {
     "data": {
      "image/png": "[encoded data removed]",
      "text/plain": [
       "<Figure size 1080x576 with 8 Axes>"
      ]
     },
     "metadata": {
      "needs_background": "light"
     },
     "output_type": "display_data"
    }
   ],
   "source": [
    "fig, ax = plt.subplots(2, 4, figsize=(15, 8))\n",
    "for var, subplot in zip(cat_cols, ax.flatten()):\n",
    "    \n",
    "    countplot = sns.countplot(data=X_y_train,\n",
    "                              x=var,\n",
    "                              hue=target,\n",
    "                              ax=subplot,\n",
    "                              palette=[\"tab:blue\",\"tab:orange\"]\n",
    "                             )\n",
    "    \n",
    "    for label in subplot.get_xticklabels():\n",
    "        label.set_rotation(0)"
   ]
  },
  {
   "cell_type": "code",
   "execution_count": 114,
   "metadata": {},
   "outputs": [
    {
     "data": {
      "image/png": "[encoded data removed]",
      "text/plain": [
       "<Figure size 1080x576 with 8 Axes>"
      ]
     },
     "metadata": {
      "needs_background": "light"
     },
     "output_type": "display_data"
    }
   ],
   "source": [
    "fig, ax = plt.subplots(2, 4, figsize=(15, 8))\n",
    "for var, subplot in zip(cat_cols, ax.flatten()):\n",
    "    \n",
    "    ct = pd.crosstab(X_y_train[var],\n",
    "                     X_y_train[target])\n",
    "    \n",
    "    stackedbar = ct.plot.bar(stacked=True,\n",
    "                             ax=subplot,\n",
    "                             color=[\"tab:blue\",\"tab:orange\"]\n",
    "                            )\n",
    "    \n",
    "    for label in subplot.get_xticklabels():\n",
    "        label.set_rotation(0)"
   ]
  },
  {
   "cell_type": "code",
   "execution_count": 113,
   "metadata": {},
   "outputs": [
    {
     "data": {
      "image/png": "[encoded data removed]",
      "text/plain": [
       "<Figure size 1080x576 with 8 Axes>"
      ]
     },
     "metadata": {
      "needs_background": "light"
     },
     "output_type": "display_data"
    }
   ],
   "source": [
    "fig, ax = plt.subplots(2, 4, figsize=(15, 8))\n",
    "for var, subplot in zip(cat_cols, ax.flatten()):\n",
    "    \n",
    "    countplot = sns.countplot(data=X_y_train,\n",
    "                              x=target,\n",
    "                              hue=var,\n",
    "                              ax=subplot,\n",
    "                              palette=\"Set3\"\n",
    "                              )\n",
    "    \n",
    "    for label in subplot.get_xticklabels():\n",
    "        label.set_rotation(0)"
   ]
  },
  {
   "cell_type": "code",
   "execution_count": null,
   "metadata": {},
   "outputs": [],
   "source": []
  },
  {
   "cell_type": "markdown",
   "metadata": {},
   "source": [
    "## Correlations / Relationships"
   ]
  },
  {
   "cell_type": "code",
   "execution_count": 45,
   "metadata": {},
   "outputs": [
    {
     "data": {
      "image/png": "[encoded data removed]",
      "text/plain": [
       "<Figure size 792x648 with 2 Axes>"
      ]
     },
     "metadata": {
      "needs_background": "light"
     },
     "output_type": "display_data"
    }
   ],
   "source": [
    "# Compute the correlation matrix\n",
    "\n",
    "corr = X_y_train.corr()\n",
    "\n",
    "# Generate a mask for the upper triangle\n",
    "mask = np.triu(np.ones_like(corr, dtype=bool))\n",
    "\n",
    "# Set up the matplotlib figure\n",
    "f, ax = plt.subplots(figsize=(11, 9))\n",
    "\n",
    "# Generate a custom diverging colormap\n",
    "cmap = sns.diverging_palette(230, 20, as_cmap=True)\n",
    "\n",
    "# Draw the heatmap with the mask and correct aspect ratio\n",
    "sns.heatmap(corr,\n",
    "            annot=True,\n",
    "            d,\n",
    "            mask=mask,\n",
    "            cmap=cmap,\n",
    "            vmax=1,\n",
    "            vmin=-1,\n",
    "            center=0,\n",
    "            square=True,\n",
    "            linewidths=.5,\n",
    "            cbar_kws={\"shrink\": .5});"
   ]
  },
  {
   "cell_type": "code",
   "execution_count": null,
   "metadata": {},
   "outputs": [],
   "source": [
    "dict_data_cleaning['CORRELATIONS_OVER_25%_v2']= 'v2:  v3, v7'\n",
    "dict_data_cleaning['CORRELATIONS_OVER_25%_v3']= 'v3:  '\n",
    "\n",
    "dict_data_cleaning"
   ]
  },
  {
   "cell_type": "code",
   "execution_count": null,
   "metadata": {},
   "outputs": [],
   "source": []
  },
  {
   "cell_type": "markdown",
   "metadata": {},
   "source": [
    "## Analysing Numerical to Numerical Relationships"
   ]
  },
  {
   "cell_type": "code",
   "execution_count": null,
   "metadata": {},
   "outputs": [],
   "source": [
    "print(\"Numerical cols:\", numeric_cols)"
   ]
  },
  {
   "cell_type": "code",
   "execution_count": null,
   "metadata": {},
   "outputs": [],
   "source": [
    "pairplot_vars = ['']\n",
    "\n",
    "# Pairplot scatter\n",
    "sns.pairplot(data=num_X_y_train,\n",
    "             #vars = pairplot_vars,\n",
    "             hue = target,\n",
    "             kind = \"reg\",\n",
    "             #diag_kind = \"hist\",\n",
    "             corner = True,\n",
    "             plot_kws=dict(scatter_kws=dict(s=1))\n",
    "            )"
   ]
  },
  {
   "cell_type": "code",
   "execution_count": null,
   "metadata": {},
   "outputs": [],
   "source": []
  },
  {
   "cell_type": "markdown",
   "metadata": {},
   "source": [
    "## Analysing Numerical to Categorical Relationships"
   ]
  },
  {
   "cell_type": "code",
   "execution_count": null,
   "metadata": {},
   "outputs": [],
   "source": [
    "print(\"Numerical cols:\", numeric_cols)\n",
    "print(\"Categorical cols:\", cat_cols)"
   ]
  },
  {
   "cell_type": "code",
   "execution_count": null,
   "metadata": {},
   "outputs": [],
   "source": [
    "fig, ax = plt.subplots(3, 3, figsize=(15, 10));\n",
    "for var, subplot in zip(cat_cols, ax.flatten()):\n",
    "    \n",
    "    boxplot = sns.boxplot(data=X_y_train,\n",
    "                          x=var,\n",
    "                          y='v2',\n",
    "                          hue=target,\n",
    "                          ax=subplot,\n",
    "                          #palette=\"Set3\"\n",
    "                         )"
   ]
  },
  {
   "cell_type": "code",
   "execution_count": null,
   "metadata": {},
   "outputs": [],
   "source": [
    "fig, ax = plt.subplots(3, 3, figsize=(15, 10));\n",
    "for var, subplot in zip(cat_cols, ax.flatten()):\\\n",
    "    \n",
    "    violinplot = sns.violinplot(data=X_y_train,\n",
    "                                x=var,\n",
    "                                y='v2',\n",
    "                                hue=target,\n",
    "                                ax=subplot,\n",
    "                                #palette=\"Set3\"\n",
    "                               )"
   ]
  },
  {
   "cell_type": "code",
   "execution_count": null,
   "metadata": {},
   "outputs": [],
   "source": [
    "fig, ax = plt.subplots(3, 3, figsize=(15, 10));\n",
    "for var, subplot in zip(cat_cols, ax.flatten()):\n",
    "    \n",
    "    stripplot = sns.stripplot(data=X_y_train,\n",
    "                              x=var,\n",
    "                              y='v2',\n",
    "                              hue=target,\n",
    "                              ax=subplot,\n",
    "                              #palette=\"Set3\",\n",
    "                              jitter=0.25,\n",
    "                              s=2\n",
    "                             )"
   ]
  },
  {
   "cell_type": "code",
   "execution_count": null,
   "metadata": {},
   "outputs": [],
   "source": []
  },
  {
   "cell_type": "code",
   "execution_count": null,
   "metadata": {},
   "outputs": [],
   "source": []
  },
  {
   "cell_type": "markdown",
   "metadata": {},
   "source": [
    "## Identify Outliers"
   ]
  },
  {
   "cell_type": "code",
   "execution_count": null,
   "metadata": {},
   "outputs": [],
   "source": []
  },
  {
   "cell_type": "code",
   "execution_count": null,
   "metadata": {},
   "outputs": [],
   "source": [
    "dict_data_cleaning['OUTLIERS_'] = ''"
   ]
  },
  {
   "cell_type": "code",
   "execution_count": null,
   "metadata": {},
   "outputs": [],
   "source": [
    "dict_data_cleaning"
   ]
  },
  {
   "cell_type": "code",
   "execution_count": null,
   "metadata": {},
   "outputs": [],
   "source": []
  },
  {
   "cell_type": "markdown",
   "metadata": {},
   "source": [
    "## Manual Bespoke EDA Checklist"
   ]
  },
  {
   "cell_type": "code",
   "execution_count": null,
   "metadata": {},
   "outputs": [],
   "source": [
    "0. Questions To Ask Before You Download the Data\n",
    "\n",
    "I called this one step 0 because it happens before you import data into Python. \n",
    "It’s easy to forget, but if you can answer these questions it can save you a lot of time and frustration down the road.\n",
    "    How was this data collected/where did it come from?\n",
    "    \n",
    "    Why am I interested in this data?\n",
    "    \n",
    "    What would be the target variable of interest? (if applicable)\n",
    "    \n",
    "    Is this data from a reputable source?\n",
    "    \n",
    "    Is there enough data here to make an ML model?\n",
    "    \n",
    "    Have other people conducted a similar analysis/modeling project on this dataset? Do I want to be able to learn from their conclusions or create a novel project?\n",
    "    \n",
    "    Is there a data dictionary for the dataset? Is it complete?\n",
    "    \n",
    "    Are there any additional challenges or problems that I anticipate if I use this data?\n",
    "    \n",
    "    It’s helpful to use these questions like a filter when you have a choice on what dataset to use.\n",
    "    \n",
    "    It’s really tough to realize halfway through a project that you picked a bad dataset."
   ]
  },
  {
   "cell_type": "code",
   "execution_count": null,
   "metadata": {},
   "outputs": [],
   "source": []
  },
  {
   "cell_type": "markdown",
   "metadata": {},
   "source": [
    "### 1. Data Structure & Distributions"
   ]
  },
  {
   "cell_type": "code",
   "execution_count": null,
   "metadata": {},
   "outputs": [],
   "source": [
    "Questions to answer:\n",
    "    How many features do you have?\n",
    "    How many observations do you have?\n",
    "    What is the data type of each feature?\n",
    "    \n",
    "    From what you know about the features of your dataset, do the data types make sense? Do you need to change any?\n",
    "\n",
    "    Example: Your data has a Customer ID number for every row, and each number is five digits long, stored as an integer. \n",
    "        You will not ever be aggregating or analyzing the Customer ID like an integer, so you should change it to the “object” data type.\n",
    "    \n",
    "    Do you have null values? (to be fixed later)\n",
    "    \n",
    "    How much memory does this dataset use? Could this pose a problem for you later on?"
   ]
  },
  {
   "cell_type": "markdown",
   "metadata": {},
   "source": [
    "#### How many features do you have?\n",
    "#### How many observations do you have?"
   ]
  },
  {
   "cell_type": "markdown",
   "metadata": {},
   "source": [
    "#### What is the data type of each feature?\n",
    "#### From what you know about the features of your dataset, do the data types make sense? \n",
    "#### Do you need to change any data types?\n",
    "#### Do you have null values? (to be fixed later)\n",
    "\n",
    "#### How much memory does this dataset use? \n",
    "#### Could this pose a problem for you later on?"
   ]
  },
  {
   "cell_type": "markdown",
   "metadata": {},
   "source": []
  },
  {
   "cell_type": "code",
   "execution_count": null,
   "metadata": {},
   "outputs": [],
   "source": [
    "Questions to answer:\n",
    "Are the max/min values reasonable for the variables? Do you see any values that look like errors?\n",
    "What is the mean for each variable? What do the means tell you about your dataset as a whole?"
   ]
  },
  {
   "cell_type": "markdown",
   "metadata": {},
   "source": [
    "#### Questions to answer:\n",
    "#### What is the distribution of each variable?\n",
    "#### Do there appear to be outliers? (to be fixed later)\n",
    "#### Think about what the variables mean and what the histograms say about their values and their spread — are there any surprises?"
   ]
  },
  {
   "cell_type": "code",
   "execution_count": null,
   "metadata": {},
   "outputs": [],
   "source": []
  },
  {
   "cell_type": "markdown",
   "metadata": {},
   "source": [
    "## 2. Null Values & Duplicates"
   ]
  },
  {
   "cell_type": "code",
   "execution_count": null,
   "metadata": {},
   "outputs": [],
   "source": [
    "Questions to answer:\n",
    "Is the null value a result of the way data was recorded?\n",
    "Example: Survey response data is recorded in columns as “yes”, “no,” and a null value for “prefer not to answer.” In this case, all nulls can be filled in with a single value like “no answer.”\n",
    "Can you drop the rows with null values without it significantly affecting your analysis?\n",
    "Looking at the distributions of the variables, can you justify filling in the missing values with the mean or median for that variable?\n",
    "Be careful! You have to deal with missing values somehow, but sometimes it is better to drop rows rather than tinker with the original data because if you put bad data into a model you cannot get meaningful results.\n",
    "If your data is time-series data, can you fill the missing values with interpolation?\n",
    "Are there so many missing values for a variable that you should drop that variable from your dataset?"
   ]
  },
  {
   "cell_type": "code",
   "execution_count": null,
   "metadata": {},
   "outputs": [],
   "source": []
  },
  {
   "cell_type": "code",
   "execution_count": null,
   "metadata": {},
   "outputs": [],
   "source": [
    "3. Outliers"
   ]
  },
  {
   "cell_type": "code",
   "execution_count": null,
   "metadata": {},
   "outputs": [],
   "source": [
    "Questions to ask:\n",
    "Do you have outliers (represented as dark circles on the boxplots) in your variables?\n",
    "Why do you think you have outliers?\n",
    "Do the outliers represent real observations (i.e. not errors)?\n",
    "Should you exclude these observations? If not, should you winsorize the values?\n",
    "\n",
    "This is a tricky question. I typically identify my outliers and then I leave them be until I have tried out some models. \n",
    "If I find the models have low accuracy, I will go back and re-evaluate whether I should winsorize the variable(s) with outliers (if I have no other options)."
   ]
  },
  {
   "cell_type": "code",
   "execution_count": null,
   "metadata": {},
   "outputs": [],
   "source": []
  },
  {
   "cell_type": "code",
   "execution_count": null,
   "metadata": {},
   "outputs": [],
   "source": [
    "4. Correlations/Relationships"
   ]
  },
  {
   "cell_type": "code",
   "execution_count": null,
   "metadata": {},
   "outputs": [],
   "source": [
    "df.corr()"
   ]
  },
  {
   "cell_type": "code",
   "execution_count": null,
   "metadata": {},
   "outputs": [],
   "source": [
    "Questions to ask:\n",
    "Which variables are most correlated with your target variable? (If applicable)\n",
    "Is there multicollinearity? (Two features that have a correlation > 0.8) How will this affect your model?\n",
    "Do you have variables that represent the same information? Can one be dropped?"
   ]
  },
  {
   "cell_type": "code",
   "execution_count": null,
   "metadata": {},
   "outputs": [],
   "source": []
  },
  {
   "cell_type": "code",
   "execution_count": null,
   "metadata": {},
   "outputs": [],
   "source": [
    "5. Feature Engineering"
   ]
  },
  {
   "cell_type": "code",
   "execution_count": null,
   "metadata": {},
   "outputs": [],
   "source": [
    "Variable Transformation"
   ]
  },
  {
   "cell_type": "code",
   "execution_count": null,
   "metadata": {},
   "outputs": [],
   "source": [
    "The most common transformation is one-hot-encoding to transform categorical variables into numeric — binary, to be specific — variables. \n",
    "This is necessary because machine learning models cannot handle “object” data types. Pandas makes this easy to do:\n",
    "\n",
    "new_df = pd.get_dummies(df,drop_first=True)"
   ]
  },
  {
   "cell_type": "code",
   "execution_count": null,
   "metadata": {},
   "outputs": [],
   "source": [
    "Another common transformation (which is necessary for some models) is standardizing variables. \n",
    "Here is the code for that:\n",
    "\n",
    "from sklearn.preprocessing import StandardScaler\n",
    "X_std = StandardScaler().fit_transform(X)"
   ]
  },
  {
   "cell_type": "code",
   "execution_count": null,
   "metadata": {},
   "outputs": [],
   "source": [
    "Finally, you may want to transform variables so that they follow a normal distribution, depending on the model you are using. \n",
    "For this, you can try np.log() , np.sqrt() , the box-cox transformation, and other functions to transform your data to better fit a normal distribution."
   ]
  },
  {
   "cell_type": "code",
   "execution_count": null,
   "metadata": {},
   "outputs": [],
   "source": []
  },
  {
   "cell_type": "code",
   "execution_count": null,
   "metadata": {},
   "outputs": [],
   "source": []
  }
 ],
 "metadata": {
  "environment": {
   "name": "common-cpu.m61",
   "type": "gcloud",
   "uri": "gcr.io/deeplearning-platform-release/base-cpu:m61"
  },
  "kernelspec": {
   "display_name": "Python 3",
   "language": "python",
   "name": "python3"
  },
  "language_info": {
   "codemirror_mode": {
    "name": "ipython",
    "version": 3
   },
   "file_extension": ".py",
   "mimetype": "text/x-python",
   "name": "python",
   "nbconvert_exporter": "python",
   "pygments_lexer": "ipython3",
   "version": "3.7.9"
  }
 },
 "nbformat": 4,
 "nbformat_minor": 4
}
