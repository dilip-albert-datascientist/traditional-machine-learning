{
 "cells": [
  {
   "cell_type": "code",
   "execution_count": null,
   "metadata": {},
   "outputs": [],
   "source": [
    "#Show ALL outputs in cell, not only last result\n",
    "from IPython.core.interactiveshell import InteractiveShell\n",
    "InteractiveShell.ast_node_interactivity = \"all\""
   ]
  },
  {
   "cell_type": "code",
   "execution_count": null,
   "metadata": {},
   "outputs": [],
   "source": [
    "#Set relative path mapping for module imports\n",
    "import sys\n",
    "\n",
    "sys.path.append(\"../../\")"
   ]
  },
  {
   "cell_type": "code",
   "execution_count": null,
   "metadata": {},
   "outputs": [],
   "source": [
    "# External Dependencies\n",
    "import numpy as np\n",
    "import pandas as pd"
   ]
  },
  {
   "cell_type": "code",
   "execution_count": null,
   "metadata": {},
   "outputs": [],
   "source": [
    "#Read in pickled data\n",
    "X_y_data = pd.read_pickle(\"../data/interim/X_y_data.pkl\")\n",
    "X = pd.read_pickle(\"../data/interim/X.pkl\")\n",
    "y = pd.read_pickle(\"../data/interim/y.pkl\")"
   ]
  },
  {
   "cell_type": "code",
   "execution_count": null,
   "metadata": {},
   "outputs": [],
   "source": [
    "#Recap data structure\n",
    "X_y_data.head()\n",
    "X_y_data.shape"
   ]
  },
  {
   "cell_type": "code",
   "execution_count": null,
   "metadata": {},
   "outputs": [],
   "source": []
  },
  {
   "cell_type": "markdown",
   "metadata": {},
   "source": [
    "## Model Selection"
   ]
  },
  {
   "cell_type": "code",
   "execution_count": 1,
   "metadata": {},
   "outputs": [
    {
     "data": {
      "text/html": [
       "<img src=\"https://scikit-learn.org/stable/_static/ml_map.png\"/>"
      ],
      "text/plain": [
       "<IPython.core.display.Image object>"
      ]
     },
     "execution_count": 1,
     "metadata": {},
     "output_type": "execute_result"
    }
   ],
   "source": [
    "from IPython.display import Image\n",
    "from IPython.core.display import HTML \n",
    "\n",
    "Image(url= \"https://scikit-learn.org/stable/_static/ml_map.png\")"
   ]
  },
  {
   "cell_type": "code",
   "execution_count": 2,
   "metadata": {},
   "outputs": [],
   "source": [
    "#Which algorithms/estimators are options?\n",
    "    #The estimator you choose for your project will depend on the data set you have and the problem that you are trying to solve."
   ]
  },
  {
   "cell_type": "markdown",
   "metadata": {},
   "source": [
    "# Fit Model & Predict"
   ]
  },
  {
   "cell_type": "code",
   "execution_count": 3,
   "metadata": {},
   "outputs": [],
   "source": [
    "# IMPORTS\n",
    "\n",
    "import numpy as np\n",
    "import pandas as pd\n",
    "import matplotlib.pyplot as plt\n",
    "\n",
    "# Preprocessing\n",
    "from imblearn.over_sampling import SMOTE\n",
    "from sklearn.preprocessing import MinMaxScaler, StandardScaler\n",
    "\n",
    "# Pipelines\n",
    "from sklearn.pipeline import Pipeline\n",
    "from imblearn.pipeline import Pipeline as imbpipeline\n",
    "\n",
    "# Validation\n",
    "from sklearn.model_selection import train_test_split, StratifiedKFold, GridSearchCV\n",
    "\n",
    "# Classification models\n",
    "from sklearn.linear_model import LogisticRegression\n",
    "from sklearn.tree import DecisionTreeClassifier\n",
    "from sklearn.ensemble import RandomForestClassifier\n",
    "# from sklearn.neighbors import KNeighborsClassifier\n",
    "# from sklearn import svm\n",
    "# from xgboost import XGBClassifier\n",
    "\n",
    "# Evaluation metrics\n",
    "# Plot the confusion matrix at the end of the tutorial\n",
    "from sklearn.metrics import accuracy_score, precision_score, recall_score, f1_score\n",
    "from sklearn.metrics import roc_curve, auc\n",
    "\n",
    "\n",
    "from sklearn.metrics import plot_confusion_matrix\n",
    "from sklearn.metrics import confusion_matrix\n",
    "from sklearn.metrics import ConfusionMatrixDisplay, RocCurveDisplay\n",
    "\n",
    "# from sklearn.externals import joblib"
   ]
  },
  {
   "cell_type": "code",
   "execution_count": 4,
   "metadata": {},
   "outputs": [],
   "source": [
    "from sklearn.datasets import make_classification, load_breast_cancer\n",
    "\n",
    "X = load_breast_cancer()['data'].copy()\n",
    "y = load_breast_cancer()['target'].copy()"
   ]
  },
  {
   "cell_type": "code",
   "execution_count": 5,
   "metadata": {},
   "outputs": [],
   "source": [
    "X_train, X_test, y_train, y_test = train_test_split(X,\n",
    "                                                    y,\n",
    "                                                    test_size=0.2,\n",
    "                                                    stratify=y,\n",
    "                                                    random_state=11)"
   ]
  },
  {
   "cell_type": "code",
   "execution_count": 6,
   "metadata": {},
   "outputs": [],
   "source": [
    "# PIPELINES\n",
    "\n",
    "# Logistic Regression pipeline\n",
    "lr_pipeline = imbpipeline([\n",
    "    ['smote', SMOTE(random_state=11)],\n",
    "    ['scaler', MinMaxScaler()],\n",
    "#     ['pca', PCA(n_components=2)],\n",
    "    ['LR', LogisticRegression(random_state=11, \n",
    "                              max_iter=1000)]\n",
    "])\n",
    "\n",
    "# # Decision Trees pipeline\n",
    "# dt_pipeline = imbpipeline([\n",
    "#     ['smote', SMOTE(random_state=11)],\n",
    "#     ['scaler', MinMaxScaler()],\n",
    "# #     ['pca', PCA(n_components=2)],\n",
    "#     ['DT', DecisionTreeClassifier(random_state=11)]\n",
    "# ])\n",
    "\n",
    "# # Random Forest pipeline\n",
    "# rf_pipeline = imbpipeline([\n",
    "#     ['smote', SMOTE(random_state=11)],\n",
    "#     ['scaler', MinMaxScaler()],\n",
    "# #     ['pca', PCA(n_components=2)],\n",
    "#     ['RF', RandomForestClassifier(random_state=11)]\n",
    "# ])\n",
    "\n",
    "# # K-Nearest Neighbors pipeline\n",
    "# knn_pipeline = imbpipeline([\n",
    "#     ['smote', SMOTE(random_state=11)],\n",
    "#     ['scaler', MinMaxScaler()],\n",
    "# #     ['pca', PCA(n_components=2)],\n",
    "#     ['KNN', KNeighborsClassifier()]\n",
    "# ])\n",
    "\n",
    "\n",
    "# # Support Vector Machines pipeline\n",
    "# svm_pipeline = imbpipeline([\n",
    "#     ['smote', SMOTE(random_state=11)],\n",
    "#     ['scaler', MinMaxScaler()],\n",
    "# #     ['pca', PCA(n_components=2)],\n",
    "#     ['SVM', svm.SVC(random_state=11)]\n",
    "# ])\n",
    "\n",
    "# # XGBoost pipeline\n",
    "# xgb_pipeline = imbpipeline([\n",
    "#     ['smote', SMOTE(random_state=11)],\n",
    "#     ['scaler', MinMaxScaler()],\n",
    "# #     ['pca', PCA(n_components=2)],\n",
    "#     ['XGB', XGBClassifier(random_state=11)]\n",
    "# ])"
   ]
  },
  {
   "cell_type": "raw",
   "metadata": {},
   "source": [
    "# HYPERPARAMETER OPTIONS\n",
    "\n",
    "# Logistic Regression hyperparameter options\n",
    "\n",
    "# Logistic regression does not really have any critical hyperparameters to tune.\n",
    "\n",
    "lr_param_grid = [{\n",
    "#     Regularization (penalty) can sometimes be helpful.\n",
    "    'LR__penalty': ['none', 'l1', 'l2', 'elasticnet'],\n",
    "#     Note: not all solvers support all regularization terms.\n",
    "#     The C parameter controls the penality strength, which can also be effective.\n",
    "    'LR__C': [100, 10, 1.0, 0.1, 0.01],\n",
    "#     Sometimes, you can see useful differences in performance or convergence with different solvers (solver).\n",
    "    'LR__solver': ['newton-cg', 'lbfgs', 'liblinear', 'sag', 'saga']}\n",
    "]\n",
    "\n",
    "# Decision Trees hyperparameter options\n",
    "\n",
    "dt_param_grid = [{\n",
    "    'DT__criterion': [],\n",
    "    'DT__min_samples_leaf': [],\n",
    "    'DT__max_depth': [],\n",
    "    'DT__min_samples_split': []}\n",
    "]\n",
    "\n",
    "# Random Forest hyperparameter options\n",
    "\n",
    "The most important parameter is the number of random features to sample at each split point (max_features).\n",
    "\n",
    "rf_param_grid = [{\n",
    "    'RF__min_samples_leaf': [],\n",
    "    'RF__max_depth': [],\n",
    "    'RF__min_samples_split': []}\n",
    "]\n",
    "\n",
    "# K-Nearest Neighbors hyperparameter options\n",
    "\n",
    "# The most important hyperparameter for KNN is the number of neighbors (n_neighbors).\n",
    "\n",
    "knn_param_grid = [{    \n",
    "#     Test values between at least 1 and 21, perhaps just the odd numbers.\n",
    "    'KNN__n_neighbors': [1 to 21],\n",
    "#     It may also be interesting to test the contribution of members of the neighborhood via different weightings (weights).\n",
    "    'KNN__weights': ['uniform', 'distance'],\n",
    "#     It may also be interesting to test different distance metrics (metric) for choosing the composition of the neighborhood.\n",
    "    'KNN__metric': ['euclidean', 'manhattan', 'minkowski']}\n",
    "]\n",
    "\n",
    "# Support Vector Machines hyperparameter options\n",
    "\n",
    "# The SVM algorithm, like gradient boosting, is very popular, very effective, \n",
    "# and provides a large number of hyperparameters to tune.\n",
    "\n",
    "svm_param_grid = [{    \n",
    "#     Perhaps the first important parameter is the choice of kernel that will control\n",
    "#     the manner in which the input variables will be projected. \n",
    "#     There are many to choose from, but linear, polynomial, and RBF are the most common, \n",
    "#     perhaps just linear and RBF in practice.\n",
    "    'SVM__kernel': ['linear', 'poly', 'rbf', 'sigmoid'], \n",
    "#     If the polynomial kernel works out, then it is a good idea to dive into the degree hyperparameter.\n",
    "#     Another critical parameter is the penalty (C) that can take on a range of values \n",
    "#     and has a dramatic effect on the shape of the resulting regions for each class. \n",
    "#     A log scale might be a good starting point.\n",
    "    'SVM__C': [100, 10, 1.0, 0.1, 0.001]}\n",
    "]\n",
    "\n",
    "# XGBoost parameter hyperparameter options\n",
    "xgb_param_grid = [{\n",
    "    'XGB__learning_rate': [],\n",
    "    'XGB__max_depth': [],\n",
    "    'XGB__min_child_weight': [],\n",
    "    'XGB__subsample': [],\n",
    "    'XGB__n_estimators': []}\n",
    "]"
   ]
  },
  {
   "cell_type": "code",
   "execution_count": 7,
   "metadata": {},
   "outputs": [],
   "source": [
    "# CHOSEN HYPERPARAMETER GRIDS\n",
    "\n",
    "param_range = [1, 2, 3, 4, 5, 6]\n",
    "param_range_fl = [1.0, 0.5, 0.1]\n",
    "n_estimators = [50,100,150]\n",
    "learning_rates = [.1,.2,.3]\n",
    "\n",
    "lr_param_grid = {'LR__C':[0.001, 0.01, 0.1, 1, 10, 100, 1000]}\n",
    "\n",
    "# Logistic Regression hyperparameter grid\n",
    "# lr_param_grid = [{\n",
    "#     'LR__penalty': ['l1', 'l2'],\n",
    "#     'LR__C': param_range_fl,\n",
    "#     'LR__solver': ['liblinear']}\n",
    "# ]\n",
    "\n",
    "# Decision Trees hyperparameter grid\n",
    "dt_param_grid = [{\n",
    "    'DT__criterion': ['gini', 'entropy'],\n",
    "    'DT__min_samples_leaf': param_range,\n",
    "    'DT__max_depth': param_range,\n",
    "    'DT__min_samples_split': param_range[1:]}\n",
    "]\n",
    "\n",
    "# Random Forest hyperparameter grid\n",
    "rf_param_grid = [{\n",
    "    'RF__min_samples_leaf': param_range,\n",
    "    'RF__max_depth': param_range,\n",
    "    'RF__min_samples_split': param_range[1:]}\n",
    "]\n",
    "\n",
    "# # K-Nearest Neighbors hyperparameter grid\n",
    "# knn_param_grid = [{\n",
    "#     'KNN__n_neighbors': param_range,\n",
    "#     'KNN__weights': ['uniform', 'distance'],\n",
    "#     'KNN__metric': ['euclidean', 'manhattan']}\n",
    "# ]\n",
    "\n",
    "# # Support Vector Machines hyperparameter grid\n",
    "# svm_param_grid = [{\n",
    "#     'SVM__kernel': ['linear', 'rbf'], \n",
    "#     'SVM__C': param_range}\n",
    "# ]\n",
    "\n",
    "# # XGBoost hyperparameter grid\n",
    "# xgb_param_grid = [{\n",
    "#     'XGB__learning_rate': learning_rates,\n",
    "#     'XGB__max_depth': param_range,\n",
    "#     'XGB__min_child_weight': param_range[:2],\n",
    "#     'XGB__subsample': param_range_fl,\n",
    "#     'XGB__n_estimators': n_estimators}\n",
    "# ]"
   ]
  },
  {
   "cell_type": "code",
   "execution_count": 9,
   "metadata": {},
   "outputs": [],
   "source": [
    "# SET UP GRID SEARCH CV\n",
    "\n",
    "# scoring = 'accuracy'\n",
    "scoring = 'roc_auc'\n",
    "stratified_kfold = StratifiedKFold(n_splits=3,\n",
    "                                   shuffle=True,\n",
    "                                   random_state=11)\n",
    "    \n",
    "# Logistic Regression grid search CV\n",
    "lr_grid_search = GridSearchCV(\n",
    "    estimator=lr_pipeline, \n",
    "    param_grid=lr_param_grid, \n",
    "    scoring=scoring,\n",
    "    cv=stratified_kfold,\n",
    "    n_jobs=-1\n",
    ")\n",
    "\n",
    "# # Decision Trees grid search CV\n",
    "# dt_grid_search = GridSearchCV(\n",
    "#     estimator=dt_pipeline, \n",
    "#     param_grid=dt_param_grid, \n",
    "#     scoring=scoring,\n",
    "#     cv=stratified_kfold,\n",
    "#     n_jobs=-1\n",
    "# )\n",
    "\n",
    "# # Random Forest grid search CV\n",
    "# rf_grid_search = GridSearchCV(\n",
    "#     estimator=rf_pipeline, \n",
    "#     param_grid=rf_param_grid, \n",
    "#     scoring=scoring,\n",
    "#     cv=stratified_kfold,\n",
    "#     n_jobs=-1\n",
    "# )\n",
    "\n",
    "# # K-Nearest Neighbors grid search CV\n",
    "# knn_grid_search = GridSearchCV(\n",
    "#     estimator=knn_pipeline, \n",
    "#     param_grid=knn_param_grid, \n",
    "#     scoring=scoring,\n",
    "#     cv=stratified_kfold,\n",
    "#     n_jobs=-1\n",
    "# )\n",
    "\n",
    "# # Support Vector Machines grid search CV\n",
    "# svm_grid_search = GridSearchCV(\n",
    "#     estimator=svm_pipeline, \n",
    "#     param_grid=svm_param_grid, \n",
    "#     scoring=scoring,\n",
    "#     cv=stratified_kfold,\n",
    "#     n_jobs=-1\n",
    "# )\n",
    "\n",
    "# # XGBoost grid search CV\n",
    "# xgb_grid_search = GridSearchCV(\n",
    "#     estimator=xgb_pipeline, \n",
    "#     param_grid=xgb_param_grid, \n",
    "#     scoring=scoring,\n",
    "#     cv=stratified_kfold,\n",
    "#     n_jobs=-1\n",
    "# )"
   ]
  },
  {
   "cell_type": "code",
   "execution_count": 10,
   "metadata": {},
   "outputs": [
    {
     "name": "stdout",
     "output_type": "stream",
     "text": [
      "CPU times: user 176 ms, sys: 80 ms, total: 256 ms\n",
      "Wall time: 1.36 s\n"
     ]
    }
   ],
   "source": [
    "%%time\n",
    "# FIT MODELS\n",
    " \n",
    "grids = [\n",
    "    lr_grid_search,\n",
    "#     dt_grid_search,\n",
    "#     rf_grid_search,\n",
    "#     knn_grid_search,\n",
    "#     svm_grid_search,\n",
    "#     xgb_grid_search\n",
    "]\n",
    "\n",
    "for pipe in grids:\n",
    "    pipe.fit(X_train,y_train)"
   ]
  },
  {
   "cell_type": "code",
   "execution_count": 11,
   "metadata": {},
   "outputs": [
    {
     "name": "stdout",
     "output_type": "stream",
     "text": [
      "Logistic Regression Best Params: {'LR__C': 10}\n",
      "Logistic Regression Cross Validation Training roc_auc: 0.9972013366750209\n",
      "Logistic Regression Test roc_auc: 0.9798280423280423 \n",
      "\n",
      "CPU times: user 0 ns, sys: 4 ms, total: 4 ms\n",
      "Wall time: 3.55 ms\n"
     ]
    }
   ],
   "source": [
    "%%time \n",
    "# PREDICT & SCORE MODELS\n",
    "\n",
    "grid_dict = {\n",
    "    0: 'Logistic Regression', \n",
    "#     1: 'Decision Trees', \n",
    "#     2: 'Random Forest', \n",
    "#     3: 'K-Nearest Neighbors', \n",
    "#     4: 'Support Vector Machines', \n",
    "#     5: 'XGBoost'\n",
    "}\n",
    "\n",
    "for i, model in enumerate(grids):\n",
    "    \n",
    "    y_pred = model.predict(X_test)\n",
    "    print('{} Best Params: {}'.format(grid_dict[i], model.best_params_))\n",
    "    \n",
    "    print('{} Cross Validation Training {}: {}'.format(grid_dict[i], scoring, model.best_score_))\n",
    "    print('{} Test {}: {}'.format(grid_dict[i], scoring, model.score(X_test,y_test)), '\\n')\n",
    "    \n",
    "#     print('{} Test Accuracy: {}'.format(grid_dict[i], accuracy_score(y_test, y_pred)))\n",
    "#     print('{} Test Precision: {}'.format(grid_dict[i], precision_score(y_test, y_pred)))\n",
    "#     print('{} Test Recall: {}'.format(grid_dict[i], recall_score(y_test, y_pred)))\n",
    "#     print('{} Test F1 Score: {}'.format(grid_dict[i], f1_score(y_test, y_pred)))"
   ]
  },
  {
   "cell_type": "code",
   "execution_count": null,
   "metadata": {
    "jupyter": {
     "source_hidden": true
    }
   },
   "outputs": [],
   "source": [
    "# PREDICT & SCORE MODELS\n",
    "\n",
    "grid_dict = {\n",
    "    0: 'Logistic Regression', \n",
    "    1: 'Decision Trees', \n",
    "    2: 'Random Forest', \n",
    "#     3: 'K-Nearest Neighbors', \n",
    "#     4: 'Support Vector Machines', \n",
    "#     5: 'XGBoost'\n",
    "}\n",
    "\n",
    "# Fit the grid search objects\n",
    "print('Performing model optimizations...')\n",
    "best_acc = 0.0\n",
    "best_clf = 0\n",
    "best_gs = ''\n",
    "\n",
    "for idx, gs in enumerate(grids):\n",
    "    print('\\nEstimator: %s' % grid_dict[idx])\n",
    "    \n",
    "    # Fit grid search\n",
    "    gs.fit(X_train, y_train)\n",
    "    \n",
    "    # Best params\n",
    "    print('Best params: %s' % gs.best_params_)\n",
    "    # Best training data accuracy\n",
    "    print('Best training accuracy: %.3f' % gs.best_score_)\n",
    "    # Predict on test data with best params\n",
    "    y_pred = gs.predict(X_test)\n",
    "    # Test data accuracy of model with best params\n",
    "    print('Test set accuracy score for best params: %.3f ' % accuracy_score(y_test, y_pred))\n",
    "    # Track best (highest test accuracy) model\n",
    "    if accuracy_score(y_test, y_pred) > best_acc:\n",
    "        best_acc = accuracy_score(y_test, y_pred)\n",
    "        best_gs = gs\n",
    "        best_clf = idx\n",
    "        \n",
    "print('\\nClassifier with best test set accuracy: %s' % grid_dict[best_clf])\n",
    "\n",
    "# Save best grid search pipeline to file\n",
    "dump_file = 'best_gs_pipeline.pkl'\n",
    "# joblib.dump(best_gs, dump_file, compress=1)\n",
    "# print('\\nSaved %s grid search pipeline to file: %s' % (grid_dict[best_clf], dump_file))"
   ]
  },
  {
   "cell_type": "code",
   "execution_count": null,
   "metadata": {},
   "outputs": [],
   "source": []
  },
  {
   "cell_type": "markdown",
   "metadata": {},
   "source": [
    "## Best Model Evaluation Metrics"
   ]
  },
  {
   "cell_type": "code",
   "execution_count": 12,
   "metadata": {},
   "outputs": [],
   "source": [
    "# Pick best model based on scoring above\n",
    "clf_best = lr_grid_search"
   ]
  },
  {
   "cell_type": "code",
   "execution_count": 13,
   "metadata": {},
   "outputs": [
    {
     "data": {
      "text/plain": [
       "{'mean_fit_time': array([0.01061495, 0.01022577, 0.01185473, 0.01446915, 0.01881274,\n",
       "        0.03777989, 0.04814736]),\n",
       " 'std_fit_time': array([0.00023327, 0.00042811, 0.00079089, 0.00069088, 0.00155039,\n",
       "        0.00138388, 0.01013405]),\n",
       " 'mean_score_time': array([0.00237528, 0.00224646, 0.00200144, 0.00216881, 0.00206216,\n",
       "        0.00229565, 0.00148439]),\n",
       " 'std_score_time': array([5.32452740e-05, 1.19533469e-04, 6.37576434e-05, 9.57278224e-05,\n",
       "        4.45712352e-04, 8.69347361e-06, 4.79108645e-05]),\n",
       " 'param_LR__C': masked_array(data=[0.001, 0.01, 0.1, 1, 10, 100, 1000],\n",
       "              mask=[False, False, False, False, False, False, False],\n",
       "        fill_value='?',\n",
       "             dtype=object),\n",
       " 'params': [{'LR__C': 0.001},\n",
       "  {'LR__C': 0.01},\n",
       "  {'LR__C': 0.1},\n",
       "  {'LR__C': 1},\n",
       "  {'LR__C': 10},\n",
       "  {'LR__C': 100},\n",
       "  {'LR__C': 1000}],\n",
       " 'split0_test_score': array([0.98467221, 0.98688827, 0.99279778, 0.99796861, 0.99649123,\n",
       "        0.99058172, 0.99095106]),\n",
       " 'split1_test_score': array([0.98762696, 0.98855032, 0.99409049, 0.99963066, 1.        ,\n",
       "        0.99778393, 0.99242844]),\n",
       " 'split2_test_score': array([0.9862782 , 0.98721805, 0.9906015 , 0.99379699, 0.99511278,\n",
       "        0.9962406 , 0.99567669]),\n",
       " 'mean_test_score': array([0.98619245, 0.98755221, 0.99249659, 0.99713208, 0.99720134,\n",
       "        0.99486875, 0.99301873]),\n",
       " 'std_test_score': array([0.0012078 , 0.0007185 , 0.00144021, 0.00245394, 0.00205741,\n",
       "        0.00309618, 0.00197387]),\n",
       " 'rank_test_score': array([7, 6, 5, 2, 1, 3, 4], dtype=int32)}"
      ]
     },
     "execution_count": 13,
     "metadata": {},
     "output_type": "execute_result"
    }
   ],
   "source": [
    "# VERIFY TRAINING CV RESULTS\n",
    "clf_best.cv_results_"
   ]
  },
  {
   "cell_type": "code",
   "execution_count": 14,
   "metadata": {},
   "outputs": [
    {
     "name": "stdout",
     "output_type": "stream",
     "text": [
      "[0.98619245 0.98755221 0.99249659 0.99713208 0.99720134 0.99486875\n",
      " 0.99301873]\n"
     ]
    }
   ],
   "source": [
    "# Same number of values as combinations of grid search parameter sets, run cv=k number of times and averaged\n",
    "scores = clf_best.cv_results_['mean_test_score'].reshape(-1).T\n",
    "print(scores)\n",
    "# heatmap = mglearn.tools.heatmap(\n",
    "# scores, xlabel=\"C\", ylabel=\"ngram_range\", cmap=\"viridis\", fmt=\"%.3f\",\n",
    "# xticklabels=param_grid['logisticregression__C'],\n",
    "# yticklabels=param_grid['tfidfvectorizer__ngram_range'])\n",
    "# plt.colorbar(heatmap)"
   ]
  },
  {
   "cell_type": "code",
   "execution_count": 15,
   "metadata": {},
   "outputs": [
    {
     "data": {
      "text/plain": [
       "array([[38,  4],\n",
       "       [ 2, 70]])"
      ]
     },
     "execution_count": 15,
     "metadata": {},
     "output_type": "execute_result"
    }
   ],
   "source": [
    "# CONFUSION MATRIX\n",
    "\n",
    "y_pred = clf_best.predict(X_test)\n",
    "confusion_matrix(y_test, y_pred)"
   ]
  },
  {
   "cell_type": "code",
   "execution_count": 16,
   "metadata": {},
   "outputs": [
    {
     "data": {
      "image/png": "[encoded data removed]",
      "text/plain": [
       "<Figure size 432x288 with 2 Axes>"
      ]
     },
     "metadata": {
      "needs_background": "light"
     },
     "output_type": "display_data"
    }
   ],
   "source": [
    "plot_confusion_matrix(clf_best, X_test, y_test);"
   ]
  },
  {
   "cell_type": "code",
   "execution_count": 18,
   "metadata": {},
   "outputs": [
    {
     "name": "stdout",
     "output_type": "stream",
     "text": [
      "ROC AUC: 0.980 \n",
      "\n"
     ]
    },
    {
     "data": {
      "image/png": "[encoded data removed]",
      "text/plain": [
       "<Figure size 432x288 with 1 Axes>"
      ]
     },
     "metadata": {
      "needs_background": "light"
     },
     "output_type": "display_data"
    }
   ],
   "source": [
    "# AUC & ROC CURVE\n",
    "y_pred = clf_best.decision_function(X_test)\n",
    "# y_pred = clf_best.predict(X_test)\n",
    "\n",
    "# Compute fpr, tpr, thresholds and roc auc\n",
    "fpr, tpr, thresholds = roc_curve(y_test, y_pred)\n",
    "roc_auc = auc(fpr, tpr)\n",
    "print('ROC AUC: %.3f' % roc_auc,'\\n')\n",
    "\n",
    "# Plot ROC curve\n",
    "plt.plot(fpr, tpr, label='ROC curve (area = %0.3f)' % roc_auc)\n",
    "plt.plot([0, 1], [0, 1], 'k--')  # random predictions curve\n",
    "plt.xlim([0.0, 1.0])\n",
    "plt.ylim([0.0, 1.0])\n",
    "plt.xlabel('False Positive Rate or (1 - Specifity)')\n",
    "plt.ylabel('True Positive Rate or (Sensitivity)')\n",
    "plt.title('Receiver Operating Characteristic')\n",
    "plt.legend(loc=\"lower right\");"
   ]
  },
  {
   "cell_type": "code",
   "execution_count": null,
   "metadata": {},
   "outputs": [],
   "source": []
  },
  {
   "cell_type": "code",
   "execution_count": null,
   "metadata": {},
   "outputs": [],
   "source": []
  },
  {
   "cell_type": "code",
   "execution_count": null,
   "metadata": {},
   "outputs": [],
   "source": [
    "https://pandas-ml.readthedocs.io/en/latest/index.html"
   ]
  },
  {
   "cell_type": "code",
   "execution_count": null,
   "metadata": {},
   "outputs": [],
   "source": [
    "https://www.scikit-yb.org/en/latest/"
   ]
  }
 ],
 "metadata": {
  "environment": {
   "name": "common-cpu.m61",
   "type": "gcloud",
   "uri": "gcr.io/deeplearning-platform-release/base-cpu:m61"
  },
  "kernelspec": {
   "display_name": "Python 3",
   "language": "python",
   "name": "python3"
  },
  "language_info": {
   "codemirror_mode": {
    "name": "ipython",
    "version": 3
   },
   "file_extension": ".py",
   "mimetype": "text/x-python",
   "name": "python",
   "nbconvert_exporter": "python",
   "pygments_lexer": "ipython3",
   "version": "3.7.9"
  }
 },
 "nbformat": 4,
 "nbformat_minor": 4
}
