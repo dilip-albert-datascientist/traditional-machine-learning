{
 "cells": [
  {
   "cell_type": "markdown",
   "metadata": {},
   "source": [
    "## Linear Regression"
   ]
  },
  {
   "cell_type": "raw",
   "metadata": {},
   "source": [
    "Assumptions:\n",
    "    #1: Linearity\n",
    "    #2: Normal distribution of Residuals\n",
    "    #3: Homoscedasticity\n",
    "    #4: Multicollinearity\n",
    "    #5: No Auto-correlation/ Independence of error terms\n",
    "\n",
    "When to use:\n",
    "\n",
    "Training set cost function:\n",
    "    RMSE\n",
    "    MSE\n",
    "    MAE\n",
    "\n",
    "Testing set evaluation:\n",
    "    RMSE\n",
    "    R-squared"
   ]
  },
  {
   "cell_type": "markdown",
   "metadata": {},
   "source": [
    "## Logistic Regression"
   ]
  },
  {
   "cell_type": "code",
   "execution_count": null,
   "metadata": {},
   "outputs": [],
   "source": [
    "Assumptions:\n",
    "    \n",
    "When to use:\n",
    "\n",
    "Training data loss (&/or cost) function:\n",
    "    Log-loss\n",
    "\n",
    "Testing data evaluation:\n",
    "    Accuracy\n",
    "    Precision, recall, f1-score"
   ]
  },
  {
   "cell_type": "markdown",
   "metadata": {},
   "source": [
    "## SVM"
   ]
  },
  {
   "cell_type": "code",
   "execution_count": null,
   "metadata": {},
   "outputs": [],
   "source": [
    "Assumptions:\n",
    "\n",
    "When to use:\n",
    "    \n",
    "Training data loss (&/or cost) function:\n",
    "\n",
    "Testing data evaluation:"
   ]
  },
  {
   "cell_type": "markdown",
   "metadata": {},
   "source": [
    "## Decision Trees"
   ]
  },
  {
   "cell_type": "code",
   "execution_count": null,
   "metadata": {},
   "outputs": [],
   "source": [
    "Assumptions:\n",
    "    \n",
    "When to use:\n",
    "\n",
    "Training data loss (&/or cost) function:\n",
    "\n",
    "Testing data evaluation:"
   ]
  },
  {
   "cell_type": "markdown",
   "metadata": {},
   "source": [
    "## Random Forest"
   ]
  },
  {
   "cell_type": "code",
   "execution_count": null,
   "metadata": {},
   "outputs": [],
   "source": [
    "Assumptions:\n",
    "\n",
    "When to use:\n",
    "\n",
    "Training data loss (&/or cost) function:\n",
    "\n",
    "Testing data evaluation:"
   ]
  },
  {
   "cell_type": "markdown",
   "metadata": {},
   "source": [
    "## Ada-Boost"
   ]
  },
  {
   "cell_type": "code",
   "execution_count": null,
   "metadata": {},
   "outputs": [],
   "source": [
    "Assumptions:\n",
    "\n",
    "When to use:\n",
    "\n",
    "Training data loss (&/or cost) function:\n",
    "\n",
    "Testing data evaluation:"
   ]
  },
  {
   "cell_type": "markdown",
   "metadata": {},
   "source": [
    "## Gradient-Boost"
   ]
  },
  {
   "cell_type": "code",
   "execution_count": null,
   "metadata": {},
   "outputs": [],
   "source": [
    "Assumptions:\n",
    "    \n",
    "When to use:\n",
    "\n",
    "Training data loss (&/or cost) function:\n",
    "\n",
    "Testing data evaluation:"
   ]
  },
  {
   "cell_type": "markdown",
   "metadata": {},
   "source": [
    "## XG-Boost"
   ]
  },
  {
   "cell_type": "code",
   "execution_count": null,
   "metadata": {},
   "outputs": [],
   "source": [
    "Assumptions:\n",
    "    \n",
    "When to use:\n",
    "\n",
    "Training data loss (&/or cost) function:\n",
    "\n",
    "Testing data evaluation:"
   ]
  },
  {
   "cell_type": "code",
   "execution_count": null,
   "metadata": {},
   "outputs": [],
   "source": []
  }
 ],
 "metadata": {
  "environment": {
   "name": "common-cpu.m61",
   "type": "gcloud",
   "uri": "gcr.io/deeplearning-platform-release/base-cpu:m61"
  },
  "kernelspec": {
   "display_name": "Python 3",
   "language": "python",
   "name": "python3"
  },
  "language_info": {
   "codemirror_mode": {
    "name": "ipython",
    "version": 3
   },
   "file_extension": ".py",
   "mimetype": "text/x-python",
   "name": "python",
   "nbconvert_exporter": "python",
   "pygments_lexer": "ipython3",
   "version": "3.7.9"
  }
 },
 "nbformat": 4,
 "nbformat_minor": 4
}
