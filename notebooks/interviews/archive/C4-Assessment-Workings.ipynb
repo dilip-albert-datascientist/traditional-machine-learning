{
 "cells": [
  {
   "cell_type": "markdown",
   "metadata": {},
   "source": [
    "# Test Dome Python Assessment"
   ]
  },
  {
   "cell_type": "code",
   "execution_count": 1,
   "metadata": {},
   "outputs": [],
   "source": [
    "#Show ALL outputs in cell, not only last result\n",
    "from IPython.core.interactiveshell import InteractiveShell\n",
    "InteractiveShell.ast_node_interactivity = \"all\""
   ]
  },
  {
   "cell_type": "code",
   "execution_count": 2,
   "metadata": {},
   "outputs": [],
   "source": [
    "import numpy as np\n",
    "import pandas as pd\n",
    "import scipy.stats as stats\n",
    "\n",
    "from typing import List, Set, Dict, Tuple, Optional"
   ]
  },
  {
   "cell_type": "code",
   "execution_count": null,
   "metadata": {},
   "outputs": [],
   "source": []
  },
  {
   "cell_type": "code",
   "execution_count": 103,
   "metadata": {},
   "outputs": [],
   "source": [
    "import pandas as pd\n",
    "import math\n",
    "\n",
    "def num_names(names, required_pct):\n",
    "    \"\"\"\n",
    "    :param names: (list) A list of first names.\n",
    "    :param required_pct: (int) The required percentage of the sample data to be preprinted.\n",
    "    :returns: (int) The minimum number of unique first names (or templates) that need to be prepared.\n",
    "    \"\"\"\n",
    "    \n",
    "    d = {\n",
    "    'names': names,\n",
    "    }\n",
    "\n",
    "    df = pd.DataFrame(data=d)\n",
    "    df['count'] = 1\n",
    "\n",
    "    df = df.groupby('names').sum() \\\n",
    "           .sort_values(by='count', ascending=False)\n",
    "\n",
    "    df['cum_sum'] = df['count'].cumsum()\n",
    "    df['cum_perc'] = 100 * df['cum_sum'] / df['count'].sum()\n",
    "\n",
    "    thresh_mask = df['cum_perc'] <= required_pct\n",
    "    min_unique_names = len(df[thresh_mask])\n",
    "\n",
    "    return min_unique_names"
   ]
  },
  {
   "cell_type": "code",
   "execution_count": 107,
   "metadata": {},
   "outputs": [
    {
     "name": "stdout",
     "output_type": "stream",
     "text": [
      "2\n"
     ]
    }
   ],
   "source": [
    "names = [\"James\", \"Sophia\", \"James\", \"Sophia\", \"James\", \"Sophia\", \"Emma\", \"Jack\"]\n",
    "print(num_names(names, 75))"
   ]
  },
  {
   "cell_type": "code",
   "execution_count": null,
   "metadata": {},
   "outputs": [],
   "source": []
  },
  {
   "cell_type": "code",
   "execution_count": 97,
   "metadata": {},
   "outputs": [],
   "source": [
    "names = [\"James\", \"Sophia\", \"James\", \"Sophia\", \"James\", \"Sophia\", \"Emma\", \"Jack\", ]\n",
    "required_pct = 75"
   ]
  },
  {
   "cell_type": "code",
   "execution_count": 98,
   "metadata": {},
   "outputs": [
    {
     "data": {
      "text/plain": [
       "6.0"
      ]
     },
     "execution_count": 98,
     "metadata": {},
     "output_type": "execute_result"
    }
   ],
   "source": [
    "threshold = len(names) * (required_pct / 100)\n",
    "threshold"
   ]
  },
  {
   "cell_type": "code",
   "execution_count": 144,
   "metadata": {},
   "outputs": [],
   "source": [
    "names = [\"James\", \"Sophia\", \"James\", \"Sophia\", \"James\", \"Sophia\", \"Emma\", \"Jack\"]\n",
    "required_pct = 75"
   ]
  },
  {
   "cell_type": "code",
   "execution_count": 186,
   "metadata": {},
   "outputs": [
    {
     "data": {
      "text/plain": [
       "2"
      ]
     },
     "execution_count": 186,
     "metadata": {},
     "output_type": "execute_result"
    }
   ],
   "source": [
    "d = {\n",
    "    'names': names,\n",
    "}\n",
    "\n",
    "df = pd.DataFrame(data=d)\n",
    "df['count'] = 1\n",
    "\n",
    "df = df.groupby('names').sum() \\\n",
    "       .sort_values(by='count', ascending=False)\n",
    "\n",
    "df['cum_sum'] = df['count'].cumsum()\n",
    "df['cum_perc'] = 100 * df['cum_sum'] / df['count'].sum()\n",
    "\n",
    "thresh_mask = df['cum_perc'] < required_pct\n",
    "len(df[thresh_mask]) + 1"
   ]
  },
  {
   "cell_type": "code",
   "execution_count": null,
   "metadata": {},
   "outputs": [],
   "source": []
  },
  {
   "cell_type": "code",
   "execution_count": 95,
   "metadata": {},
   "outputs": [
    {
     "data": {
      "text/plain": [
       "2"
      ]
     },
     "execution_count": 95,
     "metadata": {},
     "output_type": "execute_result"
    }
   ],
   "source": [
    "d = {\n",
    "    'names': names,\n",
    "}\n",
    "\n",
    "df = pd.DataFrame(data=d)\n",
    "df['count'] = 1\n",
    "\n",
    "df = df.groupby('names').sum() \\\n",
    "       .sort_values(by='count', ascending=False)\n",
    "\n",
    "df['cum_sum'] = df['count'].cumsum()\n",
    "df['cum_perc'] = 100 * df['cum_sum'] / df['count'].sum()\n",
    "\n",
    "thresh_mask = df['cum_perc'] <= required_pct\n",
    "min_unique_names = len(df[thresh_mask])\n",
    "min_unique_names"
   ]
  },
  {
   "cell_type": "code",
   "execution_count": null,
   "metadata": {},
   "outputs": [],
   "source": []
  },
  {
   "cell_type": "code",
   "execution_count": null,
   "metadata": {},
   "outputs": [],
   "source": []
  },
  {
   "cell_type": "markdown",
   "metadata": {},
   "source": [
    "## Challenge 1:"
   ]
  },
  {
   "cell_type": "code",
   "execution_count": 4,
   "metadata": {},
   "outputs": [],
   "source": [
    "import numpy as np\n",
    "from sklearn.model_selection import train_test_split\n",
    "from sklearn import metrics\n",
    "\n",
    "def train_and_predict(train_input_features, train_outputs, prediction_features):\n",
    "    \"\"\"\n",
    "    :param train_input_features: (numpy.array) A two-dimensional NumPy array where each element\n",
    "                        is an array that contains two numerical features\n",
    "    :param train_outputs: (numpy.array) A one-dimensional NumPy array where each element\n",
    "                        is the value associated with the same row of train_input_features\n",
    "    :param prediction_features: (numpy.array) A two-dimensional NumPy array where each element\n",
    "                        is an array that contains two numerical features\n",
    "    :returns: (list) The function should return an iterable (like list or numpy.ndarray) of predictions,\n",
    "                        one for each item in prediction_features\n",
    "    \"\"\"\n",
    "    \n",
    "    \n",
    "    pass"
   ]
  },
  {
   "cell_type": "code",
   "execution_count": 23,
   "metadata": {},
   "outputs": [
    {
     "ename": "NameError",
     "evalue": "name 'train_input_features' is not defined",
     "output_type": "error",
     "traceback": [
      "\u001b[0;31m---------------------------------------------------------------------------\u001b[0m",
      "\u001b[0;31mNameError\u001b[0m                                 Traceback (most recent call last)",
      "\u001b[0;32m<ipython-input-23-87128507f195>\u001b[0m in \u001b[0;36m<module>\u001b[0;34m\u001b[0m\n\u001b[1;32m      3\u001b[0m \u001b[0mpoly_reg\u001b[0m \u001b[0;34m=\u001b[0m \u001b[0mPolynomialFeatures\u001b[0m\u001b[0;34m(\u001b[0m\u001b[0mdegree\u001b[0m\u001b[0;34m=\u001b[0m\u001b[0;36m3\u001b[0m\u001b[0;34m)\u001b[0m\u001b[0;34m\u001b[0m\u001b[0;34m\u001b[0m\u001b[0m\n\u001b[1;32m      4\u001b[0m \u001b[0;34m\u001b[0m\u001b[0m\n\u001b[0;32m----> 5\u001b[0;31m \u001b[0mX_poly\u001b[0m \u001b[0;34m=\u001b[0m \u001b[0mpoly_reg\u001b[0m\u001b[0;34m.\u001b[0m\u001b[0mfit_transform\u001b[0m\u001b[0;34m(\u001b[0m\u001b[0mtrain_input_features\u001b[0m\u001b[0;34m)\u001b[0m\u001b[0;34m\u001b[0m\u001b[0;34m\u001b[0m\u001b[0m\n\u001b[0m\u001b[1;32m      6\u001b[0m \u001b[0mpol_reg\u001b[0m \u001b[0;34m=\u001b[0m \u001b[0mLinearRegression\u001b[0m\u001b[0;34m(\u001b[0m\u001b[0;34m)\u001b[0m\u001b[0;34m\u001b[0m\u001b[0;34m\u001b[0m\u001b[0m\n\u001b[1;32m      7\u001b[0m \u001b[0;34m\u001b[0m\u001b[0m\n",
      "\u001b[0;31mNameError\u001b[0m: name 'train_input_features' is not defined"
     ]
    }
   ],
   "source": [
    "from sklearn.preprocessing import PolynomialFeatures\n",
    "\n",
    "poly_reg = PolynomialFeatures(degree=3)\n",
    "\n",
    "X_poly = poly_reg.fit_transform(train_input_features)\n",
    "pol_reg = LinearRegression()\n",
    "\n",
    "pol_reg.fit(X_poly, train_outputs)\n",
    "\n",
    "y_pred = pol_reg.predict(poly_reg.fit_transform(prediction_features))\n",
    "y_pred"
   ]
  },
  {
   "cell_type": "code",
   "execution_count": null,
   "metadata": {},
   "outputs": [],
   "source": []
  },
  {
   "cell_type": "code",
   "execution_count": 25,
   "metadata": {},
   "outputs": [
    {
     "name": "stdout",
     "output_type": "stream",
     "text": [
      "10\n"
     ]
    }
   ],
   "source": [
    "import pandas as pd\n",
    "\n",
    "def avg_percentage(game_id, ft_number, team, result):\n",
    "    \"\"\"\n",
    "    :param game_id: (list) The ID of the game. \n",
    "    :param ft_number: (list) The number of the free throw.\n",
    "    :param team: (list) Which team took the free throw.\n",
    "    :param result: (list) The result of the free throw, which is either missed or made.\n",
    "    :returns: (float) The mean value of the percentages (0.0-100.0) of free throws that\n",
    "               each team scored in each game.\n",
    "    \"\"\"\n",
    "    \n",
    "    # create a list of our conditions\n",
    "    conditions = [\n",
    "        (df['result'] == 'made'),\n",
    "        (df['result'] == 'missed'),\n",
    "        ]\n",
    "\n",
    "    # create a list of the values we want to assign for each condition\n",
    "    values = [1, 0]\n",
    "\n",
    "    # create a new column and use np.select to assign values to it using our lists as arguments\n",
    "    df['result_encoded'] = np.select(conditions, values)\n",
    "    \n",
    "    df.groupby(['game_id', 'team'])['result_encoded'].sum()\n",
    "    \n",
    "    return None\n",
    "\n",
    "#For example, with the parameters below, the function should return 58.33\n",
    "print(avg_percentage(\n",
    "    [1, 1, 1, 1, 2, 2],\n",
    "    [1, 2, 3, 4, 1, 2],\n",
    "    ['home','home','away','home','away','home'],\n",
    "    ['made','missed','made','missed','missed','made']\n",
    "))"
   ]
  },
  {
   "cell_type": "code",
   "execution_count": 181,
   "metadata": {},
   "outputs": [
    {
     "data": {
      "text/html": [
       "<div>\n",
       "<style scoped>\n",
       "    .dataframe tbody tr th:only-of-type {\n",
       "        vertical-align: middle;\n",
       "    }\n",
       "\n",
       "    .dataframe tbody tr th {\n",
       "        vertical-align: top;\n",
       "    }\n",
       "\n",
       "    .dataframe thead th {\n",
       "        text-align: right;\n",
       "    }\n",
       "</style>\n",
       "<table border=\"1\" class=\"dataframe\">\n",
       "  <thead>\n",
       "    <tr style=\"text-align: right;\">\n",
       "      <th></th>\n",
       "      <th>game_id</th>\n",
       "      <th>ft_number</th>\n",
       "      <th>team</th>\n",
       "      <th>result</th>\n",
       "    </tr>\n",
       "  </thead>\n",
       "  <tbody>\n",
       "    <tr>\n",
       "      <th>0</th>\n",
       "      <td>1</td>\n",
       "      <td>1</td>\n",
       "      <td>home</td>\n",
       "      <td>made</td>\n",
       "    </tr>\n",
       "    <tr>\n",
       "      <th>1</th>\n",
       "      <td>1</td>\n",
       "      <td>2</td>\n",
       "      <td>home</td>\n",
       "      <td>missed</td>\n",
       "    </tr>\n",
       "    <tr>\n",
       "      <th>2</th>\n",
       "      <td>1</td>\n",
       "      <td>3</td>\n",
       "      <td>away</td>\n",
       "      <td>made</td>\n",
       "    </tr>\n",
       "    <tr>\n",
       "      <th>3</th>\n",
       "      <td>1</td>\n",
       "      <td>4</td>\n",
       "      <td>home</td>\n",
       "      <td>missed</td>\n",
       "    </tr>\n",
       "    <tr>\n",
       "      <th>4</th>\n",
       "      <td>2</td>\n",
       "      <td>1</td>\n",
       "      <td>away</td>\n",
       "      <td>missed</td>\n",
       "    </tr>\n",
       "    <tr>\n",
       "      <th>5</th>\n",
       "      <td>2</td>\n",
       "      <td>2</td>\n",
       "      <td>home</td>\n",
       "      <td>made</td>\n",
       "    </tr>\n",
       "  </tbody>\n",
       "</table>\n",
       "</div>"
      ],
      "text/plain": [
       "   game_id  ft_number  team  result\n",
       "0        1          1  home    made\n",
       "1        1          2  home  missed\n",
       "2        1          3  away    made\n",
       "3        1          4  home  missed\n",
       "4        2          1  away  missed\n",
       "5        2          2  home    made"
      ]
     },
     "execution_count": 181,
     "metadata": {},
     "output_type": "execute_result"
    }
   ],
   "source": [
    "d = {\n",
    "    'game_id': [1, 1, 1, 1, 2, 2],\n",
    "    'ft_number': [1, 2, 3, 4, 1, 2],\n",
    "    'team': ['home','home','away','home','away','home'],\n",
    "    'result': ['made','missed','made','missed','missed','made'] \n",
    "}\n",
    "\n",
    "df = pd.DataFrame(data=d)\n",
    "df.head(10)"
   ]
  },
  {
   "cell_type": "code",
   "execution_count": 182,
   "metadata": {},
   "outputs": [
    {
     "data": {
      "text/html": [
       "<div>\n",
       "<style scoped>\n",
       "    .dataframe tbody tr th:only-of-type {\n",
       "        vertical-align: middle;\n",
       "    }\n",
       "\n",
       "    .dataframe tbody tr th {\n",
       "        vertical-align: top;\n",
       "    }\n",
       "\n",
       "    .dataframe thead th {\n",
       "        text-align: right;\n",
       "    }\n",
       "</style>\n",
       "<table border=\"1\" class=\"dataframe\">\n",
       "  <thead>\n",
       "    <tr style=\"text-align: right;\">\n",
       "      <th></th>\n",
       "      <th>game_id</th>\n",
       "      <th>ft_number</th>\n",
       "      <th>team</th>\n",
       "      <th>result</th>\n",
       "      <th>result_encoded</th>\n",
       "    </tr>\n",
       "  </thead>\n",
       "  <tbody>\n",
       "    <tr>\n",
       "      <th>0</th>\n",
       "      <td>1</td>\n",
       "      <td>1</td>\n",
       "      <td>home</td>\n",
       "      <td>made</td>\n",
       "      <td>1</td>\n",
       "    </tr>\n",
       "    <tr>\n",
       "      <th>1</th>\n",
       "      <td>1</td>\n",
       "      <td>2</td>\n",
       "      <td>home</td>\n",
       "      <td>missed</td>\n",
       "      <td>0</td>\n",
       "    </tr>\n",
       "    <tr>\n",
       "      <th>2</th>\n",
       "      <td>1</td>\n",
       "      <td>3</td>\n",
       "      <td>away</td>\n",
       "      <td>made</td>\n",
       "      <td>1</td>\n",
       "    </tr>\n",
       "    <tr>\n",
       "      <th>3</th>\n",
       "      <td>1</td>\n",
       "      <td>4</td>\n",
       "      <td>home</td>\n",
       "      <td>missed</td>\n",
       "      <td>0</td>\n",
       "    </tr>\n",
       "    <tr>\n",
       "      <th>4</th>\n",
       "      <td>2</td>\n",
       "      <td>1</td>\n",
       "      <td>away</td>\n",
       "      <td>missed</td>\n",
       "      <td>0</td>\n",
       "    </tr>\n",
       "    <tr>\n",
       "      <th>5</th>\n",
       "      <td>2</td>\n",
       "      <td>2</td>\n",
       "      <td>home</td>\n",
       "      <td>made</td>\n",
       "      <td>1</td>\n",
       "    </tr>\n",
       "  </tbody>\n",
       "</table>\n",
       "</div>"
      ],
      "text/plain": [
       "   game_id  ft_number  team  result  result_encoded\n",
       "0        1          1  home    made               1\n",
       "1        1          2  home  missed               0\n",
       "2        1          3  away    made               1\n",
       "3        1          4  home  missed               0\n",
       "4        2          1  away  missed               0\n",
       "5        2          2  home    made               1"
      ]
     },
     "execution_count": 182,
     "metadata": {},
     "output_type": "execute_result"
    }
   ],
   "source": [
    "# create a list of our conditions\n",
    "conditions = [\n",
    "    (df['result'] == 'made'),\n",
    "    (df['result'] == 'missed'),\n",
    "    ]\n",
    "\n",
    "# create a list of the values we want to assign for each condition\n",
    "values = [1, 0]\n",
    "\n",
    "# create a new column and use np.select to assign values to it using our lists as arguments\n",
    "df['result_encoded'] = np.select(conditions, values)\n",
    "df"
   ]
  },
  {
   "cell_type": "code",
   "execution_count": 185,
   "metadata": {},
   "outputs": [
    {
     "data": {
      "text/plain": [
       "0.5833333333333333"
      ]
     },
     "execution_count": 185,
     "metadata": {},
     "output_type": "execute_result"
    }
   ],
   "source": [
    "df_grouped = df.groupby(['game_id', 'team'])['result_encoded'].agg({'count', 'sum'})\n",
    "\n",
    "df_grouped['percent'] = df_grouped['sum'] / df_grouped['count']\n",
    "df_grouped['percent'].mean()"
   ]
  },
  {
   "cell_type": "code",
   "execution_count": null,
   "metadata": {},
   "outputs": [],
   "source": []
  },
  {
   "cell_type": "code",
   "execution_count": null,
   "metadata": {},
   "outputs": [],
   "source": []
  },
  {
   "cell_type": "code",
   "execution_count": null,
   "metadata": {},
   "outputs": [],
   "source": [
    "def func(\n",
    "    sample_1:,\n",
    "    b:\n",
    ") -> :\n",
    "    \"\"\"\n",
    "    xxxx\n",
    "    \"\"\"\n",
    "    \n",
    "    pass "
   ]
  },
  {
   "cell_type": "code",
   "execution_count": null,
   "metadata": {},
   "outputs": [],
   "source": [
    "sample_1 = [1, 2, 3, 4, 5, 6, 7, 8, 9, 10, 100]\n",
    "sample_2 = [1, 2, 3, 4, 5, 6, 7, 8, 9, 10, 100, 999]\n",
    "sample_3 = [-200, 1, 2, 3, 4, 5, 6, 7, 8, 9, 10, 100]"
   ]
  },
  {
   "cell_type": "code",
   "execution_count": null,
   "metadata": {},
   "outputs": [],
   "source": [
    "func_return = func(sample_1, b)\n",
    "type(func_return)"
   ]
  },
  {
   "cell_type": "code",
   "execution_count": null,
   "metadata": {},
   "outputs": [],
   "source": [
    "assert func(sample_1, b) == 5.5\n",
    "assert func(sample_2, b) == 5.5\n",
    "assert func(sample_3, b) == 5.5"
   ]
  },
  {
   "cell_type": "code",
   "execution_count": null,
   "metadata": {},
   "outputs": [],
   "source": []
  },
  {
   "cell_type": "code",
   "execution_count": null,
   "metadata": {},
   "outputs": [],
   "source": []
  },
  {
   "cell_type": "markdown",
   "metadata": {},
   "source": [
    "## Challenge 2:"
   ]
  },
  {
   "cell_type": "code",
   "execution_count": null,
   "metadata": {},
   "outputs": [],
   "source": []
  },
  {
   "cell_type": "code",
   "execution_count": null,
   "metadata": {},
   "outputs": [],
   "source": []
  },
  {
   "cell_type": "markdown",
   "metadata": {},
   "source": [
    "## Challenge 3:"
   ]
  },
  {
   "cell_type": "code",
   "execution_count": null,
   "metadata": {},
   "outputs": [],
   "source": []
  },
  {
   "cell_type": "code",
   "execution_count": null,
   "metadata": {},
   "outputs": [],
   "source": []
  },
  {
   "cell_type": "code",
   "execution_count": null,
   "metadata": {},
   "outputs": [],
   "source": []
  },
  {
   "cell_type": "markdown",
   "metadata": {},
   "source": [
    "## Challenge 4:"
   ]
  },
  {
   "cell_type": "code",
   "execution_count": null,
   "metadata": {},
   "outputs": [],
   "source": []
  },
  {
   "cell_type": "code",
   "execution_count": null,
   "metadata": {},
   "outputs": [],
   "source": []
  }
 ],
 "metadata": {
  "environment": {
   "name": "common-cpu.m61",
   "type": "gcloud",
   "uri": "gcr.io/deeplearning-platform-release/base-cpu:m61"
  },
  "kernelspec": {
   "display_name": "Python 3",
   "language": "python",
   "name": "python3"
  },
  "language_info": {
   "codemirror_mode": {
    "name": "ipython",
    "version": 3
   },
   "file_extension": ".py",
   "mimetype": "text/x-python",
   "name": "python",
   "nbconvert_exporter": "python",
   "pygments_lexer": "ipython3",
   "version": "3.7.9"
  }
 },
 "nbformat": 4,
 "nbformat_minor": 4
}
