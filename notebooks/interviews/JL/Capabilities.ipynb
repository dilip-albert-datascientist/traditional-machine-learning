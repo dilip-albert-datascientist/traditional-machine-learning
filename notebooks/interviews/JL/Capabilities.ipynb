{
 "cells": [
  {
   "cell_type": "markdown",
   "metadata": {},
   "source": [
    "# Partnership Values"
   ]
  },
  {
   "cell_type": "raw",
   "metadata": {},
   "source": [
    "Our Partnership Values have been created by Partners, for Partners. They are how we want to behave with one another, our customers, suppliers and stakeholders. They sum up the things that we hold dear and admire in one another.\n",
    "\n",
    "All or nothing\n",
    "    – We put everything we have into everything we do\n",
    "\n",
    "Be yourself. Always \n",
    "    – We’re quirky, proud and at our best when we’re free to be ourselves\n",
    "\n",
    "Do right\n",
    "    – We act with integrity and use our judgement to do the right thing\n",
    "\n",
    "Give more than you take \n",
    "    – We all put more in so that everyone gets more out\n",
    "\n",
    "Develops self and others \n",
    "    – you look to grow your own and others confidence, knowledge, capability and ultimately performance.\n",
    "\n",
    "We not me \n",
    "    – When we work together, anything is possible"
   ]
  },
  {
   "cell_type": "markdown",
   "metadata": {},
   "source": [
    "# Partnership Capabilities"
   ]
  },
  {
   "cell_type": "markdown",
   "metadata": {},
   "source": [
    "## Adaptive Partner"
   ]
  },
  {
   "cell_type": "markdown",
   "metadata": {},
   "source": [
    "### 1) Planning & Delivering Excellence"
   ]
  },
  {
   "cell_type": "raw",
   "metadata": {},
   "source": [
    "- Focuses on planning ahead and working in a systematic and organised way. \n",
    "- Drives customer and stakeholder satisfaction through the delivery of a high quality service or product. \n",
    "- Demonstrates agility in adjusting priorities and leveraging resources in order to drive value for the Partnership and customer.\n",
    "\n",
    "YOUR EXAMPLE: WATERFALL WoW WITHIN PRODUCT DEV TEAMS\n",
    "\n",
    "I have a need to plan ahead and work systematically, due to the sometimes silo’d & waterfall way of working for product dev teams, \n",
    "I need to consider tasks being completed before and afterwards in the chain (before is data delivery/quality and after is engineering tasks).\n",
    "\n",
    "I have to adapt to both of these sides whilst not always having all of the information to hand.\n",
    "\n",
    "I would setup what I can for data ingestion and ensure that code can be handed over in an engineering friendly state.\n",
    "\n",
    "· When data delivery/quality is delayed and this could impact on the timing of the delivery, I will reach out to other data scientists where needed, if even with prep there is limited time to complete."
   ]
  },
  {
   "cell_type": "markdown",
   "metadata": {},
   "source": [
    "### 2) Collaborating & Supporting Works"
   ]
  },
  {
   "cell_type": "raw",
   "metadata": {},
   "source": [
    "- collaboratively and builds trust with others. \n",
    "- Delivers and seeks formal and informal feedback and takes any necessary action. \n",
    "- Able to challenge constructively. \n",
    "- Takes a democratic approach to working with others in order to drive high levels of performance. \n",
    "- Makes effective internal and external connections.\n",
    "\n",
    "MY EXAMPLE: WALNUT ENTRY POINT TO PRODUCTION PROCESS\n",
    "\n",
    "I noticed inefficiencies in way of working within my squad I was working in, so i formulated an idea to address this. \n",
    "Took idea to line manager and broached it to gather feedback\n",
    "Then I took the idea to the squad to in a Retrospective meeting to get them on board. I constructively challenging the existing way of working but explaining my reasoning and how it would benefit the whole squad.\n",
    "I then managed this project and took it to completion, gathering further feedback from the squad as they were using it.\n",
    "This process freed up a number of hours for customer centric work.\n",
    "Additionally, I knowledge shared the ideas from this project across another squad which also greatly helped their efficiencies\n",
    "\n",
    "“Give more than you take” JLP Value"
   ]
  },
  {
   "cell_type": "markdown",
   "metadata": {},
   "source": [
    "### 3) Agility & Resilience"
   ]
  },
  {
   "cell_type": "raw",
   "metadata": {},
   "source": [
    "- Demonstrates resilience and embraces the need to change. \n",
    "- Manages pressure effectively and copes well with setbacks. \n",
    "- Knows when to let go and change direction or to look for an alternative approach. \n",
    "- Looks for opportunities to learn and improve. \n",
    "- Seeks to add value to the Partnership and customer at the earliest point possible.\n",
    "\n",
    "MY EXAMPLE: MOVING FROM EXPLORATION TEAM TO END2END TEAM\n",
    "\n",
    "Moved from exploration to end2end squad – working with new job function (engineering). \n",
    "Commitment to deliver a feature within the next month for a particular client. \n",
    "Existing Data scientist was off on sick leave time had to jump into a new squad and pick up a new way of working. \n",
    "Instigated one on meetings with each person to understand roles and squad lead in first few days. \n",
    "Based on these conversations i prioritised the tasks that I was aware would have direct impact on the delivery, completing them in the most efficient ways. When more time available reviewed approach on how to improve."
   ]
  },
  {
   "cell_type": "markdown",
   "metadata": {},
   "source": [
    "## Customer Centric"
   ]
  },
  {
   "cell_type": "markdown",
   "metadata": {},
   "source": [
    "### 4) Applying Insight & Analytics"
   ]
  },
  {
   "cell_type": "raw",
   "metadata": {},
   "source": [
    "- Regularly collects and reviews insight to anticipate customer and business needs. \n",
    "- Monitors progress and makes any necessary adjustments in order to delight the customer. \n",
    "- Gets to the heart of complex problems and issues with an analytical approach to decision making.\n",
    "\n",
    "MY EXAMPLE: BUILDING OUT DATA DRIVEN PRODUCT ACROSS MULTIPLE OFFERINGS\n",
    "\n",
    "My day to day currently contributing to building out a data driven product for our clients across a number of different offerings. \n",
    "The product is to distill millions of rows of data into key front end components.\n",
    "example; what is the impact of my price reductions, who are my competitors? \n",
    "I will use the data to drill into potential feature additions to the client and feedback to product. \n",
    "I also gain feedback from the product owners on potential adjustments to be made, based on client feedback.\n",
    "I will then change it. example adapting the methodology for competitor analysis.\n",
    "\n",
    "Once built involved in validation of front end which is what the customer sees."
   ]
  },
  {
   "cell_type": "markdown",
   "metadata": {},
   "source": [
    "### 5) Customer & Performance Focus"
   ]
  },
  {
   "cell_type": "raw",
   "metadata": {},
   "source": [
    "- Puts the customer at the heart of everything. \n",
    "- Results driven. \n",
    "- Focuses on delivering outcomes that delight the customer and create sustainable value for the Partnership. \n",
    "- Drives and monitors performance against clear goals.\n",
    "\n",
    "MY EXAMPLE: EHARMONY CLIENT WORK ON CUSTOMER DATA\n",
    "\n",
    "At the advertising agency I worked for, I needed to understand both the needs and priorities of the client and their customers themselves.\n",
    "I worked closely with the client to understand their customer and what they needed to get out of the proposed project.\n",
    "They provided you with customer data and you worked with them on proposed insights, based on the products that they sold.\n",
    "I understood the time periods that were important to them and which areas of getting insight from me were more critical.\n",
    "I also considered the restrictions of the project as well as monitored performance against goals."
   ]
  },
  {
   "cell_type": "markdown",
   "metadata": {},
   "source": [
    "### 6) Creativity & Innovation"
   ]
  },
  {
   "cell_type": "raw",
   "metadata": {},
   "source": [
    "- Steps back from the detail and views situations from a broad perspective in order to generate innovative solutions. \n",
    "- Draws inspiration from a wide range of internal and external sources. \n",
    "- Demonstrates a creative curiosity to deliver commercial solutions that delight the customer.\n",
    "\n",
    "MY EXAMPLE: AUTOMATED MONITORING DASHBOARD USING BIGQUERY DATA STUDIO\n",
    "\n",
    "Built an automated monitoring dashboard for product owners to interrogate key metrics – to self service. \n",
    "Assessed the volume of adhoc queries that team were being approached about and the time that this was adding to workload. \n",
    "Sketched out a design on a Miro board and took it to the product owner who approved that they could use it. \n",
    "Result: Reduced the feedback loop both externally and internally. \n",
    "Product owners can go back directly to clients."
   ]
  },
  {
   "cell_type": "markdown",
   "metadata": {},
   "source": [
    "## Specialist in People"
   ]
  },
  {
   "cell_type": "markdown",
   "metadata": {},
   "source": [
    "### 7) Empowered Partner Engages"
   ]
  },
  {
   "cell_type": "raw",
   "metadata": {},
   "source": [
    "- empowers and motivates self and others. \n",
    "- Initiates action and takes responsibility for driving higher levels of performance in themselves and others, in line with Partnership objectives. \n",
    "- Creates an environment for others to feel comfortable being open and honest, taking risks and experimenting\n",
    "\n",
    "MY EXAMPLE: CODE PAIRING FRAMEWORK\n",
    "\n",
    "I noticed a silo's way of working within my squad, who are a team of introverts.\n",
    "Identified that this was holding back both individual & team delivery. \n",
    "Brought forward a code pairing framework for walnut squad.\n",
    "In a squad of 8 Data Scientists including myself, this included me proposing the specific 3 pairings that would work best based on my own personal judgement of personalities & working style.\n",
    "This was all with the aim of bringing the best out of the individuals and the team in general, \n",
    "As well as empowering them to be able to be at their best and have a working environment that gives them the freedom to be truly exploratative Data scientists\n",
    "\n",
    "I used this same thinking later in a different squad, due to difficult working relationship between other"
   ]
  },
  {
   "cell_type": "markdown",
   "metadata": {},
   "source": [
    "### 8) Unlocking Potential"
   ]
  },
  {
   "cell_type": "raw",
   "metadata": {},
   "source": [
    "- Is self aware and continuously seeks to develop themselves and apply their learning and knowledge to their work. \n",
    "- Supports others in their development. \n",
    "- Shows sound judgement but is comfortable with taking risks and demonstrates how they have learnt from their mistakes. \n",
    "- Seeks challenging or unfamiliar assignments when the opportunity arises. \n",
    "- Coaches others to develop and grow.\n",
    "\n",
    "MY EXAMPLE: MOVED TO PRODUCTION SQUAD, PUSHED MY OWN DEVELOPMENT & SUPPORTED JUNIOR MEMBER\n",
    "\n",
    "Own development.\n",
    "    In current role, I put my hand up to move to a production focused squad in order to develop my programming & software engineering skills.\n",
    "    This enabled me to challenge my current way of doing things and risk initial failure in order to improve.\n",
    "    Where opportunities aren’t available self learn using Medium/Towards Data Science/Datacamp/Statquest/Kaggle etc.\n",
    "\n",
    "Supported others.\n",
    "    Mentored a graduate analyst – he was struggling with fast paced nature of agency work.\n",
    "    I helped him priortise, when to challenge on workload, and breaking bigger tasks into manageable chunks. \n",
    "    I enabled him to building his confidence of when he could say no, so that he could perform at his best."
   ]
  },
  {
   "cell_type": "markdown",
   "metadata": {},
   "source": [
    "### 9) Communicating & Influencing"
   ]
  },
  {
   "cell_type": "raw",
   "metadata": {},
   "source": [
    "- Communicates and influences with authentic enthusiasm. \n",
    "- Has an engaging way of communicating and persuading others to their point of view. \n",
    "- Able to convey complex messages with clarity. \n",
    "- Organises their communication effectively. \n",
    "- Adapts their communicating and influencing style to achieve successful outcomes.\n",
    "\n",
    "MY EXAMPLE: PRESENTING THE SAME TOPIC TO BOTH STAKEHOLDERS AND DATASCIENCE\n",
    "\n",
    "Whilst doing analysis always thinking ahead to presentation stage, and the two audiences stakeholders and datascience. \n",
    "Drill into the technical detail for datascience and high level for stakeholders. \n",
    "Complete all in one document. Results driven document for stateholders and methodology driven document for datascience. \n",
    "To ensure that its engaging, the document must tell a story, all building to the end result. \n",
    "Stakeholder slides all have easily digestible key take out headlines. \n",
    "The datascience slides are more discursive, informal & exploratative with the aim of leading to the most appropriate methodology for the task at hand."
   ]
  },
  {
   "cell_type": "raw",
   "metadata": {},
   "source": []
  }
 ],
 "metadata": {
  "environment": {
   "name": "common-cpu.m61",
   "type": "gcloud",
   "uri": "gcr.io/deeplearning-platform-release/base-cpu:m61"
  },
  "kernelspec": {
   "display_name": "Python 3",
   "language": "python",
   "name": "python3"
  },
  "language_info": {
   "codemirror_mode": {
    "name": "ipython",
    "version": 3
   },
   "file_extension": ".py",
   "mimetype": "text/x-python",
   "name": "python",
   "nbconvert_exporter": "python",
   "pygments_lexer": "ipython3",
   "version": "3.7.9"
  }
 },
 "nbformat": 4,
 "nbformat_minor": 4
}
