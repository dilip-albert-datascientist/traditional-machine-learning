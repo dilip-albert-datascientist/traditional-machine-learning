{
 "cells": [
  {
   "cell_type": "code",
   "execution_count": null,
   "metadata": {},
   "outputs": [],
   "source": []
  },
  {
   "cell_type": "code",
   "execution_count": null,
   "metadata": {},
   "outputs": [],
   "source": []
  },
  {
   "cell_type": "markdown",
   "metadata": {},
   "source": [
    "## Behavioral"
   ]
  },
  {
   "cell_type": "code",
   "execution_count": null,
   "metadata": {},
   "outputs": [],
   "source": [
    "The 3 Dos are:\n",
    "    - Do your research\n",
    "    - Do emphasize impact\n",
    "    - Do show multiple attributes of yourself\n",
    "\n",
    "The 3 Don’ts are:\n",
    "    - Don't be blameful\n",
    "    - Don't talk about work-life balance, perks, or compensation\n",
    "    - Don't ask offensive questions\n",
    "\n",
    "Why The S.T.A.R Method Does Not Work in Data Science Interviews and What to Do Instead \n",
    "https://towardsdatascience.com/why-th... "
   ]
  },
  {
   "cell_type": "markdown",
   "metadata": {},
   "source": [
    "## Projects"
   ]
  },
  {
   "cell_type": "code",
   "execution_count": null,
   "metadata": {},
   "outputs": [],
   "source": [
    "3 Tips:\n",
    "    - Package up Your Project\n",
    "    - Remove Useless Details\n",
    "    - Engage the Interviewer"
   ]
  },
  {
   "cell_type": "code",
   "execution_count": null,
   "metadata": {},
   "outputs": [],
   "source": [
    "Goal\n",
    "\n",
    "More Context (if required)\n",
    "\n",
    "Impact\n",
    "\n",
    "Challenges\n",
    "    Technical\n",
    "    Non-technical\n",
    "\n",
    "Interesting Findings"
   ]
  },
  {
   "cell_type": "markdown",
   "metadata": {},
   "source": [
    "## Statistics"
   ]
  },
  {
   "cell_type": "code",
   "execution_count": null,
   "metadata": {},
   "outputs": [],
   "source": [
    "three areas of knowledge you need for statistical interviews: \n",
    "    - Probability \n",
    "    - Hypothesis Testing\n",
    "    - Regression\n",
    "\n",
    "types of questions you will be asked: \n",
    "    - Conceptual Questions\n",
    "    - Question Involving Calculations \n",
    "    - Coding Questions"
   ]
  },
  {
   "cell_type": "code",
   "execution_count": null,
   "metadata": {},
   "outputs": [],
   "source": [
    "5 statistical concepts:\n",
    "    Power\n",
    "    Type 1 error\n",
    "    Type 2 error\n",
    "    Confidence Interval\n",
    "    p-value"
   ]
  },
  {
   "cell_type": "code",
   "execution_count": null,
   "metadata": {},
   "outputs": [],
   "source": [
    "Hypothesis testing problems\n",
    "    Hypothesis testing basics\n",
    "    Hypothesis testing + A/B testing\n",
    "    Hypothsis testing + SQL"
   ]
  },
  {
   "cell_type": "code",
   "execution_count": null,
   "metadata": {},
   "outputs": [],
   "source": [
    "Hypothesis testing + A/B testing\n",
    "    Which hypothesis test to use?\n",
    "    What is the null hypothesis?\n",
    "    Is the result statisically significant?\n",
    "    Is the result practically significant?"
   ]
  }
 ],
 "metadata": {
  "environment": {
   "name": "common-cpu.m61",
   "type": "gcloud",
   "uri": "gcr.io/deeplearning-platform-release/base-cpu:m61"
  },
  "kernelspec": {
   "display_name": "Python 3",
   "language": "python",
   "name": "python3"
  },
  "language_info": {
   "codemirror_mode": {
    "name": "ipython",
    "version": 3
   },
   "file_extension": ".py",
   "mimetype": "text/x-python",
   "name": "python",
   "nbconvert_exporter": "python",
   "pygments_lexer": "ipython3",
   "version": "3.7.9"
  }
 },
 "nbformat": 4,
 "nbformat_minor": 4
}
