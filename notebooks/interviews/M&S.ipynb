{
 "cells": [
  {
   "cell_type": "raw",
   "metadata": {},
   "source": [
    "1 Hour technical:\n",
    "    30 min testing in areas of statistics, mathematics, coding, and probability.\n",
    "    30 min scenario-based questions around ML"
   ]
  },
  {
   "cell_type": "markdown",
   "metadata": {},
   "source": [
    "### Statistics / Probability:"
   ]
  },
  {
   "cell_type": "raw",
   "metadata": {},
   "source": [
    "A/B TESTING:\n",
    "    Experiment types\n",
    "        A/B, A/B/n multivariate, bandit\n",
    "    Research\n",
    "        Business objectives, website goals, KPIs, target metrics\n",
    "    Technical analysis\n",
    "        Bugs, speed analysis, website analytics, mouse-tracking analysis, user testing, copy testing\n",
    "    Framework\n",
    "    Considerations\n",
    "        Sample size, run for full weeks (at least 2 business cycles), representative sample\n",
    "        Sample size calculator, minimum effect size / practical significance, 80% power, 5% significance level (95% confidence level)\n",
    "        Novelty affect, change aversion\n",
    "    Setup\n",
    "        Hypothesis (use hypothesis kit), testable, solves conversion problem, provides market insights\n",
    "        Client side or server side tool\n",
    "    Results\n",
    "        Google Analytics analysis\n",
    "        Multiple sources of data, check implementation, segment performance,\n",
    "        Visualise results to layman\n",
    "    Statistics\n",
    "        Mean, variance, sampling\n",
    "        p-value, one-tail vs two-tail \n",
    "        confidence interval, sampling error"
   ]
  },
  {
   "cell_type": "raw",
   "metadata": {},
   "source": [
    "PROBABILITY:\n",
    "    Bayes Theorem\n",
    "    Tree diagrams\n",
    "    Central limit theorem\n",
    "    Law of large numbers\n",
    "    Distributions\n",
    "        Bernouilli, binomial, normal (68, 95, 99.7), poisson\n",
    "\n",
    "EDA\n",
    "    Descriptive statistics\n",
    "    Variance, sd, range\n",
    "    Modality, skewness\n",
    "    covariance, pearsons, correlation\n",
    "    Correlation vs causation\n",
    "    \n",
    "EXPERIMENTS & TESTING\n",
    "    Confidence intervals, margin of error\n",
    "    Hypothesis testing, means & proportions\n",
    "    Power & sample size\n",
    "    Multiple testing (Bonferroni)\n",
    "    \n",
    "REGRESSION & CLASSIFICATION\n",
    "    Linear regression (linear, errors normal distributed, uniform variance, independent observations\n",
    "    Logistic regression\n",
    "    Evaluation (r-squared, MAE, MSE/RMSE)\n",
    "    Missing data & outliers (drop, impute)\n",
    "    Bias-variance"
   ]
  },
  {
   "cell_type": "code",
   "execution_count": null,
   "metadata": {},
   "outputs": [],
   "source": []
  },
  {
   "cell_type": "markdown",
   "metadata": {},
   "source": [
    "### Mathematics:"
   ]
  },
  {
   "cell_type": "code",
   "execution_count": null,
   "metadata": {},
   "outputs": [],
   "source": [
    "SUPPLY CHAIN ANALYTICS:\n",
    "    "
   ]
  },
  {
   "cell_type": "markdown",
   "metadata": {},
   "source": [
    "### Coding:"
   ]
  },
  {
   "cell_type": "code",
   "execution_count": null,
   "metadata": {},
   "outputs": [],
   "source": []
  },
  {
   "cell_type": "markdown",
   "metadata": {},
   "source": [
    "### ML Scenarios:"
   ]
  },
  {
   "cell_type": "raw",
   "metadata": {},
   "source": [
    "SUPERVISED:\n",
    "    \n",
    "Linear Regression\n",
    "    Explanation:\n",
    "    Advantages:\n",
    "    Disadvantages:\n",
    "    Applications:\n",
    "\n",
    "Lasso Regression (L1)\n",
    "    Explanation:\n",
    "    Advantages:\n",
    "    Disadvantages:\n",
    "    Applications:\n",
    "\n",
    "Ridge Regression (L2)\n",
    "    Explanation:\n",
    "    Advantages:\n",
    "    Disadvantages:\n",
    "    Applications:\n",
    "\n",
    "Logistic Regression\n",
    "    Explanation: \n",
    "    Advantages: Simple, effective, minimal tuning of hyperparameters \n",
    "    Disadvantages: Poor on non-linear, poor on irrelevant or correlated features, not very powerful, reliance on good features\n",
    "    Applications: Any binary classification problem\n",
    "    \n",
    "SVM\n",
    "    Explanation:\n",
    "    Advantages: performs well in higher dimensions, good when classes are separable, outliers have less impact\n",
    "    Disadvantages: Slow for larger datasets, poor with overlapped classes, hyperparameters are important\n",
    "    Applications: Bag of words, speech/image recognition, medical analytics, text classfication\n",
    "    Assumptions:\n",
    "\n",
    "KNN\n",
    "    Explanation:\n",
    "    Advantages: Simple to understand and implement, no assumptions, evolving model, multiclass, 1 key hyperparameter\n",
    "    Disadvantages: Slow, curse of dimensionality, scaling important, not good on imbalanced, sensitive to outliers, not good with missing\n",
    "    Applications: Small datasets & less features, where you don't know how way output and inputs are related\n",
    "\n",
    "Naive Bayes\n",
    "        Explanation:\n",
    "        Advantages: Very fast & scalable, insensitive to irrelevant features, good for multiclass, good for high dimensional\n",
    "        Disadvantages: Independent features often doesn't hold, predicted probabilities not to be taken too seriously, training should represent population\n",
    "        Applications: Test classification, spam filtering, sentiment analysis, recommendation systems\n",
    "     \n",
    "Decision Trees\n",
    "    Explanation:\n",
    "    Advantages: Normalisation not needed, handles missing, explainable, easy visualisation, automatic feature selection\n",
    "    Disadvantages: Overfitting, sensitive to data, high training time\n",
    "    Applications:\n",
    "\n",
    "Random Forest\n",
    "    Explanation:\n",
    "    Advantages: Decorrelates trees, reduces variance, errors balanced out, good on imbalanced, handles huge data, handles missing, little ipact of outliers, less problem of overfitting, feature importance\n",
    "    Disadvantages: Features need predictive power, need uncorrelated predictions, bit black box\n",
    "    Assumptions: Credit card default, fraud, disease, recommendation\n",
    "            \n",
    "Ada-Boost\n",
    "    Explanation:\n",
    "    Advantages:\n",
    "    Disadvantages:\n",
    "    Assumptions:\n",
    "\n",
    "Gradient-Boost\n",
    "    Explanation:\n",
    "    Advantages:\n",
    "    Disadvantages:\n",
    "    Assumptions:    \n",
    "\n",
    "XG-Boost\n",
    "    Explanation:\n",
    "    Advantages: Less feature engineerring, feature importance, handles large datasets, executes quickly, wins most Kaggle competitions, less prone to overfitting\n",
    "    Disadvantages: Harder to tune, visualisation tough\n",
    "    Assumptions: Any classification problem\n",
    "\n",
    "Light GBM\n",
    "    Explanation:\n",
    "    Advantages:\n",
    "    Disadvantages:\n",
    "    Assumptions:\n",
    "    \n",
    "UNSUPERVISED:\n",
    "\n",
    "Clustering\n",
    "    K-means\n",
    "    Hierachical\n",
    "\n",
    "PCA\n"
   ]
  },
  {
   "cell_type": "raw",
   "metadata": {},
   "source": [
    "ML BASICS:\n",
    "    Overfitting\n",
    "        Learning power too high, data size too small, model fits noise, badly on unobserved data\n",
    "        Regression model with data points less than features\n",
    "        Reduce model learning power, regularization, add more data\n",
    "\n",
    "    Imbalance\n",
    "    \n",
    "    Random Forest\n",
    "    \n",
    "    3 evaluation metrics\n",
    "    \n",
    "    L1 vs L2 regularisation\n",
    "    \n",
    "    Hyperparameters\n",
    "\n",
    "QUESTIONS FROM CV:\n",
    "\n",
    "ML CODING:\n",
    "\n",
    "APPLIED ML:\n",
    "    "
   ]
  },
  {
   "cell_type": "code",
   "execution_count": null,
   "metadata": {},
   "outputs": [],
   "source": []
  },
  {
   "cell_type": "code",
   "execution_count": null,
   "metadata": {},
   "outputs": [],
   "source": []
  },
  {
   "cell_type": "code",
   "execution_count": null,
   "metadata": {},
   "outputs": [],
   "source": []
  },
  {
   "cell_type": "markdown",
   "metadata": {},
   "source": [
    "### Project Based Competencies:"
   ]
  },
  {
   "cell_type": "raw",
   "metadata": {},
   "source": [
    "Goal:\n",
    "    Build an attitudinal segmentation to use for targeted messaging for prospective dating website customers.\n",
    "\n",
    "More Context (if required):\n",
    "    \n",
    "\n",
    "Impact:\n",
    "    c. 7% uplift in customer sign up during campaign period vs the same period of previous year.\n",
    "\n",
    "Challenges\n",
    "    Technical\n",
    "    \n",
    "    Non-technical\n",
    "        \n",
    "Interesting Findings:\n",
    "    There are lots of people who don't bother fill out these surveys properly!"
   ]
  },
  {
   "cell_type": "raw",
   "metadata": {},
   "source": [
    "Goal:\n",
    "    Identify which customers to offer an energy consumption device to, given advertising budget constraints.\n",
    "\n",
    "More Context (if required):\n",
    "\n",
    "\n",
    "Impact:\n",
    "    Targeting the top % of the population who were most likely to take up the option\n",
    "    \n",
    "Challenges\n",
    "    Technical\n",
    "    Non-technical\n",
    "\n",
    "Interesting Findings:\n",
    "    Older demographics in the North of England in particular are very averse to new technology!"
   ]
  },
  {
   "cell_type": "code",
   "execution_count": null,
   "metadata": {},
   "outputs": [],
   "source": [
    "Goal:\n",
    "    \n",
    "\n",
    "More Context (if required):\n",
    "\n",
    "\n",
    "Impact:\n",
    "    \n",
    "    \n",
    "Challenges\n",
    "    Technical: Adapating to the Way of Working of a new engineering team.\n",
    "    Non-technical\n",
    "\n",
    "Interesting Findings:\n",
    "    "
   ]
  },
  {
   "cell_type": "raw",
   "metadata": {},
   "source": [
    "Goal:\n",
    "    Identify & improve the inefficiencies within a Data Science squad during their Exploration work\n",
    "\n",
    "More Context (if required):\n",
    "    Built a package to allow easy iterating of all DS related questions for the a particular offering\n",
    "\n",
    "Impact:\n",
    "    \n",
    "\n",
    "Challenges\n",
    "    Technical: I wrote the modules using functional programming, but actually there were some elements of similar (but slightly different bits of code). After the project was complete and once I had taken a step back, it became clear that the project would have benefited from OOP. \n",
    "    \n",
    "    Non-technical: I failed with my judgement of how many hours the project would take, which left me working 14 hour days in the final week to be able to complete it on time! I managed to do so, but putting myself in this situation was not ideal. \n",
    "    \n",
    "A key learning for both of the above, is to take a step back and really think about the scoping & design phase before diving into a project. It would have helped on both counts.   \n",
    "\n",
    "Interesting Findings:\n",
    "    The amount of repeated work due to lack of communication both within & across squads!"
   ]
  },
  {
   "cell_type": "markdown",
   "metadata": {},
   "source": [
    "### Motivations:"
   ]
  },
  {
   "cell_type": "raw",
   "metadata": {},
   "source": [
    "- Why them?\n",
    "    I have been a long standing (and engaged) M&S/Sparks customer - my medium term plan was always to work for a brand where I was actively engaged myself. \n",
    "    \n",
    "- Why this role?\n",
    "    I really like the data driven & digitally shifting direction that the company set out on in 2018, and now would be a fantastic time to join. With the internal educational & development schemes, it's clear that DS is at the forefront of whole business (not just within Data Science), so where better to continue my journey.\n",
    "        \n",
    "- What value does it bring to you in your career development and what can you bring to them too?\n",
    "\n",
    "    I've laid a great foundation in my Data Science & tech skills, within 2 different companies.\n",
    "    \n",
    "    The next step is to apply this experience to a wide variety of Data Science problems. I can bring my judgement & interpersonal skills as well as being colleague who is enjoyable to work with. I view the next 2 years of my career as huge, and I'm motivated, dedicated & ready to go progress to that superstar Data Scientist level.\n",
    "    \n",
    "    What is clear to me from my research about M&S: the mission of a clear career pathway, learning opportiunties and the freedom to explore is not just the PR it can be in some places.\n",
    "    \n",
    "    Long story short, M&S appear to be very single minded in the vision for Data Science, and because of all of the above, it looks to be an excellent fit for what I am looking for!"
   ]
  },
  {
   "cell_type": "markdown",
   "metadata": {},
   "source": [
    "### M&S projects:"
   ]
  },
  {
   "cell_type": "raw",
   "metadata": {},
   "source": [
    "We apply powerful machine learning techniques to seek a variety of problems such as\n",
    "\n",
    "    outfit recommendations in fashion\n",
    "        Content based / collaborative based\n",
    "    \n",
    "    personalised offers for our loyalty program\n",
    "        Customer Lifetime Value\n",
    "        Well-timed and considered gifts\n",
    "    \n",
    "    pricing optimisation\n",
    "        \n",
    "    \n",
    "    demand forecasting for supply chain\n",
    "        RELEX\n",
    "        \n",
    "    \n",
    "    product waste management for retail\n",
    "    \n",
    "    and AI powered campaigns for our marketing\n",
    "\n",
    "The potential for data science spans from:\n",
    "\n",
    "    ‘Plan’: the beginning of the design process for products,\n",
    "    ‘Buy’: through to improved buying and allocation \n",
    "    ‘Move’: into how we operate our stores\n",
    "    ‘Sell’: interact with our customers, which includes our Sparks loyalty programme."
   ]
  },
  {
   "cell_type": "markdown",
   "metadata": {},
   "source": [
    "### Questions:"
   ]
  },
  {
   "cell_type": "raw",
   "metadata": {},
   "source": [
    "1. How would the successful candidate be measured for success in the role?"
   ]
  },
  {
   "cell_type": "raw",
   "metadata": {},
   "source": [
    "2. What do you see as the most pressing challenges in the coming quarter and year? How would the successful candidate play a part in helping you or the business overcome this?"
   ]
  },
  {
   "cell_type": "raw",
   "metadata": {},
   "source": []
  },
  {
   "cell_type": "raw",
   "metadata": {},
   "source": [
    "Already asked:\n",
    "    1. Can I have a whistlestop tour of projects that happened within 2021? And projects planned in for 2022?\n",
    "    3. What do you most enjoy about the company and your role? and how you empower your team to be at their best?"
   ]
  },
  {
   "cell_type": "markdown",
   "metadata": {},
   "source": [
    "### A Strong Close:"
   ]
  },
  {
   "cell_type": "raw",
   "metadata": {},
   "source": [
    "Is there anything I’ve said, or maybe not covered in enough detail for you, which will leave you with any doubt in my ability to do this role successfully?"
   ]
  },
  {
   "cell_type": "markdown",
   "metadata": {},
   "source": [
    "### Key Topics:"
   ]
  },
  {
   "cell_type": "code",
   "execution_count": null,
   "metadata": {},
   "outputs": [],
   "source": [
    "Programming:\n",
    "    Python\n",
    "    SQL"
   ]
  },
  {
   "cell_type": "raw",
   "metadata": {},
   "source": [
    "Traditional Machine Learning:\n",
    "    \n",
    "    Classification\n",
    "        Logistic Regression\n",
    "        SVM\n",
    "        Decision Trees\n",
    "            Random Forest\n",
    "            Ada-Boost\n",
    "            Gradient-Boost\n",
    "            XG-Boost\n",
    "        Naive Bayes\n",
    "        \n",
    "    Regression\n",
    "        Linear Regression\n",
    "        Lasso (L1)\n",
    "        Ridge (L2)\n",
    "        Decision Trees\n",
    "            Random Forest\n",
    "            Ada-Boost\n",
    "            Gradient-Boost\n",
    "            XG-Boost\n",
    "            \n",
    "    Clustering\n",
    "        K-means\n",
    "        Hierachical\n",
    "    PCA"
   ]
  },
  {
   "cell_type": "code",
   "execution_count": null,
   "metadata": {},
   "outputs": [],
   "source": [
    "Statistics:"
   ]
  },
  {
   "cell_type": "raw",
   "metadata": {},
   "source": [
    "Coding Standards & Testing:"
   ]
  },
  {
   "cell_type": "code",
   "execution_count": null,
   "metadata": {},
   "outputs": [],
   "source": [
    "Deployment:"
   ]
  },
  {
   "cell_type": "raw",
   "metadata": {},
   "source": [
    "Time Series:"
   ]
  },
  {
   "cell_type": "raw",
   "metadata": {},
   "source": [
    "A/B Testing:\n",
    "    Choose and characterize metrics to evaluate your experiments, i.e. what do you care about, how do you want to measure the effect\n",
    "    \n",
    "    Choose significance level (alpha), statistical power (1-beta) and practical significance level you really want to launch the change if the test is statistically significant\n",
    "    Calculate required sample size\n",
    "    Take sample for control/treatment groups and run the test\n",
    "    Analyze the results and draw valid conclusions"
   ]
  },
  {
   "cell_type": "code",
   "execution_count": null,
   "metadata": {},
   "outputs": [],
   "source": [
    "Distributed Computing:\n",
    "    Spark\n",
    "    Dask"
   ]
  },
  {
   "cell_type": "code",
   "execution_count": null,
   "metadata": {},
   "outputs": [],
   "source": []
  },
  {
   "cell_type": "code",
   "execution_count": null,
   "metadata": {},
   "outputs": [],
   "source": []
  },
  {
   "cell_type": "markdown",
   "metadata": {},
   "source": [
    "### NOTES:"
   ]
  },
  {
   "cell_type": "raw",
   "metadata": {},
   "source": [
    "Because we are at the start of a journey that will fundamentally change our business, and how our customers shop with us – both today and in the future. \n",
    "\n",
    "In return,\n",
    "    we offer fantastic learning opportunities,\n",
    "    clear career pathways\n",
    "    and the freedom to explore,\n",
    "    be curious and think differently. \n",
    "    \n",
    "M&S is upping its focus on digital skills as it looks to move its business online. It aims to generate a third of its business from online, and as part of that is shutting more than 100 stores over the next four years."
   ]
  },
  {
   "cell_type": "raw",
   "metadata": {},
   "source": [
    "With our brilliant cloud data platform BEAM, which will house all of our tools, analytics & reporting (the cloud); our digital & data learning hub the BEAMAcademy "
   ]
  },
  {
   "cell_type": "raw",
   "metadata": {},
   "source": [
    "The community is dedicated to building end-to-end AI and machine learning solutions in retail and e-commerce. \n",
    "\n",
    "This helps our colleagues in\n",
    "    Food,\n",
    "    Clothing & Home,\n",
    "    Fashion,\n",
    "    Marketing,\n",
    "    Loyalty,\n",
    "    Supply Chain,\n",
    "    Growth \n",
    "    and Customer Services \n",
    "    \n",
    "to drive value from data and build personalised experiences for our customers."
   ]
  },
  {
   "cell_type": "raw",
   "metadata": {},
   "source": [
    "It’s up to us to \n",
    "    create a seamless customer experience,\n",
    "    improve personalisation,\n",
    "    embed digital across our stores and shopping missions. \n",
    "    We’re also focused on revamping our loyalty proposition \n",
    "    and ensure we are at the forefront of the latest innovation and trends.\n",
    "\n",
    "Our fruitful partnerships with\n",
    "    Microsoft \n",
    "    and Founders Factory are a real catalyst for change, \n",
    "    \n",
    "and our fast-paced journey towards becoming a truly digital-first retailer is well underway. And as our roles are embedded into our different business areas, you have the opportunity to working within one of our many exciting business functions, including Food; Clothing and Home; Fashion; Marketing; Loyalty; Supply Chain; Growth or Customer Services, to name a few.\n",
    "\n",
    "If you’re full of ambition, a role model for digital behaviours and ready to champion a culture of data-driven decision making – we want to hear from you and how you will constantly look for ways to improve how we do things."
   ]
  },
  {
   "cell_type": "raw",
   "metadata": {},
   "source": [
    "gathering requirements\n",
    "    what does an output really need to do or show \n",
    "    how quickly does it need to run.\n",
    "\n",
    "I could be analysing a data set\n",
    "    trying to figure out what our high value customers look like \n",
    "    \n",
    "    what their properties are compared to our low value customers.\n",
    "    \n",
    "There’s a lot of speaking to people as well as speaking to computers!”"
   ]
  },
  {
   "cell_type": "markdown",
   "metadata": {},
   "source": [
    "### Our stack and capabilities:"
   ]
  },
  {
   "cell_type": "markdown",
   "metadata": {},
   "source": [
    "### Our stack and capabilities:"
   ]
  },
  {
   "cell_type": "raw",
   "metadata": {},
   "source": [
    "Python data science stack (numpy, scipy, scikit-learn, plotting libraries etc.).\n",
    "\n",
    "SQL to retrieve and manipulate data.\n",
    "\n",
    "Distributed computing tools for large data (spark, dask etc.)\n",
    "\n",
    "A/B testing and other statistical techniques.\n",
    "\n",
    "Deploying ML models into production encompassing coding standards and testing.\n",
    "\n",
    "Innovate and conceptualise new applications for Data Science within M&S."
   ]
  },
  {
   "cell_type": "markdown",
   "metadata": {},
   "source": [
    "### Questions"
   ]
  },
  {
   "cell_type": "raw",
   "metadata": {},
   "source": [
    "The supermarket has been training colleagues on use of data since 2018, when it launched a data analyst apprenticeship programme. This was followed by a data technician course, aimed at “driving data literacy across the organisation”.\n",
    "\n",
    "\n",
    "Ten colleagues last week began a 15-month course that will provide them with ‘advanced level 7 status’ in the subject, equivalent to a master’s degree"
   ]
  },
  {
   "cell_type": "code",
   "execution_count": null,
   "metadata": {},
   "outputs": [],
   "source": []
  },
  {
   "cell_type": "raw",
   "metadata": {},
   "source": [
    "Below I've put together some tips for you, as well as some general best-practice ideas you won’t necessarily find through Google:\n",
    "\n",
    "Research the company, its products/services and your interviewers.\n",
    "You will likely be asked some questions about what you've found out about them and the company. So I'd recommend researching their product offering as well as target customers. Likely within this piece, they will be interested to know why you're interested in this role and them as an employer.\n",
    "I'd be specific when answering this - so many times people get asked this kind of question and give a generic 'because it's a great brand' type response. In many instances, this shows someone hasn't really thought about it properly.\n",
    "\n",
    "- Why them?\n",
    "- Why this role?\n",
    "- What value does it bring to you in your career development and what can you bring to them too?\n",
    "\n",
    "In reality, this simple question is a two-way street. You should get something from the job, and you should be able to show what you bring to the role which you know they will see as valuable and useful too.\n",
    "\n",
    "Competency Questions:\n",
    "Google is a great resource for helping you with this – so if you’ve not experienced these types of questions before. Have a quick look to see the types of questions that might arise and what they’re typically probing for. Also, look up the STAR method for guidance on how to structure answers, and avoid waffling or going off-topic.\n",
    "One tip you won’t typically find, but is important, is to not over-use the same example to answer multiple competencies. If you rely too heavily on one example to cover multiple scenarios, it gives an impression of experience being quite thin. So ensure you show variety.\n",
    "\n",
    "That said, if you have to reuse one, I'd caveat a response by saying it's the best one to demonstrate the competence they're looking for. But then explain you have a second, it's just not as good.\n",
    "Negative questions like - \"example a time when you've failed to achieve something\". They're looking for one or two things:\n",
    "\n",
    "- You failed because you were pushing the envelope, going outside your comfort zone and trying something different. This shows character, and a willingness to get involved. Not always playing it too safe.\n",
    "- You tried, you failed, you learnt something from it. In your response, you should show how you took that learning and applied it going forward and made it a success next time. This shows growth.\n",
    "\n",
    "You'll see with both of these you're demonstrating positive traits to a negative question. You can also use and demonstrate both aspects in one response.\n",
    "When you get a negative question thrown at you think 'what are they really looking for with this?' and position your answers to show this, putting a positive spin into it.\n",
    "\n",
    "Wrapping up\n",
    "Towards the end, you're likely to be asked something like 'do you have any questions for me?'. Responding with 'no, I think you've covered everything' is typically not a good response.\n",
    "\n",
    "I'd recommend something which may be out of the typical, as some of these:\n",
    "\n",
    "- Can you tell me some of the things the firm put in place to support its employees during these challenging periods with Covid.\n",
    "(great to give you an idea of how good an employer's been with its people)\n",
    "- What do you see as the most pressing challenges in the coming quarter and year? How would I, if successful, be playing a part in helping you or the business overcome this?\n",
    "- How would I be measured for my success in the role? Are there any KPI's you're able to share?\n",
    "- What do you love most about the company and your role? How have they helped you develop and grow over your time here?\n",
    "\n",
    "A strong close\n",
    "Don’t leave your interviewers with unanswered questions or doubts. So be sure to ask them ‘Is there anything I’ve said, or maybe not covered in enough detail for you, which will leave you with any doubt in my ability to do this role successfully?’\n",
    "Better to get their alarm bells out whilst you’re there, able to answer them than leave them with any doubts post-interview.\n",
    "\n",
    "I hope this helps - if there's any other guidance I can provide, please let me know."
   ]
  }
 ],
 "metadata": {
  "environment": {
   "name": "common-cpu.m61",
   "type": "gcloud",
   "uri": "gcr.io/deeplearning-platform-release/base-cpu:m61"
  },
  "kernelspec": {
   "display_name": "Python 3",
   "language": "python",
   "name": "python3"
  },
  "language_info": {
   "codemirror_mode": {
    "name": "ipython",
    "version": 3
   },
   "file_extension": ".py",
   "mimetype": "text/x-python",
   "name": "python",
   "nbconvert_exporter": "python",
   "pygments_lexer": "ipython3",
   "version": "3.7.9"
  }
 },
 "nbformat": 4,
 "nbformat_minor": 4
}
