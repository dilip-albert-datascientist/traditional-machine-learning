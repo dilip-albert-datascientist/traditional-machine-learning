{
 "cells": [
  {
   "cell_type": "raw",
   "metadata": {},
   "source": [
    "Cloud Cycle\n",
    "\n",
    "Cloud Box \n",
    "    - IoT device\n",
    "\n",
    "The Platform\n",
    "    - Deliver relevant insight to business using ML technology\n",
    "\n",
    "Real-time Dashboard\n",
    "    - Dashboard with all live information from your trucks, routes, plants or sites"
   ]
  },
  {
   "cell_type": "code",
   "execution_count": null,
   "metadata": {},
   "outputs": [],
   "source": []
  },
  {
   "cell_type": "code",
   "execution_count": null,
   "metadata": {},
   "outputs": [],
   "source": [
    "Newron is deployed to GCP using Kubernetes, \n",
    "upon merging to master the CI will produce a Docker image tagged with the commit hash and stored in the container registry.\n",
    "Upon release the release manager will choose the commit hash corresponding to the image which will be deployed to the target environment."
   ]
  },
  {
   "cell_type": "code",
   "execution_count": null,
   "metadata": {},
   "outputs": [],
   "source": [
    "GFK\n",
    "\n",
    "Walnut squad (Exploration)\n",
    "    - Topics: Distribution & Brand\n",
    "    - Tech/tooling: GCP, Jupyter, Python, SQL\n",
    "    - Working with Data Scientists & MLEs\n",
    "    - Answering research questions in terms of feasibility and results \n",
    "    - Presenting: To stakeholders to gather feedback and formulate next steps\n",
    "        \n",
    "Brand E2E (End-2-End)\n",
    "    - Topic: Brand\n",
    "    - Tech/tooling: Pycharm, Git, Virtual Environments\n",
    "    - Working in a cross functional team Product, Engineering & Design\n",
    "        \n",
    "Scorpius (End-2-End)\n",
    "    - Topic: Recommendations & Alerts\n",
    "    - Tech/tooling: As mentioned previously\n",
    "    - Alongside Product & Engineering, developing & implementing recommendations & alerts for clients. \n",
    "           \n",
    "Serpens (Delivery)\n",
    "    - Topics: Pricing & Competitors\n",
    "    - Tech/tooling: CI/CD, Unit Testing, Docker, Product-Level Code\n",
    "    - Close to production, solving problems for the customer\n",
    "    - Continue working in a cross functional team closely with both BE & FE Engineers"
   ]
  },
  {
   "cell_type": "code",
   "execution_count": null,
   "metadata": {},
   "outputs": [],
   "source": [
    "My current day to day & WoW\n",
    "    - Feature request, tech debt, bugfix\n",
    "    - Clone repo, create feature branch\n",
    "    - Open MR striaght away in draft mode\n",
    "    - Make updates to sql queries & codebase etc.\n",
    "    - run tests locally and add any additional tests\n",
    "    - Commit and push to gitlab\n",
    "    - CI/CD runs: Test & Build\n",
    "    - Gather code review comments on MR and resolve threads one by one\n",
    "    - "
   ]
  },
  {
   "cell_type": "raw",
   "metadata": {},
   "source": [
    "Reasons for leaving:\n",
    "    I have been moved teams a few times due to changing priorities and people leaving.\n",
    "    \n",
    "    Lots of silos between teams so I am looking to work in a more close knit and consistent team.\n",
    "    \n",
    "    Lopsided structure to Global Data Science. 2 Principle Data Scientists, 4 Senior Data Scientists and about 30 Data Scientists. We have been informed that all Senior Data Scientist positions are saturated and it would need people to leave for a position to be open.\n",
    "\n",
    "    I have all this machine learning knowledge (which I practice and improve consistently) and I would like to use in my day to day. We are a few years from getting to that at Gfk due to the huge size of the project and the need to get the fundamental insights in place first."
   ]
  },
  {
   "cell_type": "code",
   "execution_count": null,
   "metadata": {},
   "outputs": [],
   "source": []
  },
  {
   "cell_type": "code",
   "execution_count": null,
   "metadata": {},
   "outputs": [],
   "source": [
    "Python \n",
    "Jupyter \n",
    "SQL \n",
    "GCP \n",
    "Git\n",
    "Pycharm \n",
    "Machine Learning\n",
    "Virtual Environments \n",
    "Agile\n",
    "CI/CD \n",
    "Unit Testing \n",
    "TDD \n",
    "Docker\n",
    "Production-Level Code \n",
    "Airflow \n",
    "CLI\n",
    "MLflow\n",
    "NoSQL \n",
    "Tensorflow \n",
    "Keras"
   ]
  }
 ],
 "metadata": {
  "environment": {
   "name": "common-cpu.m61",
   "type": "gcloud",
   "uri": "gcr.io/deeplearning-platform-release/base-cpu:m61"
  },
  "kernelspec": {
   "display_name": "Python 3",
   "language": "python",
   "name": "python3"
  },
  "language_info": {
   "codemirror_mode": {
    "name": "ipython",
    "version": 3
   },
   "file_extension": ".py",
   "mimetype": "text/x-python",
   "name": "python",
   "nbconvert_exporter": "python",
   "pygments_lexer": "ipython3",
   "version": "3.7.9"
  }
 },
 "nbformat": 4,
 "nbformat_minor": 4
}
