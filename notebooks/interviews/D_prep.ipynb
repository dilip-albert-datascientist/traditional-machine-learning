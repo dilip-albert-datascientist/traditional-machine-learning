{
 "cells": [
  {
   "cell_type": "raw",
   "metadata": {},
   "source": [
    "All these algos are micro-services written in Python:\n",
    "\n",
    "    that read/consume sales data from the Postgres database.\n",
    "\n",
    "Each algo is deployed as an HTTP service:\n",
    "\n",
    "    that receives requests,\n",
    "    reads the necessary data from the database,\n",
    "    performs the calculations,\n",
    "    and returns a JSON response to the client."
   ]
  },
  {
   "cell_type": "raw",
   "metadata": {},
   "source": [
    "All algos are written in Python:\n",
    "\n",
    "    using Pandas for calculations \n",
    "    psycopg2 for interaction with the database\n",
    "    Flask as the web framework\n",
    "    and Gunicorn as a WSGI server"
   ]
  },
  {
   "cell_type": "raw",
   "metadata": {},
   "source": [
    "Newron is deployed to GCP using Kubernetes:\n",
    "\n",
    "    upon merging to master the CI will produce a Docker image tagged with the commit hash\n",
    "    and stored in the container registry.\n",
    "    \n",
    "    Upon release the release manager will choose the commit hash corresponding to the image\n",
    "    which will be deployed to the target environment."
   ]
  },
  {
   "cell_type": "raw",
   "metadata": {},
   "source": []
  },
  {
   "cell_type": "raw",
   "metadata": {},
   "source": [
    "You’ll be:\n",
    "\n",
    "Performing: \n",
    "    analyses \n",
    "    and building solutions to deliver insights for operational decisions.\n",
    "\n",
    "Conducting: \n",
    "    hands-on modelling/advanced analytics retrieving,\n",
    "    compiling,\n",
    "    and analysing large volumes of data \n",
    "    into distilled, actionable information needed to answer critical questions.\n",
    "    \n",
    "Maintaining and improving algorithmic capabilities in areas such as:\n",
    "    price optimisation,\n",
    "    inventory management \n",
    "    and performance analysis.\n",
    "    \n",
    "Defining, building, and deploying algorithmic capabilities that span multiple functions within the business.\n",
    "\n",
    "Reporting and communicating about the results and uses of your analysis and solutions."
   ]
  },
  {
   "cell_type": "raw",
   "metadata": {},
   "source": [
    "You’ll need:\n",
    "\n",
    "A deep understanding of business processes, and have experience working with people with different backgrounds, priorities, and responsibilities.\n",
    "\n",
    "Commitment to develop subject matter expertise on company data and ability to develop analyses to drive actionable insights\n",
    "\n",
    "The ability to explain complex concepts well and move decisions forward in collaboration with your business partners.\n",
    "\n",
    "Experience with writing code in production environments in either python or R.\n",
    "\n",
    "Proficient with SQL and ability to navigate large and complex data stores.\n",
    "\n",
    "To be an extraordinary team player and ability to thrive in a fast paced, high growth, entrepreneurial environment where quality, innovation, speed of decision making and execution are critical to organizational success\n",
    "\n",
    "Commitment to develop subject matter expertise on company data and ability to develop analyses to drive actionable insights"
   ]
  },
  {
   "cell_type": "code",
   "execution_count": null,
   "metadata": {},
   "outputs": [],
   "source": [
    "Experienced in applying a broad range of data science techniques,\n",
    "    including data manipulation,\n",
    "    visualisation,\n",
    "    package development,\n",
    "    machine learning algorithms,\n",
    "    NLP, \n",
    "    Shiny / Dash,\n",
    "    deep learning,\n",
    "    reinforcement learning \n",
    "\n"
   ]
  }
 ],
 "metadata": {
  "environment": {
   "name": "common-cpu.m61",
   "type": "gcloud",
   "uri": "gcr.io/deeplearning-platform-release/base-cpu:m61"
  },
  "kernelspec": {
   "display_name": "Python 3",
   "language": "python",
   "name": "python3"
  },
  "language_info": {
   "codemirror_mode": {
    "name": "ipython",
    "version": 3
   },
   "file_extension": ".py",
   "mimetype": "text/x-python",
   "name": "python",
   "nbconvert_exporter": "python",
   "pygments_lexer": "ipython3",
   "version": "3.7.9"
  }
 },
 "nbformat": 4,
 "nbformat_minor": 4
}
