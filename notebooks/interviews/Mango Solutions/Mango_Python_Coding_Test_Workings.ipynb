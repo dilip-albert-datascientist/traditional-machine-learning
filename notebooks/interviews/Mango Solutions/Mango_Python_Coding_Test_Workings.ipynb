{
 "cells": [
  {
   "cell_type": "code",
   "execution_count": 4,
   "metadata": {},
   "outputs": [],
   "source": [
    "#enabling all executed lines within cell to be viewed not only the most recent\n",
    "from IPython.core.interactiveshell import InteractiveShell\n",
    "InteractiveShell.ast_node_interactivity = \"all\""
   ]
  },
  {
   "cell_type": "code",
   "execution_count": 6,
   "metadata": {},
   "outputs": [
    {
     "data": {
      "text/plain": [
       "pandas.core.frame.DataFrame"
      ]
     },
     "execution_count": 6,
     "metadata": {},
     "output_type": "execute_result"
    },
    {
     "name": "stdout",
     "output_type": "stream",
     "text": [
      "Number rows and columns in free throws dataset: (618019, 11)\n"
     ]
    },
    {
     "data": {
      "text/plain": [
       "array(['end_result', 'game', 'game_id', 'period', 'play', 'player',\n",
       "       'playoffs', 'score', 'season', 'shot_made', 'time'], dtype=object)"
      ]
     },
     "execution_count": 6,
     "metadata": {},
     "output_type": "execute_result"
    },
    {
     "data": {
      "text/html": [
       "<div>\n",
       "<style scoped>\n",
       "    .dataframe tbody tr th:only-of-type {\n",
       "        vertical-align: middle;\n",
       "    }\n",
       "\n",
       "    .dataframe tbody tr th {\n",
       "        vertical-align: top;\n",
       "    }\n",
       "\n",
       "    .dataframe thead th {\n",
       "        text-align: right;\n",
       "    }\n",
       "</style>\n",
       "<table border=\"1\" class=\"dataframe\">\n",
       "  <thead>\n",
       "    <tr style=\"text-align: right;\">\n",
       "      <th></th>\n",
       "      <th>end_result</th>\n",
       "      <th>game</th>\n",
       "      <th>game_id</th>\n",
       "      <th>period</th>\n",
       "      <th>play</th>\n",
       "      <th>player</th>\n",
       "      <th>playoffs</th>\n",
       "      <th>score</th>\n",
       "      <th>season</th>\n",
       "      <th>shot_made</th>\n",
       "      <th>time</th>\n",
       "    </tr>\n",
       "  </thead>\n",
       "  <tbody>\n",
       "    <tr>\n",
       "      <th>0</th>\n",
       "      <td>106 - 114</td>\n",
       "      <td>PHX - LAL</td>\n",
       "      <td>261031013.0</td>\n",
       "      <td>1.0</td>\n",
       "      <td>Andrew Bynum makes free throw 1 of 2</td>\n",
       "      <td>Andrew Bynum</td>\n",
       "      <td>regular</td>\n",
       "      <td>0 - 1</td>\n",
       "      <td>2006 - 2007</td>\n",
       "      <td>1</td>\n",
       "      <td>11:45</td>\n",
       "    </tr>\n",
       "    <tr>\n",
       "      <th>1</th>\n",
       "      <td>106 - 114</td>\n",
       "      <td>PHX - LAL</td>\n",
       "      <td>261031013.0</td>\n",
       "      <td>1.0</td>\n",
       "      <td>Andrew Bynum makes free throw 2 of 2</td>\n",
       "      <td>Andrew Bynum</td>\n",
       "      <td>regular</td>\n",
       "      <td>0 - 2</td>\n",
       "      <td>2006 - 2007</td>\n",
       "      <td>1</td>\n",
       "      <td>11:45</td>\n",
       "    </tr>\n",
       "    <tr>\n",
       "      <th>2</th>\n",
       "      <td>106 - 114</td>\n",
       "      <td>PHX - LAL</td>\n",
       "      <td>261031013.0</td>\n",
       "      <td>1.0</td>\n",
       "      <td>Andrew Bynum makes free throw 1 of 2</td>\n",
       "      <td>Andrew Bynum</td>\n",
       "      <td>regular</td>\n",
       "      <td>18 - 12</td>\n",
       "      <td>2006 - 2007</td>\n",
       "      <td>1</td>\n",
       "      <td>7:26</td>\n",
       "    </tr>\n",
       "    <tr>\n",
       "      <th>3</th>\n",
       "      <td>106 - 114</td>\n",
       "      <td>PHX - LAL</td>\n",
       "      <td>261031013.0</td>\n",
       "      <td>1.0</td>\n",
       "      <td>Andrew Bynum misses free throw 2 of 2</td>\n",
       "      <td>Andrew Bynum</td>\n",
       "      <td>regular</td>\n",
       "      <td>18 - 12</td>\n",
       "      <td>2006 - 2007</td>\n",
       "      <td>0</td>\n",
       "      <td>7:26</td>\n",
       "    </tr>\n",
       "    <tr>\n",
       "      <th>4</th>\n",
       "      <td>106 - 114</td>\n",
       "      <td>PHX - LAL</td>\n",
       "      <td>261031013.0</td>\n",
       "      <td>1.0</td>\n",
       "      <td>Shawn Marion makes free throw 1 of 1</td>\n",
       "      <td>Shawn Marion</td>\n",
       "      <td>regular</td>\n",
       "      <td>21 - 12</td>\n",
       "      <td>2006 - 2007</td>\n",
       "      <td>1</td>\n",
       "      <td>7:18</td>\n",
       "    </tr>\n",
       "  </tbody>\n",
       "</table>\n",
       "</div>"
      ],
      "text/plain": [
       "  end_result       game      game_id  period  \\\n",
       "0  106 - 114  PHX - LAL  261031013.0     1.0   \n",
       "1  106 - 114  PHX - LAL  261031013.0     1.0   \n",
       "2  106 - 114  PHX - LAL  261031013.0     1.0   \n",
       "3  106 - 114  PHX - LAL  261031013.0     1.0   \n",
       "4  106 - 114  PHX - LAL  261031013.0     1.0   \n",
       "\n",
       "                                    play        player playoffs    score  \\\n",
       "0   Andrew Bynum makes free throw 1 of 2  Andrew Bynum  regular    0 - 1   \n",
       "1   Andrew Bynum makes free throw 2 of 2  Andrew Bynum  regular    0 - 2   \n",
       "2   Andrew Bynum makes free throw 1 of 2  Andrew Bynum  regular  18 - 12   \n",
       "3  Andrew Bynum misses free throw 2 of 2  Andrew Bynum  regular  18 - 12   \n",
       "4   Shawn Marion makes free throw 1 of 1  Shawn Marion  regular  21 - 12   \n",
       "\n",
       "        season  shot_made   time  \n",
       "0  2006 - 2007          1  11:45  \n",
       "1  2006 - 2007          1  11:45  \n",
       "2  2006 - 2007          1   7:26  \n",
       "3  2006 - 2007          0   7:26  \n",
       "4  2006 - 2007          1   7:18  "
      ]
     },
     "execution_count": 6,
     "metadata": {},
     "output_type": "execute_result"
    },
    {
     "name": "stdout",
     "output_type": "stream",
     "text": [
      "<class 'pandas.core.frame.DataFrame'>\n",
      "RangeIndex: 618019 entries, 0 to 618018\n",
      "Data columns (total 11 columns):\n",
      "end_result    618019 non-null object\n",
      "game          618019 non-null object\n",
      "game_id       618019 non-null float64\n",
      "period        618019 non-null float64\n",
      "play          618019 non-null object\n",
      "player        618019 non-null object\n",
      "playoffs      618019 non-null object\n",
      "score         618019 non-null object\n",
      "season        618019 non-null object\n",
      "shot_made     618019 non-null int64\n",
      "time          618019 non-null object\n",
      "dtypes: float64(2), int64(1), object(8)\n",
      "memory usage: 51.9+ MB\n"
     ]
    }
   ],
   "source": [
    "### DATA ANALYSIS ###\n",
    "\n",
    "#Read in the csv containing NBA free throws. \n",
    "\n",
    "#import libraries required\n",
    "import numpy as np\n",
    "import pandas as pd\n",
    "\n",
    "free_throws = pd.read_csv(\"free_throws.csv\", header = 0, sep = ',')\n",
    "\n",
    "#check object type of train and test\n",
    "type(free_throws)\n",
    "\n",
    "#print shape\n",
    "print('Number rows and columns in free throws dataset:',free_throws.shape)\n",
    "\n",
    "#list of all features\n",
    "free_throws.columns.values\n",
    "\n",
    "#view top rows\n",
    "free_throws.head()\n",
    "\n",
    "#summary of data\n",
    "free_throws.info()\n"
   ]
  },
  {
   "cell_type": "code",
   "execution_count": 162,
   "metadata": {},
   "outputs": [
    {
     "data": {
      "text/plain": [
       "131.94623655913978"
      ]
     },
     "execution_count": 162,
     "metadata": {},
     "output_type": "execute_result"
    },
    {
     "data": {
      "text/plain": [
       "89.0"
      ]
     },
     "execution_count": 162,
     "metadata": {},
     "output_type": "execute_result"
    },
    {
     "data": {
      "text/plain": [
       "pandas.core.frame.DataFrame"
      ]
     },
     "execution_count": 162,
     "metadata": {},
     "output_type": "execute_result"
    },
    {
     "name": "stdout",
     "output_type": "stream",
     "text": [
      "<class 'pandas.core.frame.DataFrame'>\n",
      "Int64Index: 30 entries, 322 to 139\n",
      "Data columns (total 5 columns):\n",
      "season        30 non-null object\n",
      "player        30 non-null object\n",
      "sum           30 non-null int64\n",
      "count         30 non-null int64\n",
      "successful    30 non-null float64\n",
      "dtypes: float64(1), int64(2), object(2)\n",
      "memory usage: 1.4+ KB\n"
     ]
    },
    {
     "data": {
      "text/html": [
       "<div>\n",
       "<style scoped>\n",
       "    .dataframe tbody tr th:only-of-type {\n",
       "        vertical-align: middle;\n",
       "    }\n",
       "\n",
       "    .dataframe tbody tr th {\n",
       "        vertical-align: top;\n",
       "    }\n",
       "\n",
       "    .dataframe thead th {\n",
       "        text-align: right;\n",
       "    }\n",
       "</style>\n",
       "<table border=\"1\" class=\"dataframe\">\n",
       "  <thead>\n",
       "    <tr style=\"text-align: right;\">\n",
       "      <th></th>\n",
       "      <th>season</th>\n",
       "      <th>player</th>\n",
       "      <th>sum</th>\n",
       "      <th>count</th>\n",
       "      <th>successful</th>\n",
       "    </tr>\n",
       "  </thead>\n",
       "  <tbody>\n",
       "    <tr>\n",
       "      <th>322</th>\n",
       "      <td>2015 - 2016</td>\n",
       "      <td>Stephen Curry</td>\n",
       "      <td>439</td>\n",
       "      <td>483</td>\n",
       "      <td>0.908903</td>\n",
       "    </tr>\n",
       "    <tr>\n",
       "      <th>93</th>\n",
       "      <td>2015 - 2016</td>\n",
       "      <td>Jamal Crawford</td>\n",
       "      <td>267</td>\n",
       "      <td>296</td>\n",
       "      <td>0.902027</td>\n",
       "    </tr>\n",
       "    <tr>\n",
       "      <th>224</th>\n",
       "      <td>2015 - 2016</td>\n",
       "      <td>Chris Paul</td>\n",
       "      <td>309</td>\n",
       "      <td>343</td>\n",
       "      <td>0.900875</td>\n",
       "    </tr>\n",
       "    <tr>\n",
       "      <th>407</th>\n",
       "      <td>2015 - 2016</td>\n",
       "      <td>Kevin Durant</td>\n",
       "      <td>577</td>\n",
       "      <td>644</td>\n",
       "      <td>0.895963</td>\n",
       "    </tr>\n",
       "    <tr>\n",
       "      <th>32</th>\n",
       "      <td>2015 - 2016</td>\n",
       "      <td>Dirk Nowitzki</td>\n",
       "      <td>266</td>\n",
       "      <td>297</td>\n",
       "      <td>0.895623</td>\n",
       "    </tr>\n",
       "  </tbody>\n",
       "</table>\n",
       "</div>"
      ],
      "text/plain": [
       "          season          player  sum  count  successful\n",
       "322  2015 - 2016   Stephen Curry  439    483    0.908903\n",
       "93   2015 - 2016  Jamal Crawford  267    296    0.902027\n",
       "224  2015 - 2016      Chris Paul  309    343    0.900875\n",
       "407  2015 - 2016    Kevin Durant  577    644    0.895963\n",
       "32   2015 - 2016   Dirk Nowitzki  266    297    0.895623"
      ]
     },
     "execution_count": 162,
     "metadata": {},
     "output_type": "execute_result"
    },
    {
     "data": {
      "text/plain": [
       "<matplotlib.axes._subplots.AxesSubplot at 0x1a43b8f908>"
      ]
     },
     "execution_count": 162,
     "metadata": {},
     "output_type": "execute_result"
    },
    {
     "data": {
      "text/plain": [
       "<matplotlib.axes._subplots.AxesSubplot at 0x1a43b8f908>"
      ]
     },
     "execution_count": 162,
     "metadata": {},
     "output_type": "execute_result"
    },
    {
     "data": {
      "text/plain": [
       "<matplotlib.legend.Legend at 0x1a43b97f98>"
      ]
     },
     "execution_count": 162,
     "metadata": {},
     "output_type": "execute_result"
    },
    {
     "data": {
      "text/plain": [
       "[Text(0,0.5,'Player'),\n",
       " Text(0.5,0,'2015-2016 Free Throws'),\n",
       " Text(0.5,1,'Top 30 Players Ordered by Successful Free Throw % (min 132 throws during 2015-2016 season)')]"
      ]
     },
     "execution_count": 162,
     "metadata": {},
     "output_type": "execute_result"
    },
    {
     "data": {
      "image/png": "[encoded data removed]",
      "text/plain": [
       "<Figure size 432x1080 with 1 Axes>"
      ]
     },
     "metadata": {},
     "output_type": "display_data"
    }
   ],
   "source": [
    "### DATA ANALYSIS ###\n",
    "\n",
    "#Visualise some aspect of the data you find interesting, \n",
    "#e.g., the average number of free throws per period for the regular season and the playoffs.\n",
    "\n",
    "import matplotlib.pyplot as plt\n",
    "import seaborn as sns\n",
    "sns.set()\n",
    "\n",
    "#data to use for plotting\n",
    "top_n = 30\n",
    "season = '2015 - 2016'\n",
    "\n",
    "#create total and successful free throws by season and player\n",
    "free_throws_v1 = free_throws.groupby(['season','player'])['shot_made'].agg(['sum','count']).sort_values('season', ascending=False).reset_index()\n",
    "#create successful free throw percentage\n",
    "free_throws_v1['successful'] = free_throws_v1['sum'] / free_throws_v1['count']\n",
    "\n",
    "#check summary stats\n",
    "free_throws_2016 = free_throws_v1.loc[(free_throws_v1['season'] == season)]\n",
    "mean_throws = free_throws_2016['count'].mean()\n",
    "median_throws = free_throws_2016['count'].median()\n",
    "mean_throws\n",
    "median_throws\n",
    "\n",
    "#create final data for plotting\n",
    "free_throws_summary = free_throws_v1.loc[(free_throws_v1['season'] == season) & (free_throws_v1['count'] > mean_throws)].sort_values('successful', ascending=False)\n",
    "free_throws_summary = free_throws_summary.head(top_n)\n",
    "\n",
    "type(free_throws_summary)\n",
    "free_throws_summary.info()\n",
    "free_throws_summary.head()\n",
    "\n",
    "# Initialize the matplotlib figure\n",
    "f, ax = plt.subplots(figsize=(6, 15))\n",
    "\n",
    "# Plot the total free throws by player\n",
    "sns.set_color_codes(\"pastel\")\n",
    "sns.barplot(x=\"count\", y=\"player\", data=free_throws_summary,\n",
    "            label=\"Total Free Throws\", color=\"b\")\n",
    "\n",
    "# Plot the total free throws by player\n",
    "sns.set_color_codes(\"muted\")\n",
    "sns.barplot(x=\"sum\", y=\"player\", data=free_throws_summary,\n",
    "            label=\"Successful Free Throws\", color=\"b\")\n",
    "\n",
    "# Add a legend and informative axis label\n",
    "ax.legend(ncol=2, loc=\"lower right\", frameon=True)\n",
    "ax.set(title = \"Top 30 Players Ordered by Successful Free Throw % (min 132 throws during 2015-2016 season)\",\n",
    "       ylabel=\"Player\",\n",
    "       xlabel=\"2015-2016 Free Throws\")\n",
    "sns.despine(left=True, bottom=True)"
   ]
  },
  {
   "cell_type": "code",
   "execution_count": 3,
   "metadata": {},
   "outputs": [],
   "source": [
    "### PROGRAMMING ###\n",
    "## Functions ##\n",
    "\n",
    "#Write a function that will draw random numbers from a given distribution.\n",
    "#The function should take one argument for the number of samples \n",
    "#and a second argument which specifies the distribution (Normal, Poisson or Binomial). \n",
    "#The function should be able to handle additional parameters depending on the distribution chosen,\n",
    "#e.g., mean and sd for Normal samples.\n",
    "\n",
    "import numpy as np\n",
    "import random\n",
    "from scipy.stats import norm\n",
    "from scipy.stats import poisson\n",
    "from scipy.stats import binom\n",
    "\n",
    "def sample_distribution_func(samples, distribution, mean=0, sd=1, mu=3, n=10, p=0.5):\n",
    "    \"\"\"This function will draw random numbers from a given distribution (Normal, Poisson, Binomial).\n",
    "        \n",
    "        It takes one argument for the number of samples and a second argument which specifies the\n",
    "        distribution (Normal, Poisson or Binomial). \n",
    "        \n",
    "        The function can also handle additional parameters depending on the distribution chosen\"\"\"\n",
    "    \n",
    "    f_sampled_distribution = np.zeros(shape=[0, 1])\n",
    "    \n",
    "    if distribution == \"Normal\":\n",
    "        f_sampled_distribution = norm.rvs(size=samples, loc=mean, scale=sd)\n",
    "        print (samples, \"samples of a\", distribution, \"distribution with parameter values of mean =\", mean, \"and sd =\", sd)\n",
    "        return f_sampled_distribution\n",
    "    elif distribution == \"Poisson\":\n",
    "        f_sampled_distribution = poisson.rvs(size=samples, mu=mu)\n",
    "        print (samples, \"samples of a\", distribution, \"distribution with a parameter value of mu =\", mu)\n",
    "        return f_sampled_distribution\n",
    "    elif distribution == \"Binomial\":\n",
    "        f_sampled_distribution = binom.rvs(size=samples, n=n, p=p)\n",
    "        print (samples, \"samples of a\", distribution, \"distribution with parameter values of n =\", n, \"and p =\", p)\n",
    "        return f_sampled_distribution\n",
    "    else:\n",
    "        print('ERROR!:', distribution, \"distribution is not defined within function\")\n",
    "        return f_sampled_distribution"
   ]
  },
  {
   "cell_type": "code",
   "execution_count": 4,
   "metadata": {},
   "outputs": [],
   "source": [
    "### PROGRAMMING ###\n",
    "\n",
    "## Functions ##\n",
    "\n",
    "#Write a function that will draw random numbers from a given distribution.\n",
    "#The function should take one argument for the number of samples \n",
    "#and a second argument which specifies the distribution (Normal, Poisson or Binomial). \n",
    "#The function should be able to handle additional parameters depending on the distribution chosen,\n",
    "#e.g., mean and sd for Normal samples.\n",
    "\n",
    "import numpy as np\n",
    "import random\n",
    "from scipy.stats import norm\n",
    "from scipy.stats import poisson\n",
    "from scipy.stats import binom\n",
    "\n",
    "def sample_distribution_func(samples, distribution, **params):\n",
    "    \"\"\"This function will draw random numbers from a given distribution (Normal, Poisson, Binomial).\n",
    "        \n",
    "        It takes one argument for the number of samples and a second argument which specifies the\n",
    "        distribution (Normal, Poisson or Binomial). \n",
    "        \n",
    "        The function can also handle additional parameters depending on the distribution chosen\"\"\"\n",
    "    \n",
    "    f_sampled_distribution = np.zeros(shape=[0, 1])\n",
    "    \n",
    "    if distribution == \"Normal\":\n",
    "        f_sampled_distribution = norm.rvs(size=samples, loc=params['mean'], scale=params['sd'])\n",
    "        print (samples, \"samples of a\", distribution, \"distribution with parameter values of mean =\", params['mean'], \"and sd =\", params['sd'])\n",
    "        return f_sampled_distribution\n",
    "    elif distribution == \"Poisson\":\n",
    "        f_sampled_distribution = poisson.rvs(size=samples, mu=params['mu'])\n",
    "        print (samples, \"samples of a\", distribution, \"distribution with a parameter value of mu =\", params['mu'])\n",
    "        return f_sampled_distribution\n",
    "    elif distribution == \"Binomial\":\n",
    "        f_sampled_distribution = binom.rvs(size=samples, n=params['n'], p=params['p'])\n",
    "        print (samples, \"samples of a\", distribution, \"distribution with parameter values of n =\", params['n'], \"and p =\", params['p'])\n",
    "        return f_sampled_distribution\n",
    "    else:\n",
    "        print('ERROR!:', distribution, \"distribution is not defined within function\")\n",
    "        return f_sampled_distribution"
   ]
  },
  {
   "cell_type": "code",
   "execution_count": 5,
   "metadata": {},
   "outputs": [
    {
     "name": "stdout",
     "output_type": "stream",
     "text": [
      "Help on function sample_distribution_func in module __main__:\n",
      "\n",
      "sample_distribution_func(samples, distribution, **params)\n",
      "    This function will draw random numbers from a given distribution (Normal, Poisson, Binomial).\n",
      "    \n",
      "    It takes one argument for the number of samples and a second argument which specifies the\n",
      "    distribution (Normal, Poisson or Binomial). \n",
      "    \n",
      "    The function can also handle additional parameters depending on the distribution chosen\n",
      "\n",
      "10000 samples of a Normal distribution with parameter values of mean = 0 and sd = 1\n"
     ]
    },
    {
     "name": "stderr",
     "output_type": "stream",
     "text": [
      "/anaconda3/lib/python3.6/site-packages/matplotlib/axes/_axes.py:6462: UserWarning: The 'normed' kwarg is deprecated, and has been replaced by the 'density' kwarg.\n",
      "  warnings.warn(\"The 'normed' kwarg is deprecated, and has been \"\n"
     ]
    },
    {
     "data": {
      "text/plain": [
       "[Text(0,0.5,'Frequency'), Text(0.5,0,'Normal')]"
      ]
     },
     "execution_count": 5,
     "metadata": {},
     "output_type": "execute_result"
    },
    {
     "data": {
      "image/png": "[encoded data removed]",
      "text/plain": [
       "<Figure size 432x288 with 1 Axes>"
      ]
     },
     "metadata": {},
     "output_type": "display_data"
    }
   ],
   "source": [
    "### PROGRAMMING ###\n",
    "## Functions ##\n",
    "\n",
    "#select sample size and distribution (Normal, Poisson or Binomial)\n",
    "samples = 10000 \n",
    "distribution = 'Normal'\n",
    "#select normal distribution parameters\n",
    "mean=0 \n",
    "sd=1\n",
    "#select poisson distribution parameter\n",
    "mu=3\n",
    "#select binomial distribution parameters\n",
    "n=10 \n",
    "p=0.5\n",
    "\n",
    "help(sample_distribution_func)\n",
    "\n",
    "#call function\n",
    "f_sampled_distribution = sample_distribution_func(samples=samples, distribution=distribution, \n",
    "                                            mean=mean, sd=sd, \n",
    "                                            mu=mu,   \n",
    "                                            n=n, p=p) \n",
    "\n",
    "#plot distribution\n",
    "ax = sns.distplot(f_sampled_distribution,\n",
    "                  bins=100,\n",
    "                  kde=False,\n",
    "                  color='skyblue',\n",
    "                  hist_kws={\"linewidth\": 15,'alpha':1})\n",
    "ax.set(xlabel=distribution, ylabel='Frequency')"
   ]
  },
  {
   "cell_type": "code",
   "execution_count": 6,
   "metadata": {},
   "outputs": [],
   "source": [
    "### PROGRAMMING ###\n",
    "## Object-oriented programming ##\n",
    "\n",
    "#Construct an alternative to the above solution by using one or more classes instead of a single function.\n",
    "#Instances of this distribution class should store the distribution parameters as attributes, \n",
    "#and also contain a draw method, which draws a fresh set of random numbers according to the distributions parameters,\n",
    "#and a summarise method, which prints the min, max, mean, and standard deviation of the newly drawn sample.\n",
    "\n",
    "import numpy as np\n",
    "import random\n",
    "from scipy.stats import norm\n",
    "from scipy.stats import poisson\n",
    "from scipy.stats import binom\n",
    "\n",
    "class SampleDistributionClass:\n",
    "    \"\"\"docstring\"\"\"\n",
    "\n",
    "    # Initializer / Instance attributes\n",
    "    def __init__(self, samples=10000, distribution='Normal'):\n",
    "        self.samples = samples\n",
    "        self.distribution = distribution\n",
    "        print (\"----------------------------\",\n",
    "               \"{} samples of a {} distribution selected\".format(self.samples, self.distribution),\n",
    "               \"----------------------------\", \n",
    "               sep=\"\\n\")\n",
    "    \n",
    "    # instance draw method\n",
    "    def draw(self, mean=0, sd=1, mu=3, n=10, p=0.5):\n",
    "        self.mean = mean\n",
    "        self.sd = sd\n",
    "        self.mu = mu\n",
    "        self.n = n     \n",
    "        self.p = p\n",
    "        \n",
    "        self.cls_sampled_distribution = np.zeros(shape=[self.samples, 1])\n",
    "\n",
    "        if self.distribution == \"Normal\":\n",
    "            self.cls_sampled_distribution = norm.rvs(size=self.samples, loc=self.mean, scale=self.sd)\n",
    "            print (\"----------------------------\",\n",
    "                   \"Normal distribution parameters: mean = {}; standard deviation = {}\".format(self.mean, self.sd),\n",
    "                   \"----------------------------\", \n",
    "                   sep=\"\\n\")\n",
    "            return self.cls_sampled_distribution\n",
    "        \n",
    "        elif self.distribution == \"Poisson\":\n",
    "            self.cls_sampled_distribution = poisson.rvs(size=self.samples, mu=self.mu)\n",
    "            print (\"----------------------------\",\n",
    "                   \"Poisson distribution parameter: rate = {}\".format(self.mu),\n",
    "                   \"----------------------------\",\n",
    "                   sep=\"\\n\")\n",
    "            return self.cls_sampled_distribution\n",
    "        \n",
    "        elif self.distribution == \"Binomial\":\n",
    "            self.cls_sampled_distribution = binom.rvs(size=self.samples, n=self.n, p=self.p)\n",
    "            print (\"----------------------------\",\n",
    "                   \"Binomial distribution parameters: number of trials = {}; probability = {}\".format(self.n, self.p),\n",
    "                   \"----------------------------\",\n",
    "                   sep=\"\\n\")\n",
    "            return self.cls_sampled_distribution\n",
    "        \n",
    "        else:\n",
    "            print (\"----------------------------\",\n",
    "                   \"ERROR!: {} distribution is not defined within function\".format(self.distribution),\n",
    "                   \"----------------------------\",\n",
    "                   sep=\"\\n\")\n",
    "            \n",
    "     # instance summarise method\n",
    "    def summarise(self):\n",
    "        self.summary_min = self.cls_sampled_distribution.min()\n",
    "        self.summary_max = self.cls_sampled_distribution.max()\n",
    "        self.summary_mean = self.cls_sampled_distribution.mean()\n",
    "        self.summary_sd = self.cls_sampled_distribution.std()\n",
    "        print (\"----------------------------\",\n",
    "                \"Summary stats for {} samples of {} distribution:\".format(self.samples, self.distribution),\n",
    "               \"----------------------------\",\n",
    "               \"Min = {}\".format(self.summary_min),\n",
    "               \"Max = {}\".format(self.summary_max),\n",
    "               \"Mean = {}\".format(self.summary_mean),\n",
    "               \"Standard Deviation = {}\".format(self.summary_sd),\n",
    "               \"END\",\n",
    "               sep=\"\\n\")"
   ]
  },
  {
   "cell_type": "code",
   "execution_count": 10,
   "metadata": {
    "scrolled": false
   },
   "outputs": [
    {
     "name": "stdout",
     "output_type": "stream",
     "text": [
      "----------------------------\n",
      "10000 samples of a Normal distribution selected\n",
      "----------------------------\n",
      "----------------------------\n",
      "Normal distribution parameters: mean = 0; standard deviation = 1\n",
      "----------------------------\n",
      "----------------------------\n",
      "Summary stats for 10000 samples of Normal distribution:\n",
      "----------------------------\n",
      "Min = -4.091848103544985\n",
      "Max = 3.675990752775589\n",
      "Mean = 0.005956071016956793\n",
      "Standard Deviation = 1.0049995068719457\n",
      "END\n"
     ]
    },
    {
     "name": "stderr",
     "output_type": "stream",
     "text": [
      "/anaconda3/lib/python3.6/site-packages/matplotlib/axes/_axes.py:6462: UserWarning: The 'normed' kwarg is deprecated, and has been replaced by the 'density' kwarg.\n",
      "  warnings.warn(\"The 'normed' kwarg is deprecated, and has been \"\n"
     ]
    },
    {
     "data": {
      "text/plain": [
       "[Text(0,0.5,'Frequency'), Text(0.5,0,'Normal')]"
      ]
     },
     "execution_count": 10,
     "metadata": {},
     "output_type": "execute_result"
    },
    {
     "data": {
      "image/png": "[encoded data removed]",
      "text/plain": [
       "<Figure size 432x288 with 1 Axes>"
      ]
     },
     "metadata": {},
     "output_type": "display_data"
    }
   ],
   "source": [
    "import matplotlib.pyplot as plt\n",
    "import seaborn as sns\n",
    "\n",
    "#Default parameters\n",
    "#select sample size and distribution (Normal, Poisson or Binomial)\n",
    "samples = 10000\n",
    "distribution = 'Normal'\n",
    "#select normal distribution parameters\n",
    "mean=0 \n",
    "sd=1\n",
    "#select poisson distribution parameter\n",
    "mu=3\n",
    "#select binomial distribution parameters\n",
    "n=10 \n",
    "p=0.5\n",
    "\n",
    "# Create an instance of SampleDistributionClass with Normal parameters\n",
    "default_instance = SampleDistributionClass()\n",
    "# Draw samples from selected distribution\n",
    "cls_sampled_distribution = default_instance.draw()\n",
    "# Summarise selected disribution\n",
    "default_instance.summarise()\n",
    "\n",
    "#plot distribution\n",
    "ax = sns.distplot(cls_sampled_distribution,\n",
    "                  bins=100,\n",
    "                  kde=False,\n",
    "                  color='skyblue',\n",
    "                  hist_kws={\"linewidth\": 15,'alpha':1})\n",
    "ax.set(xlabel=distribution, ylabel='Frequency')"
   ]
  },
  {
   "cell_type": "code",
   "execution_count": 11,
   "metadata": {},
   "outputs": [
    {
     "name": "stdout",
     "output_type": "stream",
     "text": [
      "----------------------------\n",
      "10000 samples of a Normal distribution selected\n",
      "----------------------------\n",
      "----------------------------\n",
      "Normal distribution parameters: mean = 0; standard deviation = 1\n",
      "----------------------------\n",
      "----------------------------\n",
      "Summary stats for 10000 samples of Normal distribution:\n",
      "----------------------------\n",
      "Min = -4.219613787697406\n",
      "Max = 3.880611114306182\n",
      "Mean = -0.004760629024133421\n",
      "Standard Deviation = 1.006999646160139\n",
      "END\n"
     ]
    },
    {
     "name": "stderr",
     "output_type": "stream",
     "text": [
      "/anaconda3/lib/python3.6/site-packages/matplotlib/axes/_axes.py:6462: UserWarning: The 'normed' kwarg is deprecated, and has been replaced by the 'density' kwarg.\n",
      "  warnings.warn(\"The 'normed' kwarg is deprecated, and has been \"\n"
     ]
    },
    {
     "data": {
      "text/plain": [
       "[Text(0,0.5,'Frequency'), Text(0.5,0,'Normal')]"
      ]
     },
     "execution_count": 11,
     "metadata": {},
     "output_type": "execute_result"
    },
    {
     "data": {
      "image/png": "[encoded data removed]",
      "text/plain": [
       "<Figure size 432x288 with 1 Axes>"
      ]
     },
     "metadata": {},
     "output_type": "display_data"
    }
   ],
   "source": [
    "#select sample size and distribution (Normal, Poisson or Binomial)\n",
    "samples = 10000\n",
    "distribution = 'Normal'\n",
    "#select normal distribution parameters\n",
    "mean=0 \n",
    "sd=1\n",
    "\n",
    "# Create an instance of SampleDistributionClass with Normal parameters\n",
    "normal_instance = SampleDistributionClass(samples=samples, distribution=distribution)\n",
    "# Draw samples from selected distribution\n",
    "cls_sampled_distribution = normal_instance.draw(mean=0, sd=1)\n",
    "# Summarise selected distribution\n",
    "normal_instance.summarise()\n",
    "\n",
    "#plot distribution\n",
    "ax = sns.distplot(cls_sampled_distribution,\n",
    "                  bins=100,\n",
    "                  kde=False,\n",
    "                  color='skyblue',\n",
    "                  hist_kws={\"linewidth\": 15,'alpha':1})\n",
    "ax.set(xlabel=distribution, ylabel='Frequency')"
   ]
  },
  {
   "cell_type": "code",
   "execution_count": 12,
   "metadata": {},
   "outputs": [
    {
     "name": "stdout",
     "output_type": "stream",
     "text": [
      "----------------------------\n",
      "10000 samples of a Poisson distribution selected\n",
      "----------------------------\n",
      "----------------------------\n",
      "Poisson distribution parameter: rate = 3\n",
      "----------------------------\n",
      "----------------------------\n",
      "Summary stats for 10000 samples of Poisson distribution:\n",
      "----------------------------\n",
      "Min = 0\n",
      "Max = 11\n",
      "Mean = 2.9993\n",
      "Standard Deviation = 1.7357705810388653\n",
      "END\n"
     ]
    },
    {
     "name": "stderr",
     "output_type": "stream",
     "text": [
      "/anaconda3/lib/python3.6/site-packages/matplotlib/axes/_axes.py:6462: UserWarning: The 'normed' kwarg is deprecated, and has been replaced by the 'density' kwarg.\n",
      "  warnings.warn(\"The 'normed' kwarg is deprecated, and has been \"\n"
     ]
    },
    {
     "data": {
      "text/plain": [
       "[Text(0,0.5,'Frequency'), Text(0.5,0,'Poisson')]"
      ]
     },
     "execution_count": 12,
     "metadata": {},
     "output_type": "execute_result"
    },
    {
     "data": {
      "image/png": "[encoded data removed]",
      "text/plain": [
       "<Figure size 432x288 with 1 Axes>"
      ]
     },
     "metadata": {},
     "output_type": "display_data"
    }
   ],
   "source": [
    "#select sample size and distribution (Normal, Poisson or Binomial)\n",
    "samples = 10000\n",
    "distribution = 'Poisson'\n",
    "\n",
    "#select poisson distribution parameter\n",
    "mu=3\n",
    "\n",
    "# Create an instance of SampleDistributionClass with Poisson parameters\n",
    "poisson_instance = SampleDistributionClass(samples=samples, distribution=distribution)\n",
    "# Draw samples from selected distribution\n",
    "cls_sampled_distribution = poisson_instance.draw()\n",
    "# Summarise selected distribution\n",
    "poisson_instance.summarise()\n",
    "\n",
    "#plot distribution\n",
    "ax = sns.distplot(cls_sampled_distribution,\n",
    "                  bins=100,\n",
    "                  kde=False,\n",
    "                  color='skyblue',\n",
    "                  hist_kws={\"linewidth\": 15,'alpha':1})\n",
    "ax.set(xlabel=distribution, ylabel='Frequency')"
   ]
  },
  {
   "cell_type": "code",
   "execution_count": 25,
   "metadata": {},
   "outputs": [
    {
     "name": "stdout",
     "output_type": "stream",
     "text": [
      "----------------------------\n",
      "100 samples of a Binomial distribution selected\n",
      "----------------------------\n",
      "----------------------------\n",
      "Binomial distribution parameters: number of trials = 10; probability = 0.5\n",
      "----------------------------\n",
      "----------------------------\n",
      "Summary stats for 100 samples of Binomial distribution:\n",
      "----------------------------\n",
      "Min = 1\n",
      "Max = 8\n",
      "Mean = 4.94\n",
      "Standard Deviation = 1.5480310074413886\n",
      "END\n"
     ]
    },
    {
     "name": "stderr",
     "output_type": "stream",
     "text": [
      "/anaconda3/lib/python3.6/site-packages/matplotlib/axes/_axes.py:6462: UserWarning: The 'normed' kwarg is deprecated, and has been replaced by the 'density' kwarg.\n",
      "  warnings.warn(\"The 'normed' kwarg is deprecated, and has been \"\n"
     ]
    },
    {
     "data": {
      "text/plain": [
       "[Text(0,0.5,'Frequency'), Text(0.5,0,'Binomial')]"
      ]
     },
     "execution_count": 25,
     "metadata": {},
     "output_type": "execute_result"
    },
    {
     "data": {
      "image/png": "[encoded data removed]",
      "text/plain": [
       "<Figure size 432x288 with 1 Axes>"
      ]
     },
     "metadata": {},
     "output_type": "display_data"
    }
   ],
   "source": [
    "#select sample size and distribution (Normal, Poisson or Binomial)\n",
    "samples = 10000\n",
    "distribution = 'Binomial'\n",
    "\n",
    "#select binomial distribution parameters\n",
    "n=10 \n",
    "p=0.5\n",
    "\n",
    "# Create an instance of SampleDistributionClass with Binomial parameters\n",
    "binomial_instance = SampleDistributionClass(samples=100, distribution='Binomial')\n",
    "# Draw samples from selected distribution \n",
    "cls_sampled_distribution = binomial_instance.draw()\n",
    "# Summarise selected distribution\n",
    "binomial_instance.summarise()\n",
    "\n",
    "#plot distribution\n",
    "ax = sns.distplot(cls_sampled_distribution,\n",
    "                  bins=100,\n",
    "                  kde=False,\n",
    "                  color='skyblue',\n",
    "                  hist_kws={\"linewidth\": 15,'alpha':1})\n",
    "ax.set(xlabel=distribution, ylabel='Frequency')"
   ]
  },
  {
   "cell_type": "code",
   "execution_count": 21,
   "metadata": {},
   "outputs": [
    {
     "name": "stdout",
     "output_type": "stream",
     "text": [
      "----------------------------\n",
      "10000 samples of a Other distribution selected\n",
      "----------------------------\n",
      "----------------------------\n",
      "ERROR!: Other distribution is not defined within function\n",
      "----------------------------\n",
      "----------------------------\n",
      "Summary stats for 10000 samples of Other distribution:\n",
      "----------------------------\n",
      "Min = 0.0\n",
      "Max = 0.0\n",
      "Mean = 0.0\n",
      "Standard Deviation = 0.0\n",
      "END\n"
     ]
    }
   ],
   "source": [
    "#select sample size and distribution (Normal, Poisson or Binomial)\n",
    "samples = 10000\n",
    "distribution = 'Other'\n",
    "\n",
    "# Create an instance of SampleDistributionClass with Other parameters\n",
    "other_instance = SampleDistributionClass(samples=samples, distribution=distribution)\n",
    "# Draw samples from selected distribution \n",
    "cls_sampled_distribution = other_instance.draw()\n",
    "# Summarise selected distribution\n",
    "other_instance.summarise()"
   ]
  },
  {
   "cell_type": "code",
   "execution_count": 22,
   "metadata": {},
   "outputs": [],
   "source": [
    "### PROGRAMMING ###\n",
    "## Package Building ##\n",
    "\n",
    "#Build a package containing the functions and classes above. \n",
    "#Use any tools as necessary. Include instructions on how the package can be installed."
   ]
  }
 ],
 "metadata": {
  "kernelspec": {
   "display_name": "Python 3",
   "language": "python",
   "name": "python3"
  },
  "language_info": {
   "codemirror_mode": {
    "name": "ipython",
    "version": 3
   },
   "file_extension": ".py",
   "mimetype": "text/x-python",
   "name": "python",
   "nbconvert_exporter": "python",
   "pygments_lexer": "ipython3",
   "version": "3.6.5"
  }
 },
 "nbformat": 4,
 "nbformat_minor": 2
}
