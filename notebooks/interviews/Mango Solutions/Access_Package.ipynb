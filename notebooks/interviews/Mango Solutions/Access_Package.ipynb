{
 "cells": [
  {
   "cell_type": "code",
   "execution_count": 1,
   "metadata": {},
   "outputs": [],
   "source": [
    "# Import package\n",
    "from dilip_albert_package import dilip_albert_function as daf\n",
    "from dilip_albert_package import dilip_albert_class as dac"
   ]
  },
  {
   "cell_type": "code",
   "execution_count": 2,
   "metadata": {},
   "outputs": [
    {
     "name": "stdout",
     "output_type": "stream",
     "text": [
      "Help on function sample_distribution_func in module dilip_albert_package.dilip_albert_function:\n",
      "\n",
      "sample_distribution_func(samples, distribution, mean=0, sd=1, mu=3, n=10, p=0.5)\n",
      "    This function will draw random numbers from a given distribution (Normal, Poisson, Binomial).\n",
      "    \n",
      "    It takes one argument for the number of samples and a second argument which specifies the\n",
      "    distribution (Normal, Poisson or Binomial). \n",
      "    \n",
      "    The function can also handle additional parameters depending on the distribution chosen\n",
      "\n",
      "10000 samples of a Normal distribution with parameter values of mean = 0 and sd = 1\n"
     ]
    },
    {
     "name": "stderr",
     "output_type": "stream",
     "text": [
      "/anaconda3/lib/python3.6/site-packages/matplotlib/axes/_axes.py:6462: UserWarning: The 'normed' kwarg is deprecated, and has been replaced by the 'density' kwarg.\n",
      "  warnings.warn(\"The 'normed' kwarg is deprecated, and has been \"\n"
     ]
    },
    {
     "data": {
      "text/plain": [
       "[Text(0,0.5,'Frequency'), Text(0.5,0,'Normal')]"
      ]
     },
     "execution_count": 2,
     "metadata": {},
     "output_type": "execute_result"
    },
    {
     "data": {
      "image/png": "[encoded data removed]",
      "text/plain": [
       "<Figure size 432x288 with 1 Axes>"
      ]
     },
     "metadata": {},
     "output_type": "display_data"
    }
   ],
   "source": [
    "## FUNCTION ##\n",
    "\n",
    "import numpy as np\n",
    "import random\n",
    "\n",
    "import matplotlib.pyplot as plt\n",
    "import seaborn as sns\n",
    "\n",
    "from scipy.stats import norm\n",
    "from scipy.stats import poisson\n",
    "from scipy.stats import binom\n",
    "\n",
    "#select sample size and distribution (Normal, Poisson or Binomial)\n",
    "samples = 10000 \n",
    "distribution = 'Normal'\n",
    "#select normal distribution parameters\n",
    "mean=0 \n",
    "sd=1\n",
    "#select poisson distribution parameter\n",
    "mu=3\n",
    "#select binomial distribution parameters\n",
    "n=10 \n",
    "p=0.5\n",
    "\n",
    "help(daf.sample_distribution_func)\n",
    "\n",
    "#call function\n",
    "f_sampled_distribution = daf.sample_distribution_func(samples=samples, distribution=distribution, \n",
    "                                            mean=mean, sd=sd, \n",
    "                                            mu=mu,   \n",
    "                                            n=n, p=p) \n",
    "\n",
    "#plot distribution\n",
    "ax = sns.distplot(f_sampled_distribution,\n",
    "                  bins=100,\n",
    "                  kde=False,\n",
    "                  color='skyblue',\n",
    "                  hist_kws={\"linewidth\": 15,'alpha':1})\n",
    "ax.set(xlabel=distribution, ylabel='Frequency')"
   ]
  },
  {
   "cell_type": "code",
   "execution_count": 3,
   "metadata": {},
   "outputs": [
    {
     "name": "stdout",
     "output_type": "stream",
     "text": [
      "----------------------------\n",
      "10000 samples of a Normal distribution selected\n",
      "----------------------------\n",
      "----------------------------\n",
      "Normal distribution parameters: mean = 0; standard deviation = 1\n",
      "----------------------------\n",
      "----------------------------\n",
      "Summary stats for 10000 samples of Normal distribution:\n",
      "----------------------------\n",
      "Min = -3.4329427768946132\n",
      "Max = 3.6165610209496837\n",
      "Mean = -0.004287168479975859\n",
      "Standard Deviation = 1.006442272286898\n",
      "END\n"
     ]
    }
   ],
   "source": [
    "## CLASS ##\n",
    "\n",
    "# Create an instance of SampleDistributionClass with default parameters\n",
    "default_instance = dac.SampleDistributionClass()\n",
    "# Draw samples from selected distribution\n",
    "default_instance.draw()\n",
    "# Summarise selected distribution\n",
    "default_instance.summarise()"
   ]
  },
  {
   "cell_type": "code",
   "execution_count": 4,
   "metadata": {},
   "outputs": [
    {
     "name": "stdout",
     "output_type": "stream",
     "text": [
      "----------------------------\n",
      "100 samples of a Normal distribution selected\n",
      "----------------------------\n",
      "----------------------------\n",
      "Normal distribution parameters: mean = 1; standard deviation = 2\n",
      "----------------------------\n",
      "----------------------------\n",
      "Summary stats for 100 samples of Normal distribution:\n",
      "----------------------------\n",
      "Min = -4.416871720244106\n",
      "Max = 6.281828399770644\n",
      "Mean = 1.3235941355879302\n",
      "Standard Deviation = 1.792322441123874\n",
      "END\n"
     ]
    }
   ],
   "source": [
    "## CLASS ##\n",
    "\n",
    "# Create an instance of SampleDistributionClass with Normal parameters\n",
    "normal_instance = dac.SampleDistributionClass(samples=100, distribution='Normal')\n",
    "# Draw samples from selected distribution\n",
    "normal_instance.draw(mean=1,sd=2)\n",
    "# Summarise selected distribution\n",
    "normal_instance.summarise()"
   ]
  },
  {
   "cell_type": "code",
   "execution_count": 5,
   "metadata": {},
   "outputs": [
    {
     "name": "stdout",
     "output_type": "stream",
     "text": [
      "----------------------------\n",
      "100 samples of a Poisson distribution selected\n",
      "----------------------------\n",
      "----------------------------\n",
      "Poisson distribution parameter: rate = 3\n",
      "----------------------------\n",
      "----------------------------\n",
      "Summary stats for 100 samples of Poisson distribution:\n",
      "----------------------------\n",
      "Min = 0\n",
      "Max = 8\n",
      "Mean = 3.1\n",
      "Standard Deviation = 1.565247584249853\n",
      "END\n"
     ]
    }
   ],
   "source": [
    "## CLASS ##\n",
    "\n",
    "# Create an instance of SampleDistributionClass with Poisson parameters\n",
    "poisson_instance = dac.SampleDistributionClass(samples=100, distribution='Poisson')\n",
    "# Draw samples from selected distribution\n",
    "poisson_instance.draw(mu=3)\n",
    "# Summarise selected distribution\n",
    "poisson_instance.summarise()"
   ]
  },
  {
   "cell_type": "code",
   "execution_count": 6,
   "metadata": {},
   "outputs": [
    {
     "name": "stdout",
     "output_type": "stream",
     "text": [
      "----------------------------\n",
      "100 samples of a Binomial distribution selected\n",
      "----------------------------\n",
      "----------------------------\n",
      "Binomial distribution parameters: number of trials = 10; probability = 0.5\n",
      "----------------------------\n",
      "----------------------------\n",
      "Summary stats for 100 samples of Binomial distribution:\n",
      "----------------------------\n",
      "Min = 1\n",
      "Max = 9\n",
      "Mean = 5.11\n",
      "Standard Deviation = 1.4959612294441322\n",
      "END\n"
     ]
    }
   ],
   "source": [
    "## CLASS ##\n",
    "\n",
    "# Create an instance of SampleDistributionClass with Binomial parameters\n",
    "binomial_instance = dac.SampleDistributionClass(samples=100, distribution='Binomial')\n",
    "# Draw samples from selected distribution \n",
    "binomial_instance.draw(n=10, p=0.5)\n",
    "# Summarise selected distribution\n",
    "binomial_instance.summarise()"
   ]
  },
  {
   "cell_type": "code",
   "execution_count": 7,
   "metadata": {},
   "outputs": [
    {
     "name": "stdout",
     "output_type": "stream",
     "text": [
      "----------------------------\n",
      "100 samples of a Other distribution selected\n",
      "----------------------------\n",
      "----------------------------\n",
      "ERROR!: Other distribution is not defined within function\n",
      "----------------------------\n",
      "----------------------------\n",
      "Summary stats for 100 samples of Other distribution:\n",
      "----------------------------\n",
      "Min = 0.0\n",
      "Max = 0.0\n",
      "Mean = 0.0\n",
      "Standard Deviation = 0.0\n",
      "END\n"
     ]
    }
   ],
   "source": [
    "## CLASS ##\n",
    "\n",
    "# Create an instance of SampleDistributionClass with Other parameters\n",
    "other_instance = dac.SampleDistributionClass(samples=100, distribution='Other')\n",
    "# Draw samples from selected distribution \n",
    "other_instance.draw()\n",
    "# Summarise selected distribution\n",
    "other_instance.summarise()"
   ]
  }
 ],
 "metadata": {
  "kernelspec": {
   "display_name": "Python 3",
   "language": "python",
   "name": "python3"
  },
  "language_info": {
   "codemirror_mode": {
    "name": "ipython",
    "version": 3
   },
   "file_extension": ".py",
   "mimetype": "text/x-python",
   "name": "python",
   "nbconvert_exporter": "python",
   "pygments_lexer": "ipython3",
   "version": "3.6.5"
  }
 },
 "nbformat": 4,
 "nbformat_minor": 2
}
