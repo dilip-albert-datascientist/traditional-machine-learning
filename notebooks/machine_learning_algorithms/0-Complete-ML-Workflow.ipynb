{
 "cells": [
  {
   "cell_type": "code",
   "execution_count": 1,
   "metadata": {},
   "outputs": [],
   "source": [
    "# Display HTML\n",
    "from IPython.display import Image\n",
    "from IPython.core.display import HTML "
   ]
  },
  {
   "cell_type": "markdown",
   "metadata": {},
   "source": [
    "# Complete Machine Learning Workflow"
   ]
  },
  {
   "cell_type": "raw",
   "metadata": {},
   "source": [
    "1. Recipe for Project\n",
    "\n",
    "-\n",
    "-\n",
    "-"
   ]
  },
  {
   "cell_type": "raw",
   "metadata": {},
   "source": [
    "2. Input Data\n",
    "\n",
    "-\n",
    "-\n",
    "-"
   ]
  },
  {
   "cell_type": "raw",
   "metadata": {},
   "source": [
    "3. EDA\n",
    "\n",
    "- First Inspection\n",
    "    \n",
    "- Automated\n",
    "\n",
    "- Manual\n"
   ]
  },
  {
   "cell_type": "raw",
   "metadata": {},
   "source": [
    "4. Verifying Assumptions / Technical Conditions\n",
    "\n",
    "- Linear regression\n",
    "    - L: Linear model\n",
    "    - I: Independent Observations\n",
    "    - N: Normally distributed points around the line\n",
    "    - E: Equal variability around the line for all values of the explanatory variable\n",
    "    \n",
    "-\n",
    "-"
   ]
  },
  {
   "cell_type": "raw",
   "metadata": {},
   "source": [
    "5. Preprocessing\n",
    "\n",
    "- Missing\n",
    "- Transforms\n",
    "- Outliers\n",
    "- Scaling\n",
    "- Class Imbalance"
   ]
  },
  {
   "cell_type": "code",
   "execution_count": 3,
   "metadata": {
    "jupyter": {
     "source_hidden": true
    }
   },
   "outputs": [
    {
     "data": {
      "text/html": [
       "<img src=\"https://assets.datacamp.com/production/repositories/4983/datasets/238dde66d8af1b7ebd8ffe82de9df60ad6a68d22/preprocessing3.png\"/>"
      ],
      "text/plain": [
       "<IPython.core.display.Image object>"
      ]
     },
     "execution_count": 3,
     "metadata": {},
     "output_type": "execute_result"
    }
   ],
   "source": [
    "Image(url= \"https://assets.datacamp.com/production/repositories/4983/datasets/238dde66d8af1b7ebd8ffe82de9df60ad6a68d22/preprocessing3.png\")"
   ]
  },
  {
   "cell_type": "raw",
   "metadata": {},
   "source": [
    "6. Feature Selection and/or Extraction\n",
    "\n",
    "-\n",
    "-\n",
    "-"
   ]
  },
  {
   "cell_type": "raw",
   "metadata": {},
   "source": [
    "7. Model Building\n",
    "\n",
    "- Baseline model\n",
    "\n",
    "- Fit\n",
    "- Predict\n",
    "- Evaluate\n",
    "- Hyperparameter Tuning\n",
    "- Validate"
   ]
  },
  {
   "cell_type": "code",
   "execution_count": 2,
   "metadata": {
    "jupyter": {
     "source_hidden": true
    }
   },
   "outputs": [
    {
     "data": {
      "text/html": [
       "<img src=\"https://assets.datacamp.com/production/repositories/4983/datasets/d969eb14e3e86ac140949a4c83204a1dc45302a5/pipeline-2.png\"/>"
      ],
      "text/plain": [
       "<IPython.core.display.Image object>"
      ]
     },
     "execution_count": 2,
     "metadata": {},
     "output_type": "execute_result"
    }
   ],
   "source": [
    "Image(url= \"https://assets.datacamp.com/production/repositories/4983/datasets/d969eb14e3e86ac140949a4c83204a1dc45302a5/pipeline-2.png\")"
   ]
  },
  {
   "cell_type": "raw",
   "metadata": {},
   "source": [
    "8. Model Deployment\n",
    "\n",
    "-\n",
    "-\n",
    "-"
   ]
  },
  {
   "cell_type": "raw",
   "metadata": {},
   "source": [
    "9. Model Maintenance\n",
    "\n",
    "- Dataset shift detection\n",
    "    - Temporal\n",
    "    - Domain\n",
    "    \n",
    "-"
   ]
  },
  {
   "cell_type": "code",
   "execution_count": null,
   "metadata": {},
   "outputs": [],
   "source": []
  },
  {
   "cell_type": "code",
   "execution_count": null,
   "metadata": {},
   "outputs": [],
   "source": []
  }
 ],
 "metadata": {
  "environment": {
   "name": "common-cpu.m61",
   "type": "gcloud",
   "uri": "gcr.io/deeplearning-platform-release/base-cpu:m61"
  },
  "kernelspec": {
   "display_name": "Python 3",
   "language": "python",
   "name": "python3"
  },
  "language_info": {
   "codemirror_mode": {
    "name": "ipython",
    "version": 3
   },
   "file_extension": ".py",
   "mimetype": "text/x-python",
   "name": "python",
   "nbconvert_exporter": "python",
   "pygments_lexer": "ipython3",
   "version": "3.7.9"
  }
 },
 "nbformat": 4,
 "nbformat_minor": 4
}
