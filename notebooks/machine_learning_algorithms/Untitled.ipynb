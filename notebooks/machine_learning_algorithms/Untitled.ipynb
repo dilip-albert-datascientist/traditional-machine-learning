{
 "cells": [
  {
   "cell_type": "code",
   "execution_count": null,
   "metadata": {},
   "outputs": [],
   "source": [
    "Lunchbox with 5 sandwiches\n",
    "\n",
    "3 sandwiches ham & 2 are cheese"
   ]
  },
  {
   "cell_type": "code",
   "execution_count": null,
   "metadata": {},
   "outputs": [],
   "source": [
    "(2/5 * 2/5) + (3/5 * 3/5)\n",
    "\n",
    "= (0.4 * 0.4) + (0.6 * 0.6)\n",
    "\n",
    "0.16 + 0.36 = 0.52"
   ]
  },
  {
   "cell_type": "code",
   "execution_count": null,
   "metadata": {},
   "outputs": [],
   "source": [
    "(2/5 * 1/4) + (3/5 * 2/4)\n",
    "\n",
    "= (0.4 * 0.25) + (0.6 * 0.5)\n",
    "\n",
    "= - 0.1 + 0.3\n",
    "\n",
    "= 2 / 5"
   ]
  },
  {
   "cell_type": "code",
   "execution_count": null,
   "metadata": {},
   "outputs": [],
   "source": [
    "Stock prices per day"
   ]
  },
  {
   "cell_type": "code",
   "execution_count": 2,
   "metadata": {},
   "outputs": [
    {
     "data": {
      "text/plain": [
       "[6, 13, 2, 10, 3, 5]"
      ]
     },
     "execution_count": 2,
     "metadata": {},
     "output_type": "execute_result"
    }
   ],
   "source": [
    "stock_prices = [6,13,2,10,3,5]\n",
    "stock_prices"
   ]
  },
  {
   "cell_type": "code",
   "execution_count": null,
   "metadata": {},
   "outputs": [],
   "source": [
    "cust_id             year      sales\n",
    "\n",
    "      1                 2019     10\n",
    "\n",
    "      1                 2019     20\n",
    "\n",
    "      1                 2020     20\n",
    "\n",
    "      2                 2020     30\n",
    "\n",
    "      3                 2018     40\n",
    "\n",
    "      4                 2020     50\n",
    "\n",
    "      5                 2019     50\n",
    "\n",
    "      5                 2020     50\n",
    "\n",
    "      6                 2019     30\n",
    "\n",
    "      6                 2019     40"
   ]
  },
  {
   "cell_type": "code",
   "execution_count": null,
   "metadata": {},
   "outputs": [],
   "source": []
  },
  {
   "cell_type": "code",
   "execution_count": 44,
   "metadata": {},
   "outputs": [],
   "source": [
    "stock_prices = [6,13,6,2,10,3,5]"
   ]
  },
  {
   "cell_type": "code",
   "execution_count": 45,
   "metadata": {},
   "outputs": [
    {
     "name": "stdout",
     "output_type": "stream",
     "text": [
      "[(6, 13), (6, 2), (6, 10), (6, 3), (6, 5), (13, 2), (13, 10), (13, 3), (13, 5), (6, 13), (6, 2), (6, 10), (6, 3), (6, 5), (2, 10), (2, 3), (2, 5), (10, 3), (10, 5), (3, 5)]\n",
      "7\n",
      "-4\n",
      "4\n",
      "-3\n",
      "-1\n",
      "-11\n",
      "-3\n",
      "-10\n",
      "-8\n",
      "7\n",
      "-4\n",
      "4\n",
      "-3\n",
      "-1\n",
      "8\n",
      "1\n",
      "3\n",
      "-7\n",
      "-5\n",
      "2\n"
     ]
    },
    {
     "data": {
      "text/plain": [
       "8"
      ]
     },
     "execution_count": 45,
     "metadata": {},
     "output_type": "execute_result"
    }
   ],
   "source": [
    "buy_sell_pairs = [(buy, sell) for buy in stock_prices for sell in stock_prices if stock_prices.index(buy) < stock_prices.index(sell)]\n",
    "print(buy_sell_pairs)\n",
    "\n",
    "profit_list = []\n",
    "\n",
    "for buy, sell in buy_sell_pairs:\n",
    "    profit = sell - buy\n",
    "    print(profit)\n",
    "    profit_list.append(profit)\n",
    "\n",
    "max_profit = max(profit_list)\n",
    "max_profit"
   ]
  },
  {
   "cell_type": "code",
   "execution_count": 42,
   "metadata": {},
   "outputs": [
    {
     "data": {
      "text/plain": [
       "0.52"
      ]
     },
     "execution_count": 42,
     "metadata": {},
     "output_type": "execute_result"
    }
   ],
   "source": [
    "(0.4 * 0.4) + (0.6 * 0.6)"
   ]
  },
  {
   "cell_type": "code",
   "execution_count": null,
   "metadata": {},
   "outputs": [],
   "source": []
  }
 ],
 "metadata": {
  "environment": {
   "name": "common-cpu.m61",
   "type": "gcloud",
   "uri": "gcr.io/deeplearning-platform-release/base-cpu:m61"
  },
  "kernelspec": {
   "display_name": "Python 3",
   "language": "python",
   "name": "python3"
  },
  "language_info": {
   "codemirror_mode": {
    "name": "ipython",
    "version": 3
   },
   "file_extension": ".py",
   "mimetype": "text/x-python",
   "name": "python",
   "nbconvert_exporter": "python",
   "pygments_lexer": "ipython3",
   "version": "3.7.9"
  }
 },
 "nbformat": 4,
 "nbformat_minor": 4
}
